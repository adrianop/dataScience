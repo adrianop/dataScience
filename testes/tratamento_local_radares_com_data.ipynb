{
 "cells": [
  {
   "cell_type": "markdown",
   "id": "411af839",
   "metadata": {},
   "source": [
    "# Tratamento das base de dados das localizações dos radares eletrônicos"
   ]
  },
  {
   "cell_type": "markdown",
   "id": "ff8fa0eb",
   "metadata": {},
   "source": [
    "### Localização das bases"
   ]
  },
  {
   "cell_type": "markdown",
   "id": "60f3264d",
   "metadata": {},
   "source": [
    "#### ANTT: https://dados.antt.gov.br/dataset/radar/resource/0e56291a-1092-45d5-b89a-d66b2a89dff4"
   ]
  },
  {
   "cell_type": "markdown",
   "id": "7db837b0",
   "metadata": {},
   "source": [
    "#### DNIT: https://servicos.dnit.gov.br/multas/informacoes/equipamentos-fiscalizacao"
   ]
  },
  {
   "cell_type": "markdown",
   "id": "6660af70",
   "metadata": {},
   "source": [
    "# DER-SP: https://www.der.sp.gov.br/WebSite/Servicos/ConjuntoDados.aspx?tema=Ativos_Rodoviarios&conjunto=Radar"
   ]
  },
  {
   "cell_type": "code",
   "execution_count": 1,
   "id": "3f1924e4",
   "metadata": {},
   "outputs": [
    {
     "name": "stdout",
     "output_type": "stream",
     "text": [
      "Requirement already satisfied: nbformat in c:\\users\\pertile\\appdata\\local\\programs\\python\\python311\\lib\\site-packages (5.10.4)\n",
      "Requirement already satisfied: fastjsonschema>=2.15 in c:\\users\\pertile\\appdata\\local\\programs\\python\\python311\\lib\\site-packages (from nbformat) (2.21.1)\n",
      "Requirement already satisfied: jsonschema>=2.6 in c:\\users\\pertile\\appdata\\local\\programs\\python\\python311\\lib\\site-packages (from nbformat) (4.23.0)\n",
      "Requirement already satisfied: jupyter-core!=5.0.*,>=4.12 in c:\\users\\pertile\\appdata\\roaming\\python\\python311\\site-packages (from nbformat) (5.7.2)\n",
      "Requirement already satisfied: traitlets>=5.1 in c:\\users\\pertile\\appdata\\roaming\\python\\python311\\site-packages (from nbformat) (5.14.3)\n",
      "Requirement already satisfied: attrs>=22.2.0 in c:\\users\\pertile\\appdata\\local\\programs\\python\\python311\\lib\\site-packages (from jsonschema>=2.6->nbformat) (25.3.0)\n",
      "Requirement already satisfied: jsonschema-specifications>=2023.03.6 in c:\\users\\pertile\\appdata\\local\\programs\\python\\python311\\lib\\site-packages (from jsonschema>=2.6->nbformat) (2025.4.1)\n",
      "Requirement already satisfied: referencing>=0.28.4 in c:\\users\\pertile\\appdata\\local\\programs\\python\\python311\\lib\\site-packages (from jsonschema>=2.6->nbformat) (0.36.2)\n",
      "Requirement already satisfied: rpds-py>=0.7.1 in c:\\users\\pertile\\appdata\\local\\programs\\python\\python311\\lib\\site-packages (from jsonschema>=2.6->nbformat) (0.24.0)\n",
      "Requirement already satisfied: platformdirs>=2.5 in c:\\users\\pertile\\appdata\\roaming\\python\\python311\\site-packages (from jupyter-core!=5.0.*,>=4.12->nbformat) (4.3.6)\n",
      "Requirement already satisfied: pywin32>=300 in c:\\users\\pertile\\appdata\\roaming\\python\\python311\\site-packages (from jupyter-core!=5.0.*,>=4.12->nbformat) (308)\n",
      "Requirement already satisfied: typing-extensions>=4.4.0 in c:\\users\\pertile\\appdata\\local\\programs\\python\\python311\\lib\\site-packages (from referencing>=0.28.4->jsonschema>=2.6->nbformat) (4.12.2)\n",
      "Note: you may need to restart the kernel to use updated packages.\n",
      "Requirement already satisfied: folium in c:\\users\\pertile\\appdata\\local\\programs\\python\\python311\\lib\\site-packages (0.20.0)\n",
      "Requirement already satisfied: branca>=0.6.0 in c:\\users\\pertile\\appdata\\local\\programs\\python\\python311\\lib\\site-packages (from folium) (0.8.1)\n",
      "Requirement already satisfied: jinja2>=2.9 in c:\\users\\pertile\\appdata\\local\\programs\\python\\python311\\lib\\site-packages (from folium) (3.1.6)\n",
      "Requirement already satisfied: numpy in c:\\users\\pertile\\appdata\\local\\programs\\python\\python311\\lib\\site-packages (from folium) (1.26.4)\n",
      "Requirement already satisfied: requests in c:\\users\\pertile\\appdata\\local\\programs\\python\\python311\\lib\\site-packages (from folium) (2.32.3)\n",
      "Requirement already satisfied: xyzservices in c:\\users\\pertile\\appdata\\local\\programs\\python\\python311\\lib\\site-packages (from folium) (2025.4.0)\n",
      "Requirement already satisfied: MarkupSafe>=2.0 in c:\\users\\pertile\\appdata\\local\\programs\\python\\python311\\lib\\site-packages (from jinja2>=2.9->folium) (3.0.2)\n",
      "Requirement already satisfied: charset-normalizer<4,>=2 in c:\\users\\pertile\\appdata\\local\\programs\\python\\python311\\lib\\site-packages (from requests->folium) (3.4.0)\n",
      "Requirement already satisfied: idna<4,>=2.5 in c:\\users\\pertile\\appdata\\local\\programs\\python\\python311\\lib\\site-packages (from requests->folium) (3.10)\n",
      "Requirement already satisfied: urllib3<3,>=1.21.1 in c:\\users\\pertile\\appdata\\local\\programs\\python\\python311\\lib\\site-packages (from requests->folium) (2.2.3)\n",
      "Requirement already satisfied: certifi>=2017.4.17 in c:\\users\\pertile\\appdata\\local\\programs\\python\\python311\\lib\\site-packages (from requests->folium) (2024.12.14)\n",
      "Note: you may need to restart the kernel to use updated packages.\n"
     ]
    }
   ],
   "source": [
    "%pip install nbformat\n",
    "%pip install folium"
   ]
  },
  {
   "cell_type": "code",
   "execution_count": 2,
   "id": "22bd5c79",
   "metadata": {},
   "outputs": [],
   "source": [
    "import pandas as pd\n",
    "import folium"
   ]
  },
  {
   "cell_type": "code",
   "execution_count": 3,
   "id": "f862b6ec",
   "metadata": {},
   "outputs": [
    {
     "data": {
      "application/vnd.microsoft.datawrangler.viewer.v0+json": {
       "columns": [
        {
         "name": "index",
         "rawType": "int64",
         "type": "integer"
        },
        {
         "name": "concessionaria",
         "rawType": "object",
         "type": "string"
        },
        {
         "name": "ano_do_pnv_snv",
         "rawType": "int64",
         "type": "integer"
        },
        {
         "name": "tipo_de_radar",
         "rawType": "object",
         "type": "string"
        },
        {
         "name": "rodovia",
         "rawType": "object",
         "type": "string"
        },
        {
         "name": "uf",
         "rawType": "object",
         "type": "string"
        },
        {
         "name": "km_m",
         "rawType": "float64",
         "type": "float"
        },
        {
         "name": "municipio",
         "rawType": "object",
         "type": "string"
        },
        {
         "name": "tipo_pista",
         "rawType": "object",
         "type": "string"
        },
        {
         "name": "sentido",
         "rawType": "object",
         "type": "string"
        },
        {
         "name": "situacao",
         "rawType": "object",
         "type": "string"
        },
        {
         "name": "data_da_inativacao",
         "rawType": "float64",
         "type": "float"
        },
        {
         "name": "latitude",
         "rawType": "float64",
         "type": "float"
        },
        {
         "name": "longitude",
         "rawType": "float64",
         "type": "float"
        },
        {
         "name": "velocidade_leve",
         "rawType": "int64",
         "type": "integer"
        },
        {
         "name": "velocidade_pesado",
         "rawType": "int64",
         "type": "integer"
        },
        {
         "name": "ativacao_mes",
         "rawType": "float64",
         "type": "float"
        },
        {
         "name": "ativacao_ano",
         "rawType": "float64",
         "type": "float"
        }
       ],
       "ref": "422cd29d-7aec-4a42-8e68-31dcd9aa9496",
       "rows": [
        [
         "0",
         "AUTOPISTA LITORAL SUL",
         "2009",
         "Redutor",
         "BR-376",
         "PR",
         "664.773",
         "Guaratuba",
         "Principal",
         "Crescente",
         "Ativo",
         null,
         "-25.8582",
         "-48.9512",
         "60",
         "60",
         "10.0",
         "2013.0"
        ],
        [
         "1",
         "AUTOPISTA LITORAL SUL",
         "2009",
         "Redutor",
         "BR-376",
         "PR",
         "667.013",
         "Guaratuba",
         "Principal",
         "Crescente",
         "Ativo",
         null,
         "-25.8637",
         "-48.9348",
         "60",
         "60",
         "10.0",
         "2013.0"
        ],
        [
         "2",
         "AUTOPISTA LITORAL SUL",
         "2009",
         "Redutor",
         "BR-376",
         "PR",
         "668.334",
         "Guaratuba",
         "Principal",
         "Crescente",
         "Ativo",
         null,
         "-25.8693",
         "-48.9341",
         "60",
         "60",
         "7.0",
         "2011.0"
        ],
        [
         "3",
         "AUTOPISTA LITORAL SUL",
         "2009",
         "Redutor",
         "BR-376",
         "PR",
         "668.88",
         "Guaratuba",
         "Principal",
         "Decrescente",
         "Ativo",
         null,
         "-25.8749",
         "-48.9363",
         "60",
         "60",
         "10.0",
         "2013.0"
        ],
        [
         "4",
         "AUTOPISTA LITORAL SUL",
         "2009",
         "Redutor",
         "BR-101",
         "SC",
         "48.77",
         "Joinville",
         "Principal",
         "Crescente",
         "Ativo",
         null,
         "-26.3802",
         "-48.8516",
         "80",
         "80",
         "3.0",
         "2014.0"
        ]
       ],
       "shape": {
        "columns": 17,
        "rows": 5
       }
      },
      "text/html": [
       "<div>\n",
       "<style scoped>\n",
       "    .dataframe tbody tr th:only-of-type {\n",
       "        vertical-align: middle;\n",
       "    }\n",
       "\n",
       "    .dataframe tbody tr th {\n",
       "        vertical-align: top;\n",
       "    }\n",
       "\n",
       "    .dataframe thead th {\n",
       "        text-align: right;\n",
       "    }\n",
       "</style>\n",
       "<table border=\"1\" class=\"dataframe\">\n",
       "  <thead>\n",
       "    <tr style=\"text-align: right;\">\n",
       "      <th></th>\n",
       "      <th>concessionaria</th>\n",
       "      <th>ano_do_pnv_snv</th>\n",
       "      <th>tipo_de_radar</th>\n",
       "      <th>rodovia</th>\n",
       "      <th>uf</th>\n",
       "      <th>km_m</th>\n",
       "      <th>municipio</th>\n",
       "      <th>tipo_pista</th>\n",
       "      <th>sentido</th>\n",
       "      <th>situacao</th>\n",
       "      <th>data_da_inativacao</th>\n",
       "      <th>latitude</th>\n",
       "      <th>longitude</th>\n",
       "      <th>velocidade_leve</th>\n",
       "      <th>velocidade_pesado</th>\n",
       "      <th>ativacao_mes</th>\n",
       "      <th>ativacao_ano</th>\n",
       "    </tr>\n",
       "  </thead>\n",
       "  <tbody>\n",
       "    <tr>\n",
       "      <th>0</th>\n",
       "      <td>AUTOPISTA LITORAL SUL</td>\n",
       "      <td>2009</td>\n",
       "      <td>Redutor</td>\n",
       "      <td>BR-376</td>\n",
       "      <td>PR</td>\n",
       "      <td>664.773</td>\n",
       "      <td>Guaratuba</td>\n",
       "      <td>Principal</td>\n",
       "      <td>Crescente</td>\n",
       "      <td>Ativo</td>\n",
       "      <td>NaN</td>\n",
       "      <td>-25.8582</td>\n",
       "      <td>-48.9512</td>\n",
       "      <td>60</td>\n",
       "      <td>60</td>\n",
       "      <td>10.0</td>\n",
       "      <td>2013.0</td>\n",
       "    </tr>\n",
       "    <tr>\n",
       "      <th>1</th>\n",
       "      <td>AUTOPISTA LITORAL SUL</td>\n",
       "      <td>2009</td>\n",
       "      <td>Redutor</td>\n",
       "      <td>BR-376</td>\n",
       "      <td>PR</td>\n",
       "      <td>667.013</td>\n",
       "      <td>Guaratuba</td>\n",
       "      <td>Principal</td>\n",
       "      <td>Crescente</td>\n",
       "      <td>Ativo</td>\n",
       "      <td>NaN</td>\n",
       "      <td>-25.8637</td>\n",
       "      <td>-48.9348</td>\n",
       "      <td>60</td>\n",
       "      <td>60</td>\n",
       "      <td>10.0</td>\n",
       "      <td>2013.0</td>\n",
       "    </tr>\n",
       "    <tr>\n",
       "      <th>2</th>\n",
       "      <td>AUTOPISTA LITORAL SUL</td>\n",
       "      <td>2009</td>\n",
       "      <td>Redutor</td>\n",
       "      <td>BR-376</td>\n",
       "      <td>PR</td>\n",
       "      <td>668.334</td>\n",
       "      <td>Guaratuba</td>\n",
       "      <td>Principal</td>\n",
       "      <td>Crescente</td>\n",
       "      <td>Ativo</td>\n",
       "      <td>NaN</td>\n",
       "      <td>-25.8693</td>\n",
       "      <td>-48.9341</td>\n",
       "      <td>60</td>\n",
       "      <td>60</td>\n",
       "      <td>7.0</td>\n",
       "      <td>2011.0</td>\n",
       "    </tr>\n",
       "    <tr>\n",
       "      <th>3</th>\n",
       "      <td>AUTOPISTA LITORAL SUL</td>\n",
       "      <td>2009</td>\n",
       "      <td>Redutor</td>\n",
       "      <td>BR-376</td>\n",
       "      <td>PR</td>\n",
       "      <td>668.880</td>\n",
       "      <td>Guaratuba</td>\n",
       "      <td>Principal</td>\n",
       "      <td>Decrescente</td>\n",
       "      <td>Ativo</td>\n",
       "      <td>NaN</td>\n",
       "      <td>-25.8749</td>\n",
       "      <td>-48.9363</td>\n",
       "      <td>60</td>\n",
       "      <td>60</td>\n",
       "      <td>10.0</td>\n",
       "      <td>2013.0</td>\n",
       "    </tr>\n",
       "    <tr>\n",
       "      <th>4</th>\n",
       "      <td>AUTOPISTA LITORAL SUL</td>\n",
       "      <td>2009</td>\n",
       "      <td>Redutor</td>\n",
       "      <td>BR-101</td>\n",
       "      <td>SC</td>\n",
       "      <td>48.770</td>\n",
       "      <td>Joinville</td>\n",
       "      <td>Principal</td>\n",
       "      <td>Crescente</td>\n",
       "      <td>Ativo</td>\n",
       "      <td>NaN</td>\n",
       "      <td>-26.3802</td>\n",
       "      <td>-48.8516</td>\n",
       "      <td>80</td>\n",
       "      <td>80</td>\n",
       "      <td>3.0</td>\n",
       "      <td>2014.0</td>\n",
       "    </tr>\n",
       "  </tbody>\n",
       "</table>\n",
       "</div>"
      ],
      "text/plain": [
       "          concessionaria  ano_do_pnv_snv tipo_de_radar rodovia  uf     km_m  \\\n",
       "0  AUTOPISTA LITORAL SUL            2009       Redutor  BR-376  PR  664.773   \n",
       "1  AUTOPISTA LITORAL SUL            2009       Redutor  BR-376  PR  667.013   \n",
       "2  AUTOPISTA LITORAL SUL            2009       Redutor  BR-376  PR  668.334   \n",
       "3  AUTOPISTA LITORAL SUL            2009       Redutor  BR-376  PR  668.880   \n",
       "4  AUTOPISTA LITORAL SUL            2009       Redutor  BR-101  SC   48.770   \n",
       "\n",
       "   municipio tipo_pista      sentido situacao  data_da_inativacao  latitude  \\\n",
       "0  Guaratuba  Principal    Crescente    Ativo                 NaN  -25.8582   \n",
       "1  Guaratuba  Principal    Crescente    Ativo                 NaN  -25.8637   \n",
       "2  Guaratuba  Principal    Crescente    Ativo                 NaN  -25.8693   \n",
       "3  Guaratuba  Principal  Decrescente    Ativo                 NaN  -25.8749   \n",
       "4  Joinville  Principal    Crescente    Ativo                 NaN  -26.3802   \n",
       "\n",
       "   longitude  velocidade_leve  velocidade_pesado  ativacao_mes  ativacao_ano  \n",
       "0   -48.9512               60                 60          10.0        2013.0  \n",
       "1   -48.9348               60                 60          10.0        2013.0  \n",
       "2   -48.9341               60                 60           7.0        2011.0  \n",
       "3   -48.9363               60                 60          10.0        2013.0  \n",
       "4   -48.8516               80                 80           3.0        2014.0  "
      ]
     },
     "execution_count": 3,
     "metadata": {},
     "output_type": "execute_result"
    }
   ],
   "source": [
    "df_antt = pd.read_excel(\"../dados/loc_radar/radares_antt_com_data.xlsx\")\n",
    "df_antt.head()"
   ]
  },
  {
   "cell_type": "code",
   "execution_count": 4,
   "id": "7751d5dd",
   "metadata": {},
   "outputs": [
    {
     "data": {
      "application/vnd.microsoft.datawrangler.viewer.v0+json": {
       "columns": [
        {
         "name": "index",
         "rawType": "int64",
         "type": "integer"
        },
        {
         "name": "Código do Equipamento",
         "rawType": "object",
         "type": "string"
        },
        {
         "name": "Equipamento",
         "rawType": "object",
         "type": "string"
        },
        {
         "name": "UF",
         "rawType": "object",
         "type": "string"
        },
        {
         "name": "Município",
         "rawType": "object",
         "type": "string"
        },
        {
         "name": "Rodovia",
         "rawType": "int64",
         "type": "integer"
        },
        {
         "name": "Km",
         "rawType": "float64",
         "type": "float"
        },
        {
         "name": "Coordenadas",
         "rawType": "object",
         "type": "string"
        },
        {
         "name": "Registro INMETRO",
         "rawType": "object",
         "type": "string"
        },
        {
         "name": "Nº de Série",
         "rawType": "object",
         "type": "string"
        },
        {
         "name": "ativacao_mes",
         "rawType": "int64",
         "type": "integer"
        },
        {
         "name": "ativacao_ano",
         "rawType": "int64",
         "type": "integer"
        }
       ],
       "ref": "4ac8eaab-c814-4892-a2a9-103bdf83754f",
       "rows": [
        [
         "0",
         "SCB20010001",
         "Redutor Eletrônico de Velocidade",
         "SC",
         "BOM RETIRO",
         "282",
         "127.96",
         "-49.487068, -27.803703",
         "14794301",
         "6042",
         "6",
         "2020"
        ],
        [
         "1",
         "SCB20010002",
         "Redutor Eletrônico de Velocidade",
         "SC",
         "BOM RETIRO",
         "282",
         "128.275",
         "-49.49019, -27.803961",
         "14794302",
         "6043",
         "6",
         "2020"
        ],
        [
         "2",
         "SCB20010003",
         "Redutor Eletrônico de Velocidade",
         "SC",
         "LAGES",
         "282",
         "215.255",
         "-50.282411, -27.79415",
         "14794315",
         "6046",
         "6",
         "2020"
        ],
        [
         "3",
         "SCB20010007",
         "Redutor Eletrônico de Velocidade",
         "SC",
         "LAGES",
         "282",
         "218.51",
         "-50.3145, -27.796972",
         "14794310",
         "6052",
         "6",
         "2020"
        ],
        [
         "4",
         "SCB20010008",
         "Redutor Eletrônico de Velocidade",
         "SC",
         "LAGES",
         "282",
         "218.55",
         "-50.3147, -27.797219",
         "14794313",
         "6053",
         "6",
         "2020"
        ]
       ],
       "shape": {
        "columns": 11,
        "rows": 5
       }
      },
      "text/html": [
       "<div>\n",
       "<style scoped>\n",
       "    .dataframe tbody tr th:only-of-type {\n",
       "        vertical-align: middle;\n",
       "    }\n",
       "\n",
       "    .dataframe tbody tr th {\n",
       "        vertical-align: top;\n",
       "    }\n",
       "\n",
       "    .dataframe thead th {\n",
       "        text-align: right;\n",
       "    }\n",
       "</style>\n",
       "<table border=\"1\" class=\"dataframe\">\n",
       "  <thead>\n",
       "    <tr style=\"text-align: right;\">\n",
       "      <th></th>\n",
       "      <th>Código do Equipamento</th>\n",
       "      <th>Equipamento</th>\n",
       "      <th>UF</th>\n",
       "      <th>Município</th>\n",
       "      <th>Rodovia</th>\n",
       "      <th>Km</th>\n",
       "      <th>Coordenadas</th>\n",
       "      <th>Registro INMETRO</th>\n",
       "      <th>Nº de Série</th>\n",
       "      <th>ativacao_mes</th>\n",
       "      <th>ativacao_ano</th>\n",
       "    </tr>\n",
       "  </thead>\n",
       "  <tbody>\n",
       "    <tr>\n",
       "      <th>0</th>\n",
       "      <td>SCB20010001</td>\n",
       "      <td>Redutor Eletrônico de Velocidade</td>\n",
       "      <td>SC</td>\n",
       "      <td>BOM RETIRO</td>\n",
       "      <td>282</td>\n",
       "      <td>127.960</td>\n",
       "      <td>-49.487068, -27.803703</td>\n",
       "      <td>14794301</td>\n",
       "      <td>6042</td>\n",
       "      <td>6</td>\n",
       "      <td>2020</td>\n",
       "    </tr>\n",
       "    <tr>\n",
       "      <th>1</th>\n",
       "      <td>SCB20010002</td>\n",
       "      <td>Redutor Eletrônico de Velocidade</td>\n",
       "      <td>SC</td>\n",
       "      <td>BOM RETIRO</td>\n",
       "      <td>282</td>\n",
       "      <td>128.275</td>\n",
       "      <td>-49.49019, -27.803961</td>\n",
       "      <td>14794302</td>\n",
       "      <td>6043</td>\n",
       "      <td>6</td>\n",
       "      <td>2020</td>\n",
       "    </tr>\n",
       "    <tr>\n",
       "      <th>2</th>\n",
       "      <td>SCB20010003</td>\n",
       "      <td>Redutor Eletrônico de Velocidade</td>\n",
       "      <td>SC</td>\n",
       "      <td>LAGES</td>\n",
       "      <td>282</td>\n",
       "      <td>215.255</td>\n",
       "      <td>-50.282411, -27.79415</td>\n",
       "      <td>14794315</td>\n",
       "      <td>6046</td>\n",
       "      <td>6</td>\n",
       "      <td>2020</td>\n",
       "    </tr>\n",
       "    <tr>\n",
       "      <th>3</th>\n",
       "      <td>SCB20010007</td>\n",
       "      <td>Redutor Eletrônico de Velocidade</td>\n",
       "      <td>SC</td>\n",
       "      <td>LAGES</td>\n",
       "      <td>282</td>\n",
       "      <td>218.510</td>\n",
       "      <td>-50.3145, -27.796972</td>\n",
       "      <td>14794310</td>\n",
       "      <td>6052</td>\n",
       "      <td>6</td>\n",
       "      <td>2020</td>\n",
       "    </tr>\n",
       "    <tr>\n",
       "      <th>4</th>\n",
       "      <td>SCB20010008</td>\n",
       "      <td>Redutor Eletrônico de Velocidade</td>\n",
       "      <td>SC</td>\n",
       "      <td>LAGES</td>\n",
       "      <td>282</td>\n",
       "      <td>218.550</td>\n",
       "      <td>-50.3147, -27.797219</td>\n",
       "      <td>14794313</td>\n",
       "      <td>6053</td>\n",
       "      <td>6</td>\n",
       "      <td>2020</td>\n",
       "    </tr>\n",
       "  </tbody>\n",
       "</table>\n",
       "</div>"
      ],
      "text/plain": [
       "  Código do Equipamento                       Equipamento  UF   Município  \\\n",
       "0           SCB20010001  Redutor Eletrônico de Velocidade  SC  BOM RETIRO   \n",
       "1           SCB20010002  Redutor Eletrônico de Velocidade  SC  BOM RETIRO   \n",
       "2           SCB20010003  Redutor Eletrônico de Velocidade  SC       LAGES   \n",
       "3           SCB20010007  Redutor Eletrônico de Velocidade  SC       LAGES   \n",
       "4           SCB20010008  Redutor Eletrônico de Velocidade  SC       LAGES   \n",
       "\n",
       "   Rodovia       Km             Coordenadas Registro INMETRO Nº de Série  \\\n",
       "0      282  127.960  -49.487068, -27.803703         14794301        6042   \n",
       "1      282  128.275   -49.49019, -27.803961         14794302        6043   \n",
       "2      282  215.255   -50.282411, -27.79415         14794315        6046   \n",
       "3      282  218.510    -50.3145, -27.796972         14794310        6052   \n",
       "4      282  218.550    -50.3147, -27.797219         14794313        6053   \n",
       "\n",
       "   ativacao_mes  ativacao_ano  \n",
       "0             6          2020  \n",
       "1             6          2020  \n",
       "2             6          2020  \n",
       "3             6          2020  \n",
       "4             6          2020  "
      ]
     },
     "execution_count": 4,
     "metadata": {},
     "output_type": "execute_result"
    }
   ],
   "source": [
    "df_dnit = pd.read_excel(\"../dados/loc_radar/radares_dnit_com data.xlsx\")\n",
    "df_dnit.head()"
   ]
  },
  {
   "cell_type": "code",
   "execution_count": 5,
   "id": "661abff0",
   "metadata": {},
   "outputs": [
    {
     "data": {
      "application/vnd.microsoft.datawrangler.viewer.v0+json": {
       "columns": [
        {
         "name": "index",
         "rawType": "int64",
         "type": "integer"
        },
        {
         "name": "concessionaria",
         "rawType": "object",
         "type": "string"
        },
        {
         "name": "ano_do_pnv_snv",
         "rawType": "int64",
         "type": "integer"
        },
        {
         "name": "tipo_de_radar",
         "rawType": "object",
         "type": "string"
        },
        {
         "name": "rodovia",
         "rawType": "object",
         "type": "string"
        },
        {
         "name": "uf",
         "rawType": "object",
         "type": "string"
        },
        {
         "name": "km_m",
         "rawType": "float64",
         "type": "float"
        },
        {
         "name": "municipio",
         "rawType": "object",
         "type": "string"
        },
        {
         "name": "tipo_pista",
         "rawType": "object",
         "type": "string"
        },
        {
         "name": "sentido",
         "rawType": "object",
         "type": "string"
        },
        {
         "name": "situacao",
         "rawType": "object",
         "type": "string"
        },
        {
         "name": "data_da_inativacao",
         "rawType": "float64",
         "type": "float"
        },
        {
         "name": "latitude",
         "rawType": "float64",
         "type": "float"
        },
        {
         "name": "longitude",
         "rawType": "float64",
         "type": "float"
        },
        {
         "name": "velocidade_leve",
         "rawType": "int64",
         "type": "integer"
        },
        {
         "name": "velocidade_pesado",
         "rawType": "int64",
         "type": "integer"
        },
        {
         "name": "ativacao_mes",
         "rawType": "Int64",
         "type": "integer"
        },
        {
         "name": "ativacao_ano",
         "rawType": "Int64",
         "type": "integer"
        }
       ],
       "ref": "045a2e2c-41dd-4aa2-8cf5-4d4405fa08f2",
       "rows": [
        [
         "0",
         "AUTOPISTA LITORAL SUL",
         "2009",
         "Redutor",
         "BR-376",
         "PR",
         "664.773",
         "Guaratuba",
         "Principal",
         "Crescente",
         "Ativo",
         null,
         "-25.8582",
         "-48.9512",
         "60",
         "60",
         "10",
         "2013"
        ],
        [
         "1",
         "AUTOPISTA LITORAL SUL",
         "2009",
         "Redutor",
         "BR-376",
         "PR",
         "667.013",
         "Guaratuba",
         "Principal",
         "Crescente",
         "Ativo",
         null,
         "-25.8637",
         "-48.9348",
         "60",
         "60",
         "10",
         "2013"
        ],
        [
         "2",
         "AUTOPISTA LITORAL SUL",
         "2009",
         "Redutor",
         "BR-376",
         "PR",
         "668.334",
         "Guaratuba",
         "Principal",
         "Crescente",
         "Ativo",
         null,
         "-25.8693",
         "-48.9341",
         "60",
         "60",
         "7",
         "2011"
        ],
        [
         "3",
         "AUTOPISTA LITORAL SUL",
         "2009",
         "Redutor",
         "BR-376",
         "PR",
         "668.88",
         "Guaratuba",
         "Principal",
         "Decrescente",
         "Ativo",
         null,
         "-25.8749",
         "-48.9363",
         "60",
         "60",
         "10",
         "2013"
        ],
        [
         "4",
         "AUTOPISTA LITORAL SUL",
         "2009",
         "Redutor",
         "BR-101",
         "SC",
         "48.77",
         "Joinville",
         "Principal",
         "Crescente",
         "Ativo",
         null,
         "-26.3802",
         "-48.8516",
         "80",
         "80",
         "3",
         "2014"
        ]
       ],
       "shape": {
        "columns": 17,
        "rows": 5
       }
      },
      "text/html": [
       "<div>\n",
       "<style scoped>\n",
       "    .dataframe tbody tr th:only-of-type {\n",
       "        vertical-align: middle;\n",
       "    }\n",
       "\n",
       "    .dataframe tbody tr th {\n",
       "        vertical-align: top;\n",
       "    }\n",
       "\n",
       "    .dataframe thead th {\n",
       "        text-align: right;\n",
       "    }\n",
       "</style>\n",
       "<table border=\"1\" class=\"dataframe\">\n",
       "  <thead>\n",
       "    <tr style=\"text-align: right;\">\n",
       "      <th></th>\n",
       "      <th>concessionaria</th>\n",
       "      <th>ano_do_pnv_snv</th>\n",
       "      <th>tipo_de_radar</th>\n",
       "      <th>rodovia</th>\n",
       "      <th>uf</th>\n",
       "      <th>km_m</th>\n",
       "      <th>municipio</th>\n",
       "      <th>tipo_pista</th>\n",
       "      <th>sentido</th>\n",
       "      <th>situacao</th>\n",
       "      <th>data_da_inativacao</th>\n",
       "      <th>latitude</th>\n",
       "      <th>longitude</th>\n",
       "      <th>velocidade_leve</th>\n",
       "      <th>velocidade_pesado</th>\n",
       "      <th>ativacao_mes</th>\n",
       "      <th>ativacao_ano</th>\n",
       "    </tr>\n",
       "  </thead>\n",
       "  <tbody>\n",
       "    <tr>\n",
       "      <th>0</th>\n",
       "      <td>AUTOPISTA LITORAL SUL</td>\n",
       "      <td>2009</td>\n",
       "      <td>Redutor</td>\n",
       "      <td>BR-376</td>\n",
       "      <td>PR</td>\n",
       "      <td>664.773</td>\n",
       "      <td>Guaratuba</td>\n",
       "      <td>Principal</td>\n",
       "      <td>Crescente</td>\n",
       "      <td>Ativo</td>\n",
       "      <td>NaN</td>\n",
       "      <td>-25.8582</td>\n",
       "      <td>-48.9512</td>\n",
       "      <td>60</td>\n",
       "      <td>60</td>\n",
       "      <td>10</td>\n",
       "      <td>2013</td>\n",
       "    </tr>\n",
       "    <tr>\n",
       "      <th>1</th>\n",
       "      <td>AUTOPISTA LITORAL SUL</td>\n",
       "      <td>2009</td>\n",
       "      <td>Redutor</td>\n",
       "      <td>BR-376</td>\n",
       "      <td>PR</td>\n",
       "      <td>667.013</td>\n",
       "      <td>Guaratuba</td>\n",
       "      <td>Principal</td>\n",
       "      <td>Crescente</td>\n",
       "      <td>Ativo</td>\n",
       "      <td>NaN</td>\n",
       "      <td>-25.8637</td>\n",
       "      <td>-48.9348</td>\n",
       "      <td>60</td>\n",
       "      <td>60</td>\n",
       "      <td>10</td>\n",
       "      <td>2013</td>\n",
       "    </tr>\n",
       "    <tr>\n",
       "      <th>2</th>\n",
       "      <td>AUTOPISTA LITORAL SUL</td>\n",
       "      <td>2009</td>\n",
       "      <td>Redutor</td>\n",
       "      <td>BR-376</td>\n",
       "      <td>PR</td>\n",
       "      <td>668.334</td>\n",
       "      <td>Guaratuba</td>\n",
       "      <td>Principal</td>\n",
       "      <td>Crescente</td>\n",
       "      <td>Ativo</td>\n",
       "      <td>NaN</td>\n",
       "      <td>-25.8693</td>\n",
       "      <td>-48.9341</td>\n",
       "      <td>60</td>\n",
       "      <td>60</td>\n",
       "      <td>7</td>\n",
       "      <td>2011</td>\n",
       "    </tr>\n",
       "    <tr>\n",
       "      <th>3</th>\n",
       "      <td>AUTOPISTA LITORAL SUL</td>\n",
       "      <td>2009</td>\n",
       "      <td>Redutor</td>\n",
       "      <td>BR-376</td>\n",
       "      <td>PR</td>\n",
       "      <td>668.880</td>\n",
       "      <td>Guaratuba</td>\n",
       "      <td>Principal</td>\n",
       "      <td>Decrescente</td>\n",
       "      <td>Ativo</td>\n",
       "      <td>NaN</td>\n",
       "      <td>-25.8749</td>\n",
       "      <td>-48.9363</td>\n",
       "      <td>60</td>\n",
       "      <td>60</td>\n",
       "      <td>10</td>\n",
       "      <td>2013</td>\n",
       "    </tr>\n",
       "    <tr>\n",
       "      <th>4</th>\n",
       "      <td>AUTOPISTA LITORAL SUL</td>\n",
       "      <td>2009</td>\n",
       "      <td>Redutor</td>\n",
       "      <td>BR-101</td>\n",
       "      <td>SC</td>\n",
       "      <td>48.770</td>\n",
       "      <td>Joinville</td>\n",
       "      <td>Principal</td>\n",
       "      <td>Crescente</td>\n",
       "      <td>Ativo</td>\n",
       "      <td>NaN</td>\n",
       "      <td>-26.3802</td>\n",
       "      <td>-48.8516</td>\n",
       "      <td>80</td>\n",
       "      <td>80</td>\n",
       "      <td>3</td>\n",
       "      <td>2014</td>\n",
       "    </tr>\n",
       "  </tbody>\n",
       "</table>\n",
       "</div>"
      ],
      "text/plain": [
       "          concessionaria  ano_do_pnv_snv tipo_de_radar rodovia  uf     km_m  \\\n",
       "0  AUTOPISTA LITORAL SUL            2009       Redutor  BR-376  PR  664.773   \n",
       "1  AUTOPISTA LITORAL SUL            2009       Redutor  BR-376  PR  667.013   \n",
       "2  AUTOPISTA LITORAL SUL            2009       Redutor  BR-376  PR  668.334   \n",
       "3  AUTOPISTA LITORAL SUL            2009       Redutor  BR-376  PR  668.880   \n",
       "4  AUTOPISTA LITORAL SUL            2009       Redutor  BR-101  SC   48.770   \n",
       "\n",
       "   municipio tipo_pista      sentido situacao  data_da_inativacao  latitude  \\\n",
       "0  Guaratuba  Principal    Crescente    Ativo                 NaN  -25.8582   \n",
       "1  Guaratuba  Principal    Crescente    Ativo                 NaN  -25.8637   \n",
       "2  Guaratuba  Principal    Crescente    Ativo                 NaN  -25.8693   \n",
       "3  Guaratuba  Principal  Decrescente    Ativo                 NaN  -25.8749   \n",
       "4  Joinville  Principal    Crescente    Ativo                 NaN  -26.3802   \n",
       "\n",
       "   longitude  velocidade_leve  velocidade_pesado  ativacao_mes  ativacao_ano  \n",
       "0   -48.9512               60                 60            10          2013  \n",
       "1   -48.9348               60                 60            10          2013  \n",
       "2   -48.9341               60                 60             7          2011  \n",
       "3   -48.9363               60                 60            10          2013  \n",
       "4   -48.8516               80                 80             3          2014  "
      ]
     },
     "execution_count": 5,
     "metadata": {},
     "output_type": "execute_result"
    }
   ],
   "source": [
    "df_antt[\"ativacao_mes\"] = df_antt[\"ativacao_mes\"].astype(\"Int64\")\n",
    "df_antt[\"ativacao_ano\"] = df_antt[\"ativacao_ano\"].astype(\"Int64\")\n",
    "df_antt.head()"
   ]
  },
  {
   "cell_type": "code",
   "execution_count": 6,
   "id": "826a41a8",
   "metadata": {},
   "outputs": [
    {
     "data": {
      "application/vnd.microsoft.datawrangler.viewer.v0+json": {
       "columns": [
        {
         "name": "index",
         "rawType": "int64",
         "type": "integer"
        },
        {
         "name": "Código do Equipamento",
         "rawType": "object",
         "type": "string"
        },
        {
         "name": "Equipamento",
         "rawType": "object",
         "type": "string"
        },
        {
         "name": "UF",
         "rawType": "object",
         "type": "string"
        },
        {
         "name": "Município",
         "rawType": "object",
         "type": "string"
        },
        {
         "name": "Rodovia",
         "rawType": "int64",
         "type": "integer"
        },
        {
         "name": "Km",
         "rawType": "float64",
         "type": "float"
        },
        {
         "name": "Coordenadas",
         "rawType": "object",
         "type": "string"
        },
        {
         "name": "Registro INMETRO",
         "rawType": "object",
         "type": "string"
        },
        {
         "name": "Nº de Série",
         "rawType": "object",
         "type": "string"
        },
        {
         "name": "ativacao_mes",
         "rawType": "Int64",
         "type": "integer"
        },
        {
         "name": "ativacao_ano",
         "rawType": "Int64",
         "type": "integer"
        }
       ],
       "ref": "45bb44a2-31e1-4351-ae62-aa5dabf0e80d",
       "rows": [
        [
         "0",
         "SCB20010001",
         "Redutor Eletrônico de Velocidade",
         "SC",
         "BOM RETIRO",
         "282",
         "127.96",
         "-49.487068, -27.803703",
         "14794301",
         "6042",
         "6",
         "2020"
        ],
        [
         "1",
         "SCB20010002",
         "Redutor Eletrônico de Velocidade",
         "SC",
         "BOM RETIRO",
         "282",
         "128.275",
         "-49.49019, -27.803961",
         "14794302",
         "6043",
         "6",
         "2020"
        ],
        [
         "2",
         "SCB20010003",
         "Redutor Eletrônico de Velocidade",
         "SC",
         "LAGES",
         "282",
         "215.255",
         "-50.282411, -27.79415",
         "14794315",
         "6046",
         "6",
         "2020"
        ],
        [
         "3",
         "SCB20010007",
         "Redutor Eletrônico de Velocidade",
         "SC",
         "LAGES",
         "282",
         "218.51",
         "-50.3145, -27.796972",
         "14794310",
         "6052",
         "6",
         "2020"
        ],
        [
         "4",
         "SCB20010008",
         "Redutor Eletrônico de Velocidade",
         "SC",
         "LAGES",
         "282",
         "218.55",
         "-50.3147, -27.797219",
         "14794313",
         "6053",
         "6",
         "2020"
        ]
       ],
       "shape": {
        "columns": 11,
        "rows": 5
       }
      },
      "text/html": [
       "<div>\n",
       "<style scoped>\n",
       "    .dataframe tbody tr th:only-of-type {\n",
       "        vertical-align: middle;\n",
       "    }\n",
       "\n",
       "    .dataframe tbody tr th {\n",
       "        vertical-align: top;\n",
       "    }\n",
       "\n",
       "    .dataframe thead th {\n",
       "        text-align: right;\n",
       "    }\n",
       "</style>\n",
       "<table border=\"1\" class=\"dataframe\">\n",
       "  <thead>\n",
       "    <tr style=\"text-align: right;\">\n",
       "      <th></th>\n",
       "      <th>Código do Equipamento</th>\n",
       "      <th>Equipamento</th>\n",
       "      <th>UF</th>\n",
       "      <th>Município</th>\n",
       "      <th>Rodovia</th>\n",
       "      <th>Km</th>\n",
       "      <th>Coordenadas</th>\n",
       "      <th>Registro INMETRO</th>\n",
       "      <th>Nº de Série</th>\n",
       "      <th>ativacao_mes</th>\n",
       "      <th>ativacao_ano</th>\n",
       "    </tr>\n",
       "  </thead>\n",
       "  <tbody>\n",
       "    <tr>\n",
       "      <th>0</th>\n",
       "      <td>SCB20010001</td>\n",
       "      <td>Redutor Eletrônico de Velocidade</td>\n",
       "      <td>SC</td>\n",
       "      <td>BOM RETIRO</td>\n",
       "      <td>282</td>\n",
       "      <td>127.960</td>\n",
       "      <td>-49.487068, -27.803703</td>\n",
       "      <td>14794301</td>\n",
       "      <td>6042</td>\n",
       "      <td>6</td>\n",
       "      <td>2020</td>\n",
       "    </tr>\n",
       "    <tr>\n",
       "      <th>1</th>\n",
       "      <td>SCB20010002</td>\n",
       "      <td>Redutor Eletrônico de Velocidade</td>\n",
       "      <td>SC</td>\n",
       "      <td>BOM RETIRO</td>\n",
       "      <td>282</td>\n",
       "      <td>128.275</td>\n",
       "      <td>-49.49019, -27.803961</td>\n",
       "      <td>14794302</td>\n",
       "      <td>6043</td>\n",
       "      <td>6</td>\n",
       "      <td>2020</td>\n",
       "    </tr>\n",
       "    <tr>\n",
       "      <th>2</th>\n",
       "      <td>SCB20010003</td>\n",
       "      <td>Redutor Eletrônico de Velocidade</td>\n",
       "      <td>SC</td>\n",
       "      <td>LAGES</td>\n",
       "      <td>282</td>\n",
       "      <td>215.255</td>\n",
       "      <td>-50.282411, -27.79415</td>\n",
       "      <td>14794315</td>\n",
       "      <td>6046</td>\n",
       "      <td>6</td>\n",
       "      <td>2020</td>\n",
       "    </tr>\n",
       "    <tr>\n",
       "      <th>3</th>\n",
       "      <td>SCB20010007</td>\n",
       "      <td>Redutor Eletrônico de Velocidade</td>\n",
       "      <td>SC</td>\n",
       "      <td>LAGES</td>\n",
       "      <td>282</td>\n",
       "      <td>218.510</td>\n",
       "      <td>-50.3145, -27.796972</td>\n",
       "      <td>14794310</td>\n",
       "      <td>6052</td>\n",
       "      <td>6</td>\n",
       "      <td>2020</td>\n",
       "    </tr>\n",
       "    <tr>\n",
       "      <th>4</th>\n",
       "      <td>SCB20010008</td>\n",
       "      <td>Redutor Eletrônico de Velocidade</td>\n",
       "      <td>SC</td>\n",
       "      <td>LAGES</td>\n",
       "      <td>282</td>\n",
       "      <td>218.550</td>\n",
       "      <td>-50.3147, -27.797219</td>\n",
       "      <td>14794313</td>\n",
       "      <td>6053</td>\n",
       "      <td>6</td>\n",
       "      <td>2020</td>\n",
       "    </tr>\n",
       "  </tbody>\n",
       "</table>\n",
       "</div>"
      ],
      "text/plain": [
       "  Código do Equipamento                       Equipamento  UF   Município  \\\n",
       "0           SCB20010001  Redutor Eletrônico de Velocidade  SC  BOM RETIRO   \n",
       "1           SCB20010002  Redutor Eletrônico de Velocidade  SC  BOM RETIRO   \n",
       "2           SCB20010003  Redutor Eletrônico de Velocidade  SC       LAGES   \n",
       "3           SCB20010007  Redutor Eletrônico de Velocidade  SC       LAGES   \n",
       "4           SCB20010008  Redutor Eletrônico de Velocidade  SC       LAGES   \n",
       "\n",
       "   Rodovia       Km             Coordenadas Registro INMETRO Nº de Série  \\\n",
       "0      282  127.960  -49.487068, -27.803703         14794301        6042   \n",
       "1      282  128.275   -49.49019, -27.803961         14794302        6043   \n",
       "2      282  215.255   -50.282411, -27.79415         14794315        6046   \n",
       "3      282  218.510    -50.3145, -27.796972         14794310        6052   \n",
       "4      282  218.550    -50.3147, -27.797219         14794313        6053   \n",
       "\n",
       "   ativacao_mes  ativacao_ano  \n",
       "0             6          2020  \n",
       "1             6          2020  \n",
       "2             6          2020  \n",
       "3             6          2020  \n",
       "4             6          2020  "
      ]
     },
     "execution_count": 6,
     "metadata": {},
     "output_type": "execute_result"
    }
   ],
   "source": [
    "df_dnit[\"ativacao_mes\"] = df_dnit[\"ativacao_mes\"].astype(\"Int64\")\n",
    "df_dnit[\"ativacao_ano\"] = df_dnit[\"ativacao_ano\"].astype(\"Int64\")\n",
    "df_dnit.head()"
   ]
  },
  {
   "cell_type": "code",
   "execution_count": 7,
   "id": "646dfe02",
   "metadata": {},
   "outputs": [
    {
     "data": {
      "application/vnd.microsoft.datawrangler.viewer.v0+json": {
       "columns": [
        {
         "name": "ativacao_ano",
         "rawType": "Int64",
         "type": "integer"
        },
        {
         "name": "count",
         "rawType": "Int64",
         "type": "integer"
        }
       ],
       "ref": "7648e66d-0c97-4a5b-9a1f-6475383c8d57",
       "rows": [
        [
         "2022",
         "57"
        ],
        [
         "2021",
         "28"
        ],
        [
         "2025",
         "22"
        ],
        [
         "2015",
         "21"
        ],
        [
         "2017",
         "11"
        ],
        [
         "2014",
         "10"
        ],
        [
         "2024",
         "8"
        ],
        [
         "2013",
         "7"
        ],
        [
         "2023",
         "7"
        ],
        [
         "2019",
         "7"
        ],
        [
         "2011",
         "3"
        ],
        [
         "2018",
         "3"
        ],
        [
         "2020",
         "2"
        ],
        [
         "2012",
         "2"
        ],
        [
         "2016",
         "1"
        ]
       ],
       "shape": {
        "columns": 1,
        "rows": 15
       }
      },
      "text/plain": [
       "ativacao_ano\n",
       "2022    57\n",
       "2021    28\n",
       "2025    22\n",
       "2015    21\n",
       "2017    11\n",
       "2014    10\n",
       "2024     8\n",
       "2013     7\n",
       "2023     7\n",
       "2019     7\n",
       "2011     3\n",
       "2018     3\n",
       "2020     2\n",
       "2012     2\n",
       "2016     1\n",
       "Name: count, dtype: Int64"
      ]
     },
     "execution_count": 7,
     "metadata": {},
     "output_type": "execute_result"
    }
   ],
   "source": [
    "df_antt[\"ativacao_ano\"].value_counts()"
   ]
  },
  {
   "cell_type": "code",
   "execution_count": 8,
   "id": "3c812192",
   "metadata": {},
   "outputs": [
    {
     "data": {
      "image/png": "[encoded data removed]",
      "text/plain": [
       "<Figure size 1000x500 with 1 Axes>"
      ]
     },
     "metadata": {},
     "output_type": "display_data"
    }
   ],
   "source": [
    "import matplotlib.pyplot as plt\n",
    "\n",
    "# Contagem de valores\n",
    "contagem = df_antt[\"ativacao_ano\"].value_counts().sort_index()  # ordena pelos anos\n",
    "\n",
    "# Gráfico de barras\n",
    "plt.figure(figsize=(10,5))\n",
    "contagem.plot(kind=\"bar\")\n",
    "\n",
    "plt.xlabel(\"Ano de Ativação\")\n",
    "plt.ylabel(\"Quantidade\")\n",
    "plt.title(\"Distribuição de ativações por ano - ANTT\")\n",
    "plt.xticks(rotation=45)\n",
    "plt.grid(axis=\"y\", linestyle=\"--\", alpha=0.7)\n",
    "plt.show()"
   ]
  },
  {
   "cell_type": "code",
   "execution_count": 9,
   "id": "a66ec582",
   "metadata": {},
   "outputs": [
    {
     "data": {
      "image/png": "[encoded data removed]",
      "text/plain": [
       "<Figure size 1000x500 with 1 Axes>"
      ]
     },
     "metadata": {},
     "output_type": "display_data"
    }
   ],
   "source": [
    "import matplotlib.pyplot as plt\n",
    "\n",
    "# Contagem de valores\n",
    "contagem = df_dnit[\"ativacao_ano\"].value_counts().sort_index()  # ordena pelos anos\n",
    "\n",
    "# Gráfico de barras\n",
    "plt.figure(figsize=(10,5))\n",
    "contagem.plot(kind=\"bar\")\n",
    "\n",
    "plt.xlabel(\"Ano de Ativação\")\n",
    "plt.ylabel(\"Quantidade\")\n",
    "plt.title(\"Distribuição de ativações por ano - DNIT\")\n",
    "plt.xticks(rotation=45)\n",
    "plt.grid(axis=\"y\", linestyle=\"--\", alpha=0.7)\n",
    "plt.show()"
   ]
  }
 ],
 "metadata": {
  "kernelspec": {
   "display_name": "Python 3",
   "language": "python",
   "name": "python3"
  },
  "language_info": {
   "codemirror_mode": {
    "name": "ipython",
    "version": 3
   },
   "file_extension": ".py",
   "mimetype": "text/x-python",
   "name": "python",
   "nbconvert_exporter": "python",
   "pygments_lexer": "ipython3",
   "version": "3.11.2"
  }
 },
 "nbformat": 4,
 "nbformat_minor": 5
}
