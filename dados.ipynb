{
 "cells": [
  {
   "cell_type": "code",
   "execution_count": 2,
   "id": "e9d78440",
   "metadata": {},
   "outputs": [],
   "source": [
    "import pandas as pd\n",
    "import matplotlib.pyplot as plt\n",
    "import seaborn as sns"
   ]
  },
  {
   "cell_type": "code",
   "execution_count": 3,
   "id": "10283a6d",
   "metadata": {},
   "outputs": [
    {
     "data": {
      "application/vnd.microsoft.datawrangler.viewer.v0+json": {
       "columns": [
        {
         "name": "index",
         "rawType": "int64",
         "type": "integer"
        },
        {
         "name": "id",
         "rawType": "int64",
         "type": "integer"
        },
        {
         "name": "data_inversa",
         "rawType": "object",
         "type": "string"
        },
        {
         "name": "dia_semana",
         "rawType": "object",
         "type": "string"
        },
        {
         "name": "horario",
         "rawType": "object",
         "type": "string"
        },
        {
         "name": "uf",
         "rawType": "object",
         "type": "string"
        },
        {
         "name": "br",
         "rawType": "int64",
         "type": "integer"
        },
        {
         "name": "km",
         "rawType": "object",
         "type": "string"
        },
        {
         "name": "municipio",
         "rawType": "object",
         "type": "string"
        },
        {
         "name": "causa_acidente",
         "rawType": "object",
         "type": "string"
        },
        {
         "name": "tipo_acidente",
         "rawType": "object",
         "type": "string"
        },
        {
         "name": "classificacao_acidente",
         "rawType": "object",
         "type": "string"
        },
        {
         "name": "fase_dia",
         "rawType": "object",
         "type": "string"
        },
        {
         "name": "sentido_via",
         "rawType": "object",
         "type": "string"
        },
        {
         "name": "condicao_metereologica",
         "rawType": "object",
         "type": "string"
        },
        {
         "name": "tipo_pista",
         "rawType": "object",
         "type": "string"
        },
        {
         "name": "tracado_via",
         "rawType": "object",
         "type": "string"
        },
        {
         "name": "uso_solo",
         "rawType": "object",
         "type": "string"
        },
        {
         "name": "pessoas",
         "rawType": "int64",
         "type": "integer"
        },
        {
         "name": "mortos",
         "rawType": "int64",
         "type": "integer"
        },
        {
         "name": "feridos_leves",
         "rawType": "int64",
         "type": "integer"
        },
        {
         "name": "feridos_graves",
         "rawType": "int64",
         "type": "integer"
        },
        {
         "name": "ilesos",
         "rawType": "int64",
         "type": "integer"
        },
        {
         "name": "ignorados",
         "rawType": "int64",
         "type": "integer"
        },
        {
         "name": "feridos",
         "rawType": "int64",
         "type": "integer"
        },
        {
         "name": "veiculos",
         "rawType": "int64",
         "type": "integer"
        },
        {
         "name": "latitude",
         "rawType": "object",
         "type": "string"
        },
        {
         "name": "longitude",
         "rawType": "object",
         "type": "string"
        },
        {
         "name": "regional",
         "rawType": "object",
         "type": "string"
        },
        {
         "name": "delegacia",
         "rawType": "object",
         "type": "string"
        },
        {
         "name": "uop",
         "rawType": "object",
         "type": "string"
        }
       ],
       "ref": "36682fe5-74f6-4e42-ae0d-09a1b7207e01",
       "rows": [
        [
         "0",
         "652493",
         "2025-01-01",
         "quarta-feira",
         "06:20:00",
         "SP",
         "116",
         "225",
         "GUARULHOS",
         "Reação tardia ou ineficiente do condutor",
         "Tombamento",
         "Com Vítimas Feridas",
         "Pleno dia",
         "Decrescente",
         "Céu Claro",
         "Múltipla",
         "Reta;Declive",
         "Sim",
         "2",
         "0",
         "1",
         "0",
         "0",
         "1",
         "1",
         "2",
         "-23,48586772",
         "-46,54075317",
         "SPRF-SP",
         "DEL01-SP",
         "UOP01-DEL01-SP"
        ],
        [
         "1",
         "652519",
         "2025-01-01",
         "quarta-feira",
         "07:50:00",
         "CE",
         "116",
         "546,2",
         "PENAFORTE",
         "Pista esburacada",
         "Colisão frontal",
         "Com Vítimas Fatais",
         "Pleno dia",
         "Crescente",
         "Céu Claro",
         "Simples",
         "Reta",
         "Não",
         "6",
         "1",
         "1",
         "0",
         "1",
         "4",
         "1",
         "6",
         "-7,812288",
         "-39,08333306",
         "SPRF-CE",
         "DEL05-CE",
         "UOP03-DEL05-CE"
        ],
        [
         "2",
         "652522",
         "2025-01-01",
         "quarta-feira",
         "08:45:00",
         "PR",
         "369",
         "88,2",
         "CORNELIO PROCOPIO",
         "Reação tardia ou ineficiente do condutor",
         "Colisão traseira",
         "Com Vítimas Feridas",
         "Pleno dia",
         "Crescente",
         "Sol",
         "Dupla",
         "Reta;Aclive",
         "Sim",
         "5",
         "0",
         "3",
         "0",
         "2",
         "0",
         "3",
         "2",
         "-23,182565",
         "-50,637228",
         "SPRF-PR",
         "DEL07-PR",
         "UOP05-DEL07-PR"
        ],
        [
         "3",
         "652544",
         "2025-01-01",
         "quarta-feira",
         "11:00:00",
         "PR",
         "116",
         "74",
         "CAMPINA GRANDE DO SUL",
         "Reação tardia ou ineficiente do condutor",
         "Saída de leito carroçável",
         "Com Vítimas Feridas",
         "Pleno dia",
         "Crescente",
         "Céu Claro",
         "Dupla",
         "Reta",
         "Não",
         "5",
         "0",
         "1",
         "0",
         "4",
         "0",
         "1",
         "2",
         "-25,36517687",
         "-49,04223028",
         "SPRF-PR",
         "DEL01-PR",
         "UOP02-DEL01-PR"
        ],
        [
         "4",
         "652549",
         "2025-01-01",
         "quarta-feira",
         "09:30:00",
         "MG",
         "251",
         "471",
         "FRANCISCO SA",
         "Velocidade Incompatível",
         "Colisão frontal",
         "Com Vítimas Feridas",
         "Pleno dia",
         "Decrescente",
         "Chuva",
         "Simples",
         "Curva;Declive",
         "Não",
         "5",
         "0",
         "1",
         "1",
         "1",
         "2",
         "2",
         "4",
         "-16,46801304",
         "-43,43121303",
         "SPRF-MG",
         "DEL12-MG",
         "UOP01-DEL12-MG"
        ]
       ],
       "shape": {
        "columns": 30,
        "rows": 5
       }
      },
      "text/html": [
       "<div>\n",
       "<style scoped>\n",
       "    .dataframe tbody tr th:only-of-type {\n",
       "        vertical-align: middle;\n",
       "    }\n",
       "\n",
       "    .dataframe tbody tr th {\n",
       "        vertical-align: top;\n",
       "    }\n",
       "\n",
       "    .dataframe thead th {\n",
       "        text-align: right;\n",
       "    }\n",
       "</style>\n",
       "<table border=\"1\" class=\"dataframe\">\n",
       "  <thead>\n",
       "    <tr style=\"text-align: right;\">\n",
       "      <th></th>\n",
       "      <th>id</th>\n",
       "      <th>data_inversa</th>\n",
       "      <th>dia_semana</th>\n",
       "      <th>horario</th>\n",
       "      <th>uf</th>\n",
       "      <th>br</th>\n",
       "      <th>km</th>\n",
       "      <th>municipio</th>\n",
       "      <th>causa_acidente</th>\n",
       "      <th>tipo_acidente</th>\n",
       "      <th>...</th>\n",
       "      <th>feridos_graves</th>\n",
       "      <th>ilesos</th>\n",
       "      <th>ignorados</th>\n",
       "      <th>feridos</th>\n",
       "      <th>veiculos</th>\n",
       "      <th>latitude</th>\n",
       "      <th>longitude</th>\n",
       "      <th>regional</th>\n",
       "      <th>delegacia</th>\n",
       "      <th>uop</th>\n",
       "    </tr>\n",
       "  </thead>\n",
       "  <tbody>\n",
       "    <tr>\n",
       "      <th>0</th>\n",
       "      <td>652493</td>\n",
       "      <td>2025-01-01</td>\n",
       "      <td>quarta-feira</td>\n",
       "      <td>06:20:00</td>\n",
       "      <td>SP</td>\n",
       "      <td>116</td>\n",
       "      <td>225</td>\n",
       "      <td>GUARULHOS</td>\n",
       "      <td>Reação tardia ou ineficiente do condutor</td>\n",
       "      <td>Tombamento</td>\n",
       "      <td>...</td>\n",
       "      <td>0</td>\n",
       "      <td>0</td>\n",
       "      <td>1</td>\n",
       "      <td>1</td>\n",
       "      <td>2</td>\n",
       "      <td>-23,48586772</td>\n",
       "      <td>-46,54075317</td>\n",
       "      <td>SPRF-SP</td>\n",
       "      <td>DEL01-SP</td>\n",
       "      <td>UOP01-DEL01-SP</td>\n",
       "    </tr>\n",
       "    <tr>\n",
       "      <th>1</th>\n",
       "      <td>652519</td>\n",
       "      <td>2025-01-01</td>\n",
       "      <td>quarta-feira</td>\n",
       "      <td>07:50:00</td>\n",
       "      <td>CE</td>\n",
       "      <td>116</td>\n",
       "      <td>546,2</td>\n",
       "      <td>PENAFORTE</td>\n",
       "      <td>Pista esburacada</td>\n",
       "      <td>Colisão frontal</td>\n",
       "      <td>...</td>\n",
       "      <td>0</td>\n",
       "      <td>1</td>\n",
       "      <td>4</td>\n",
       "      <td>1</td>\n",
       "      <td>6</td>\n",
       "      <td>-7,812288</td>\n",
       "      <td>-39,08333306</td>\n",
       "      <td>SPRF-CE</td>\n",
       "      <td>DEL05-CE</td>\n",
       "      <td>UOP03-DEL05-CE</td>\n",
       "    </tr>\n",
       "    <tr>\n",
       "      <th>2</th>\n",
       "      <td>652522</td>\n",
       "      <td>2025-01-01</td>\n",
       "      <td>quarta-feira</td>\n",
       "      <td>08:45:00</td>\n",
       "      <td>PR</td>\n",
       "      <td>369</td>\n",
       "      <td>88,2</td>\n",
       "      <td>CORNELIO PROCOPIO</td>\n",
       "      <td>Reação tardia ou ineficiente do condutor</td>\n",
       "      <td>Colisão traseira</td>\n",
       "      <td>...</td>\n",
       "      <td>0</td>\n",
       "      <td>2</td>\n",
       "      <td>0</td>\n",
       "      <td>3</td>\n",
       "      <td>2</td>\n",
       "      <td>-23,182565</td>\n",
       "      <td>-50,637228</td>\n",
       "      <td>SPRF-PR</td>\n",
       "      <td>DEL07-PR</td>\n",
       "      <td>UOP05-DEL07-PR</td>\n",
       "    </tr>\n",
       "    <tr>\n",
       "      <th>3</th>\n",
       "      <td>652544</td>\n",
       "      <td>2025-01-01</td>\n",
       "      <td>quarta-feira</td>\n",
       "      <td>11:00:00</td>\n",
       "      <td>PR</td>\n",
       "      <td>116</td>\n",
       "      <td>74</td>\n",
       "      <td>CAMPINA GRANDE DO SUL</td>\n",
       "      <td>Reação tardia ou ineficiente do condutor</td>\n",
       "      <td>Saída de leito carroçável</td>\n",
       "      <td>...</td>\n",
       "      <td>0</td>\n",
       "      <td>4</td>\n",
       "      <td>0</td>\n",
       "      <td>1</td>\n",
       "      <td>2</td>\n",
       "      <td>-25,36517687</td>\n",
       "      <td>-49,04223028</td>\n",
       "      <td>SPRF-PR</td>\n",
       "      <td>DEL01-PR</td>\n",
       "      <td>UOP02-DEL01-PR</td>\n",
       "    </tr>\n",
       "    <tr>\n",
       "      <th>4</th>\n",
       "      <td>652549</td>\n",
       "      <td>2025-01-01</td>\n",
       "      <td>quarta-feira</td>\n",
       "      <td>09:30:00</td>\n",
       "      <td>MG</td>\n",
       "      <td>251</td>\n",
       "      <td>471</td>\n",
       "      <td>FRANCISCO SA</td>\n",
       "      <td>Velocidade Incompatível</td>\n",
       "      <td>Colisão frontal</td>\n",
       "      <td>...</td>\n",
       "      <td>1</td>\n",
       "      <td>1</td>\n",
       "      <td>2</td>\n",
       "      <td>2</td>\n",
       "      <td>4</td>\n",
       "      <td>-16,46801304</td>\n",
       "      <td>-43,43121303</td>\n",
       "      <td>SPRF-MG</td>\n",
       "      <td>DEL12-MG</td>\n",
       "      <td>UOP01-DEL12-MG</td>\n",
       "    </tr>\n",
       "  </tbody>\n",
       "</table>\n",
       "<p>5 rows × 30 columns</p>\n",
       "</div>"
      ],
      "text/plain": [
       "       id data_inversa    dia_semana   horario  uf   br     km  \\\n",
       "0  652493   2025-01-01  quarta-feira  06:20:00  SP  116    225   \n",
       "1  652519   2025-01-01  quarta-feira  07:50:00  CE  116  546,2   \n",
       "2  652522   2025-01-01  quarta-feira  08:45:00  PR  369   88,2   \n",
       "3  652544   2025-01-01  quarta-feira  11:00:00  PR  116     74   \n",
       "4  652549   2025-01-01  quarta-feira  09:30:00  MG  251    471   \n",
       "\n",
       "               municipio                            causa_acidente  \\\n",
       "0              GUARULHOS  Reação tardia ou ineficiente do condutor   \n",
       "1              PENAFORTE                          Pista esburacada   \n",
       "2      CORNELIO PROCOPIO  Reação tardia ou ineficiente do condutor   \n",
       "3  CAMPINA GRANDE DO SUL  Reação tardia ou ineficiente do condutor   \n",
       "4           FRANCISCO SA                   Velocidade Incompatível   \n",
       "\n",
       "               tipo_acidente  ... feridos_graves ilesos ignorados feridos  \\\n",
       "0                 Tombamento  ...              0      0         1       1   \n",
       "1            Colisão frontal  ...              0      1         4       1   \n",
       "2           Colisão traseira  ...              0      2         0       3   \n",
       "3  Saída de leito carroçável  ...              0      4         0       1   \n",
       "4            Colisão frontal  ...              1      1         2       2   \n",
       "\n",
       "  veiculos      latitude     longitude  regional  delegacia             uop  \n",
       "0        2  -23,48586772  -46,54075317   SPRF-SP   DEL01-SP  UOP01-DEL01-SP  \n",
       "1        6     -7,812288  -39,08333306   SPRF-CE   DEL05-CE  UOP03-DEL05-CE  \n",
       "2        2    -23,182565    -50,637228   SPRF-PR   DEL07-PR  UOP05-DEL07-PR  \n",
       "3        2  -25,36517687  -49,04223028   SPRF-PR   DEL01-PR  UOP02-DEL01-PR  \n",
       "4        4  -16,46801304  -43,43121303   SPRF-MG   DEL12-MG  UOP01-DEL12-MG  \n",
       "\n",
       "[5 rows x 30 columns]"
      ]
     },
     "execution_count": 3,
     "metadata": {},
     "output_type": "execute_result"
    }
   ],
   "source": [
    "# Documento CSV de Acidentes 2025 (Agrupados por ocorrência)\n",
    "df_2025_ocorrencia = pd.read_csv(\"dados/2025/datatran2025.csv\", encoding=\"latin1\", sep=\";\")\n",
    "df_2025_ocorrencia.head()\n"
   ]
  },
  {
   "cell_type": "code",
   "execution_count": 4,
   "id": "a12dec7a",
   "metadata": {},
   "outputs": [
    {
     "data": {
      "application/vnd.microsoft.datawrangler.viewer.v0+json": {
       "columns": [
        {
         "name": "index",
         "rawType": "int64",
         "type": "integer"
        },
        {
         "name": "id",
         "rawType": "int64",
         "type": "integer"
        },
        {
         "name": "pesid",
         "rawType": "int64",
         "type": "integer"
        },
        {
         "name": "data_inversa",
         "rawType": "object",
         "type": "string"
        },
        {
         "name": "dia_semana",
         "rawType": "object",
         "type": "string"
        },
        {
         "name": "horario",
         "rawType": "object",
         "type": "string"
        },
        {
         "name": "uf",
         "rawType": "object",
         "type": "string"
        },
        {
         "name": "br",
         "rawType": "int64",
         "type": "integer"
        },
        {
         "name": "km",
         "rawType": "object",
         "type": "string"
        },
        {
         "name": "municipio",
         "rawType": "object",
         "type": "string"
        },
        {
         "name": "causa_acidente",
         "rawType": "object",
         "type": "string"
        },
        {
         "name": "tipo_acidente",
         "rawType": "object",
         "type": "string"
        },
        {
         "name": "classificacao_acidente",
         "rawType": "object",
         "type": "string"
        },
        {
         "name": "fase_dia",
         "rawType": "object",
         "type": "string"
        },
        {
         "name": "sentido_via",
         "rawType": "object",
         "type": "string"
        },
        {
         "name": "condicao_metereologica",
         "rawType": "object",
         "type": "string"
        },
        {
         "name": "tipo_pista",
         "rawType": "object",
         "type": "string"
        },
        {
         "name": "tracado_via",
         "rawType": "object",
         "type": "string"
        },
        {
         "name": "uso_solo",
         "rawType": "object",
         "type": "string"
        },
        {
         "name": "id_veiculo",
         "rawType": "int64",
         "type": "integer"
        },
        {
         "name": "tipo_veiculo",
         "rawType": "object",
         "type": "string"
        },
        {
         "name": "marca",
         "rawType": "object",
         "type": "string"
        },
        {
         "name": "ano_fabricacao_veiculo",
         "rawType": "int64",
         "type": "integer"
        },
        {
         "name": "tipo_envolvido",
         "rawType": "object",
         "type": "string"
        },
        {
         "name": "estado_fisico",
         "rawType": "object",
         "type": "string"
        },
        {
         "name": "idade",
         "rawType": "int64",
         "type": "integer"
        },
        {
         "name": "sexo",
         "rawType": "object",
         "type": "string"
        },
        {
         "name": "ilesos",
         "rawType": "int64",
         "type": "integer"
        },
        {
         "name": "feridos_leves",
         "rawType": "int64",
         "type": "integer"
        },
        {
         "name": "feridos_graves",
         "rawType": "int64",
         "type": "integer"
        },
        {
         "name": "mortos",
         "rawType": "int64",
         "type": "integer"
        },
        {
         "name": "latitude",
         "rawType": "object",
         "type": "string"
        },
        {
         "name": "longitude",
         "rawType": "object",
         "type": "string"
        },
        {
         "name": "regional",
         "rawType": "object",
         "type": "string"
        },
        {
         "name": "delegacia",
         "rawType": "object",
         "type": "string"
        },
        {
         "name": "uop",
         "rawType": "object",
         "type": "string"
        }
       ],
       "ref": "10868d53-e4fa-485d-9cec-b21040ee58e5",
       "rows": [
        [
         "0",
         "652493",
         "1467686",
         "2025-01-01",
         "quarta-feira",
         "06:20:00",
         "SP",
         "116",
         "225",
         "GUARULHOS",
         "Reação tardia ou ineficiente do condutor",
         "Tombamento",
         "Com Vítimas Feridas",
         "Pleno dia",
         "Decrescente",
         "Céu Claro",
         "Múltipla",
         "Reta;Declive",
         "Sim",
         "1172970",
         "Caminhão",
         "Não Informado/Não Informado",
         "0",
         "Condutor",
         "Não Informado",
         "0",
         "Não Informado",
         "0",
         "0",
         "0",
         "0",
         "-23,48586772",
         "-46,54075317",
         "SPRF-SP",
         "DEL01-SP",
         "UOP01-DEL01-SP"
        ],
        [
         "1",
         "652519",
         "1467833",
         "2025-01-01",
         "quarta-feira",
         "07:50:00",
         "CE",
         "116",
         "546,2",
         "PENAFORTE",
         "Pista esburacada",
         "Colisão frontal",
         "Com Vítimas Fatais",
         "Pleno dia",
         "Crescente",
         "Céu Claro",
         "Simples",
         "Reta",
         "Não",
         "1173068",
         "Caminhão-trator",
         "SCANIA/R500 A6X4",
         "2021",
         "Condutor",
         "Ileso",
         "31",
         "Masculino",
         "1",
         "0",
         "0",
         "0",
         "-7,812288",
         "-39,08333306",
         "SPRF-CE",
         "DEL05-CE",
         "UOP03-DEL05-CE"
        ],
        [
         "2",
         "652522",
         "1468042",
         "2025-01-01",
         "quarta-feira",
         "08:45:00",
         "PR",
         "369",
         "88,2",
         "CORNELIO PROCOPIO",
         "Reação tardia ou ineficiente do condutor",
         "Colisão traseira",
         "Com Vítimas Feridas",
         "Pleno dia",
         "Crescente",
         "Sol",
         "Dupla",
         "Reta;Aclive",
         "Sim",
         "1173216",
         "Caminhão",
         "M.BENZ/L 1620",
         "1999",
         "Condutor",
         "Ileso",
         "60",
         "Masculino",
         "1",
         "0",
         "0",
         "0",
         "-23,182565",
         "-50,637228",
         "SPRF-PR",
         "DEL07-PR",
         "UOP05-DEL07-PR"
        ],
        [
         "3",
         "652544",
         "1467849",
         "2025-01-01",
         "quarta-feira",
         "11:00:00",
         "PR",
         "116",
         "74",
         "CAMPINA GRANDE DO SUL",
         "Reação tardia ou ineficiente do condutor",
         "Saída de leito carroçável",
         "Com Vítimas Feridas",
         "Pleno dia",
         "Crescente",
         "Céu Claro",
         "Dupla",
         "Reta",
         "Não",
         "1173088",
         "Caminhão",
         "IVECO/VERTIS 90V18",
         "2013",
         "Condutor",
         "Ileso",
         "40",
         "Masculino",
         "1",
         "0",
         "0",
         "0",
         "-25,36517687",
         "-49,04223028",
         "SPRF-PR",
         "DEL01-PR",
         "UOP02-DEL01-PR"
        ],
        [
         "4",
         "652549",
         "1467791",
         "2025-01-01",
         "quarta-feira",
         "09:30:00",
         "MG",
         "251",
         "471",
         "FRANCISCO SA",
         "Velocidade Incompatível",
         "Colisão frontal",
         "Com Vítimas Feridas",
         "Pleno dia",
         "Decrescente",
         "Chuva",
         "Simples",
         "Curva;Declive",
         "Não",
         "1173042",
         "Caminhão-trator",
         "VW/28.460 METEOR 6X2",
         "2022",
         "Condutor",
         "Ileso",
         "55",
         "Masculino",
         "1",
         "0",
         "0",
         "0",
         "-16,46801304",
         "-43,43121303",
         "SPRF-MG",
         "DEL12-MG",
         "UOP01-DEL12-MG"
        ]
       ],
       "shape": {
        "columns": 35,
        "rows": 5
       }
      },
      "text/html": [
       "<div>\n",
       "<style scoped>\n",
       "    .dataframe tbody tr th:only-of-type {\n",
       "        vertical-align: middle;\n",
       "    }\n",
       "\n",
       "    .dataframe tbody tr th {\n",
       "        vertical-align: top;\n",
       "    }\n",
       "\n",
       "    .dataframe thead th {\n",
       "        text-align: right;\n",
       "    }\n",
       "</style>\n",
       "<table border=\"1\" class=\"dataframe\">\n",
       "  <thead>\n",
       "    <tr style=\"text-align: right;\">\n",
       "      <th></th>\n",
       "      <th>id</th>\n",
       "      <th>pesid</th>\n",
       "      <th>data_inversa</th>\n",
       "      <th>dia_semana</th>\n",
       "      <th>horario</th>\n",
       "      <th>uf</th>\n",
       "      <th>br</th>\n",
       "      <th>km</th>\n",
       "      <th>municipio</th>\n",
       "      <th>causa_acidente</th>\n",
       "      <th>...</th>\n",
       "      <th>sexo</th>\n",
       "      <th>ilesos</th>\n",
       "      <th>feridos_leves</th>\n",
       "      <th>feridos_graves</th>\n",
       "      <th>mortos</th>\n",
       "      <th>latitude</th>\n",
       "      <th>longitude</th>\n",
       "      <th>regional</th>\n",
       "      <th>delegacia</th>\n",
       "      <th>uop</th>\n",
       "    </tr>\n",
       "  </thead>\n",
       "  <tbody>\n",
       "    <tr>\n",
       "      <th>0</th>\n",
       "      <td>652493</td>\n",
       "      <td>1467686</td>\n",
       "      <td>2025-01-01</td>\n",
       "      <td>quarta-feira</td>\n",
       "      <td>06:20:00</td>\n",
       "      <td>SP</td>\n",
       "      <td>116</td>\n",
       "      <td>225</td>\n",
       "      <td>GUARULHOS</td>\n",
       "      <td>Reação tardia ou ineficiente do condutor</td>\n",
       "      <td>...</td>\n",
       "      <td>Não Informado</td>\n",
       "      <td>0</td>\n",
       "      <td>0</td>\n",
       "      <td>0</td>\n",
       "      <td>0</td>\n",
       "      <td>-23,48586772</td>\n",
       "      <td>-46,54075317</td>\n",
       "      <td>SPRF-SP</td>\n",
       "      <td>DEL01-SP</td>\n",
       "      <td>UOP01-DEL01-SP</td>\n",
       "    </tr>\n",
       "    <tr>\n",
       "      <th>1</th>\n",
       "      <td>652519</td>\n",
       "      <td>1467833</td>\n",
       "      <td>2025-01-01</td>\n",
       "      <td>quarta-feira</td>\n",
       "      <td>07:50:00</td>\n",
       "      <td>CE</td>\n",
       "      <td>116</td>\n",
       "      <td>546,2</td>\n",
       "      <td>PENAFORTE</td>\n",
       "      <td>Pista esburacada</td>\n",
       "      <td>...</td>\n",
       "      <td>Masculino</td>\n",
       "      <td>1</td>\n",
       "      <td>0</td>\n",
       "      <td>0</td>\n",
       "      <td>0</td>\n",
       "      <td>-7,812288</td>\n",
       "      <td>-39,08333306</td>\n",
       "      <td>SPRF-CE</td>\n",
       "      <td>DEL05-CE</td>\n",
       "      <td>UOP03-DEL05-CE</td>\n",
       "    </tr>\n",
       "    <tr>\n",
       "      <th>2</th>\n",
       "      <td>652522</td>\n",
       "      <td>1468042</td>\n",
       "      <td>2025-01-01</td>\n",
       "      <td>quarta-feira</td>\n",
       "      <td>08:45:00</td>\n",
       "      <td>PR</td>\n",
       "      <td>369</td>\n",
       "      <td>88,2</td>\n",
       "      <td>CORNELIO PROCOPIO</td>\n",
       "      <td>Reação tardia ou ineficiente do condutor</td>\n",
       "      <td>...</td>\n",
       "      <td>Masculino</td>\n",
       "      <td>1</td>\n",
       "      <td>0</td>\n",
       "      <td>0</td>\n",
       "      <td>0</td>\n",
       "      <td>-23,182565</td>\n",
       "      <td>-50,637228</td>\n",
       "      <td>SPRF-PR</td>\n",
       "      <td>DEL07-PR</td>\n",
       "      <td>UOP05-DEL07-PR</td>\n",
       "    </tr>\n",
       "    <tr>\n",
       "      <th>3</th>\n",
       "      <td>652544</td>\n",
       "      <td>1467849</td>\n",
       "      <td>2025-01-01</td>\n",
       "      <td>quarta-feira</td>\n",
       "      <td>11:00:00</td>\n",
       "      <td>PR</td>\n",
       "      <td>116</td>\n",
       "      <td>74</td>\n",
       "      <td>CAMPINA GRANDE DO SUL</td>\n",
       "      <td>Reação tardia ou ineficiente do condutor</td>\n",
       "      <td>...</td>\n",
       "      <td>Masculino</td>\n",
       "      <td>1</td>\n",
       "      <td>0</td>\n",
       "      <td>0</td>\n",
       "      <td>0</td>\n",
       "      <td>-25,36517687</td>\n",
       "      <td>-49,04223028</td>\n",
       "      <td>SPRF-PR</td>\n",
       "      <td>DEL01-PR</td>\n",
       "      <td>UOP02-DEL01-PR</td>\n",
       "    </tr>\n",
       "    <tr>\n",
       "      <th>4</th>\n",
       "      <td>652549</td>\n",
       "      <td>1467791</td>\n",
       "      <td>2025-01-01</td>\n",
       "      <td>quarta-feira</td>\n",
       "      <td>09:30:00</td>\n",
       "      <td>MG</td>\n",
       "      <td>251</td>\n",
       "      <td>471</td>\n",
       "      <td>FRANCISCO SA</td>\n",
       "      <td>Velocidade Incompatível</td>\n",
       "      <td>...</td>\n",
       "      <td>Masculino</td>\n",
       "      <td>1</td>\n",
       "      <td>0</td>\n",
       "      <td>0</td>\n",
       "      <td>0</td>\n",
       "      <td>-16,46801304</td>\n",
       "      <td>-43,43121303</td>\n",
       "      <td>SPRF-MG</td>\n",
       "      <td>DEL12-MG</td>\n",
       "      <td>UOP01-DEL12-MG</td>\n",
       "    </tr>\n",
       "  </tbody>\n",
       "</table>\n",
       "<p>5 rows × 35 columns</p>\n",
       "</div>"
      ],
      "text/plain": [
       "       id    pesid data_inversa    dia_semana   horario  uf   br     km  \\\n",
       "0  652493  1467686   2025-01-01  quarta-feira  06:20:00  SP  116    225   \n",
       "1  652519  1467833   2025-01-01  quarta-feira  07:50:00  CE  116  546,2   \n",
       "2  652522  1468042   2025-01-01  quarta-feira  08:45:00  PR  369   88,2   \n",
       "3  652544  1467849   2025-01-01  quarta-feira  11:00:00  PR  116     74   \n",
       "4  652549  1467791   2025-01-01  quarta-feira  09:30:00  MG  251    471   \n",
       "\n",
       "               municipio                            causa_acidente  ...  \\\n",
       "0              GUARULHOS  Reação tardia ou ineficiente do condutor  ...   \n",
       "1              PENAFORTE                          Pista esburacada  ...   \n",
       "2      CORNELIO PROCOPIO  Reação tardia ou ineficiente do condutor  ...   \n",
       "3  CAMPINA GRANDE DO SUL  Reação tardia ou ineficiente do condutor  ...   \n",
       "4           FRANCISCO SA                   Velocidade Incompatível  ...   \n",
       "\n",
       "            sexo ilesos feridos_leves feridos_graves mortos      latitude  \\\n",
       "0  Não Informado      0             0              0      0  -23,48586772   \n",
       "1      Masculino      1             0              0      0     -7,812288   \n",
       "2      Masculino      1             0              0      0    -23,182565   \n",
       "3      Masculino      1             0              0      0  -25,36517687   \n",
       "4      Masculino      1             0              0      0  -16,46801304   \n",
       "\n",
       "      longitude regional  delegacia             uop  \n",
       "0  -46,54075317  SPRF-SP   DEL01-SP  UOP01-DEL01-SP  \n",
       "1  -39,08333306  SPRF-CE   DEL05-CE  UOP03-DEL05-CE  \n",
       "2    -50,637228  SPRF-PR   DEL07-PR  UOP05-DEL07-PR  \n",
       "3  -49,04223028  SPRF-PR   DEL01-PR  UOP02-DEL01-PR  \n",
       "4  -43,43121303  SPRF-MG   DEL12-MG  UOP01-DEL12-MG  \n",
       "\n",
       "[5 rows x 35 columns]"
      ]
     },
     "execution_count": 4,
     "metadata": {},
     "output_type": "execute_result"
    }
   ],
   "source": [
    "# Documento CSV de Acidentes 2025 (Agrupados por pessoa)\n",
    "df_2025_pessoa = pd.read_csv(\"dados/2025/acidentes2025.csv\", encoding=\"latin1\", sep=\";\")\n",
    "df_2025_pessoa.head()"
   ]
  },
  {
   "cell_type": "code",
   "execution_count": 5,
   "id": "282567c6",
   "metadata": {},
   "outputs": [
    {
     "data": {
      "application/vnd.microsoft.datawrangler.viewer.v0+json": {
       "columns": [
        {
         "name": "index",
         "rawType": "int64",
         "type": "integer"
        },
        {
         "name": "id",
         "rawType": "int64",
         "type": "integer"
        },
        {
         "name": "pesid",
         "rawType": "float64",
         "type": "float"
        },
        {
         "name": "data_inversa",
         "rawType": "object",
         "type": "string"
        },
        {
         "name": "dia_semana",
         "rawType": "object",
         "type": "string"
        },
        {
         "name": "horario",
         "rawType": "object",
         "type": "string"
        },
        {
         "name": "uf",
         "rawType": "object",
         "type": "string"
        },
        {
         "name": "br",
         "rawType": "float64",
         "type": "float"
        },
        {
         "name": "km",
         "rawType": "object",
         "type": "string"
        },
        {
         "name": "municipio",
         "rawType": "object",
         "type": "string"
        },
        {
         "name": "causa_principal",
         "rawType": "object",
         "type": "string"
        },
        {
         "name": "causa_acidente",
         "rawType": "object",
         "type": "string"
        },
        {
         "name": "ordem_tipo_acidente",
         "rawType": "int64",
         "type": "integer"
        },
        {
         "name": "tipo_acidente",
         "rawType": "object",
         "type": "string"
        },
        {
         "name": "classificacao_acidente",
         "rawType": "object",
         "type": "string"
        },
        {
         "name": "fase_dia",
         "rawType": "object",
         "type": "string"
        },
        {
         "name": "sentido_via",
         "rawType": "object",
         "type": "string"
        },
        {
         "name": "condicao_metereologica",
         "rawType": "object",
         "type": "string"
        },
        {
         "name": "tipo_pista",
         "rawType": "object",
         "type": "string"
        },
        {
         "name": "tracado_via",
         "rawType": "object",
         "type": "string"
        },
        {
         "name": "uso_solo",
         "rawType": "object",
         "type": "string"
        },
        {
         "name": "id_veiculo",
         "rawType": "float64",
         "type": "float"
        },
        {
         "name": "tipo_veiculo",
         "rawType": "object",
         "type": "unknown"
        },
        {
         "name": "marca",
         "rawType": "object",
         "type": "string"
        },
        {
         "name": "ano_fabricacao_veiculo",
         "rawType": "float64",
         "type": "float"
        },
        {
         "name": "tipo_envolvido",
         "rawType": "object",
         "type": "string"
        },
        {
         "name": "estado_fisico",
         "rawType": "object",
         "type": "string"
        },
        {
         "name": "idade",
         "rawType": "float64",
         "type": "float"
        },
        {
         "name": "sexo",
         "rawType": "object",
         "type": "string"
        },
        {
         "name": "ilesos",
         "rawType": "float64",
         "type": "float"
        },
        {
         "name": "feridos_leves",
         "rawType": "float64",
         "type": "float"
        },
        {
         "name": "feridos_graves",
         "rawType": "float64",
         "type": "float"
        },
        {
         "name": "mortos",
         "rawType": "float64",
         "type": "float"
        },
        {
         "name": "latitude",
         "rawType": "object",
         "type": "string"
        },
        {
         "name": "longitude",
         "rawType": "object",
         "type": "string"
        },
        {
         "name": "regional",
         "rawType": "object",
         "type": "string"
        },
        {
         "name": "delegacia",
         "rawType": "object",
         "type": "string"
        },
        {
         "name": "uop",
         "rawType": "object",
         "type": "string"
        }
       ],
       "ref": "7d6e33d9-ad5d-4406-bfc0-e624eac1d80e",
       "rows": [
        [
         "0",
         "652468",
         "1467636.0",
         "2025-01-01",
         "quarta-feira",
         "00:30:00",
         "PE",
         "101.0",
         "89,5",
         "JABOATAO DOS GUARARAPES",
         "Sim",
         "Reação tardia ou ineficiente do condutor",
         "1",
         "Colisão traseira",
         "Com Vítimas Feridas",
         "Plena Noite",
         "Decrescente",
         "Céu Claro",
         "Dupla",
         "Reta",
         "Não",
         "1172939.0",
         "Automóvel",
         "VW/GOL 1.0L MC4",
         "2018.0",
         "Condutor",
         "Não Informado",
         null,
         "Não Informado",
         "0.0",
         "0.0",
         "0.0",
         "0.0",
         "-8,20760697",
         "-34,98372005",
         "SPRF-PE",
         "DEL01-PE",
         "UOP01-DEL01-PE"
        ],
        [
         "1",
         "652468",
         "1467635.0",
         "2025-01-01",
         "quarta-feira",
         "00:30:00",
         "PE",
         "101.0",
         "89,5",
         "JABOATAO DOS GUARARAPES",
         "Sim",
         "Reação tardia ou ineficiente do condutor",
         "1",
         "Colisão traseira",
         "Com Vítimas Feridas",
         "Plena Noite",
         "Decrescente",
         "Céu Claro",
         "Dupla",
         "Reta",
         "Não",
         "1172938.0",
         "Motocicleta",
         "HONDA/NXR150 BROS ES",
         "2009.0",
         "Passageiro",
         "Lesões Leves",
         "28.0",
         "Feminino",
         "0.0",
         "1.0",
         "0.0",
         "0.0",
         "-8,20760697",
         "-34,98372005",
         "SPRF-PE",
         "DEL01-PE",
         "UOP01-DEL01-PE"
        ],
        [
         "2",
         "652468",
         "1467634.0",
         "2025-01-01",
         "quarta-feira",
         "00:30:00",
         "PE",
         "101.0",
         "89,5",
         "JABOATAO DOS GUARARAPES",
         "Sim",
         "Reação tardia ou ineficiente do condutor",
         "1",
         "Colisão traseira",
         "Com Vítimas Feridas",
         "Plena Noite",
         "Decrescente",
         "Céu Claro",
         "Dupla",
         "Reta",
         "Não",
         "1172938.0",
         "Motocicleta",
         "HONDA/NXR150 BROS ES",
         "2009.0",
         "Condutor",
         "Lesões Leves",
         "29.0",
         "Masculino",
         "0.0",
         "1.0",
         "0.0",
         "0.0",
         "-8,20760697",
         "-34,98372005",
         "SPRF-PE",
         "DEL01-PE",
         "UOP01-DEL01-PE"
        ],
        [
         "3",
         "652468",
         "1467637.0",
         "2025-01-01",
         "quarta-feira",
         "00:30:00",
         "PE",
         "101.0",
         "89,5",
         "JABOATAO DOS GUARARAPES",
         "Sim",
         "Reação tardia ou ineficiente do condutor",
         "1",
         "Colisão traseira",
         "Com Vítimas Feridas",
         "Plena Noite",
         "Decrescente",
         "Céu Claro",
         "Dupla",
         "Reta",
         "Não",
         null,
         null,
         "NA/NA",
         null,
         "Testemunha",
         "Não Informado",
         null,
         "Não Informado",
         "0.0",
         "0.0",
         "0.0",
         "0.0",
         "-8,20760697",
         "-34,98372005",
         "SPRF-PE",
         "DEL01-PE",
         "UOP01-DEL01-PE"
        ],
        [
         "4",
         "652469",
         "1467628.0",
         "2025-01-01",
         "quarta-feira",
         "00:50:00",
         "SC",
         "101.0",
         "120",
         "ITAJAI",
         "Sim",
         "Ausência de reação do condutor",
         "1",
         "Tombamento",
         "Com Vítimas Feridas",
         "Plena Noite",
         "Decrescente",
         "Nublado",
         "Dupla",
         "Reta",
         "Não",
         "1172934.0",
         "Motocicleta",
         "HONDA/CG 160 TITAN EX",
         "2016.0",
         "Passageiro",
         "Lesões Leves",
         "24.0",
         "Feminino",
         "0.0",
         "1.0",
         "0.0",
         "0.0",
         "-26,912758",
         "-48,711998",
         "SPRF-SC",
         "DEL04-SC",
         "UOP04-DEL04-SC"
        ]
       ],
       "shape": {
        "columns": 37,
        "rows": 5
       }
      },
      "text/html": [
       "<div>\n",
       "<style scoped>\n",
       "    .dataframe tbody tr th:only-of-type {\n",
       "        vertical-align: middle;\n",
       "    }\n",
       "\n",
       "    .dataframe tbody tr th {\n",
       "        vertical-align: top;\n",
       "    }\n",
       "\n",
       "    .dataframe thead th {\n",
       "        text-align: right;\n",
       "    }\n",
       "</style>\n",
       "<table border=\"1\" class=\"dataframe\">\n",
       "  <thead>\n",
       "    <tr style=\"text-align: right;\">\n",
       "      <th></th>\n",
       "      <th>id</th>\n",
       "      <th>pesid</th>\n",
       "      <th>data_inversa</th>\n",
       "      <th>dia_semana</th>\n",
       "      <th>horario</th>\n",
       "      <th>uf</th>\n",
       "      <th>br</th>\n",
       "      <th>km</th>\n",
       "      <th>municipio</th>\n",
       "      <th>causa_principal</th>\n",
       "      <th>...</th>\n",
       "      <th>sexo</th>\n",
       "      <th>ilesos</th>\n",
       "      <th>feridos_leves</th>\n",
       "      <th>feridos_graves</th>\n",
       "      <th>mortos</th>\n",
       "      <th>latitude</th>\n",
       "      <th>longitude</th>\n",
       "      <th>regional</th>\n",
       "      <th>delegacia</th>\n",
       "      <th>uop</th>\n",
       "    </tr>\n",
       "  </thead>\n",
       "  <tbody>\n",
       "    <tr>\n",
       "      <th>0</th>\n",
       "      <td>652468</td>\n",
       "      <td>1467636.0</td>\n",
       "      <td>2025-01-01</td>\n",
       "      <td>quarta-feira</td>\n",
       "      <td>00:30:00</td>\n",
       "      <td>PE</td>\n",
       "      <td>101.0</td>\n",
       "      <td>89,5</td>\n",
       "      <td>JABOATAO DOS GUARARAPES</td>\n",
       "      <td>Sim</td>\n",
       "      <td>...</td>\n",
       "      <td>Não Informado</td>\n",
       "      <td>0.0</td>\n",
       "      <td>0.0</td>\n",
       "      <td>0.0</td>\n",
       "      <td>0.0</td>\n",
       "      <td>-8,20760697</td>\n",
       "      <td>-34,98372005</td>\n",
       "      <td>SPRF-PE</td>\n",
       "      <td>DEL01-PE</td>\n",
       "      <td>UOP01-DEL01-PE</td>\n",
       "    </tr>\n",
       "    <tr>\n",
       "      <th>1</th>\n",
       "      <td>652468</td>\n",
       "      <td>1467635.0</td>\n",
       "      <td>2025-01-01</td>\n",
       "      <td>quarta-feira</td>\n",
       "      <td>00:30:00</td>\n",
       "      <td>PE</td>\n",
       "      <td>101.0</td>\n",
       "      <td>89,5</td>\n",
       "      <td>JABOATAO DOS GUARARAPES</td>\n",
       "      <td>Sim</td>\n",
       "      <td>...</td>\n",
       "      <td>Feminino</td>\n",
       "      <td>0.0</td>\n",
       "      <td>1.0</td>\n",
       "      <td>0.0</td>\n",
       "      <td>0.0</td>\n",
       "      <td>-8,20760697</td>\n",
       "      <td>-34,98372005</td>\n",
       "      <td>SPRF-PE</td>\n",
       "      <td>DEL01-PE</td>\n",
       "      <td>UOP01-DEL01-PE</td>\n",
       "    </tr>\n",
       "    <tr>\n",
       "      <th>2</th>\n",
       "      <td>652468</td>\n",
       "      <td>1467634.0</td>\n",
       "      <td>2025-01-01</td>\n",
       "      <td>quarta-feira</td>\n",
       "      <td>00:30:00</td>\n",
       "      <td>PE</td>\n",
       "      <td>101.0</td>\n",
       "      <td>89,5</td>\n",
       "      <td>JABOATAO DOS GUARARAPES</td>\n",
       "      <td>Sim</td>\n",
       "      <td>...</td>\n",
       "      <td>Masculino</td>\n",
       "      <td>0.0</td>\n",
       "      <td>1.0</td>\n",
       "      <td>0.0</td>\n",
       "      <td>0.0</td>\n",
       "      <td>-8,20760697</td>\n",
       "      <td>-34,98372005</td>\n",
       "      <td>SPRF-PE</td>\n",
       "      <td>DEL01-PE</td>\n",
       "      <td>UOP01-DEL01-PE</td>\n",
       "    </tr>\n",
       "    <tr>\n",
       "      <th>3</th>\n",
       "      <td>652468</td>\n",
       "      <td>1467637.0</td>\n",
       "      <td>2025-01-01</td>\n",
       "      <td>quarta-feira</td>\n",
       "      <td>00:30:00</td>\n",
       "      <td>PE</td>\n",
       "      <td>101.0</td>\n",
       "      <td>89,5</td>\n",
       "      <td>JABOATAO DOS GUARARAPES</td>\n",
       "      <td>Sim</td>\n",
       "      <td>...</td>\n",
       "      <td>Não Informado</td>\n",
       "      <td>0.0</td>\n",
       "      <td>0.0</td>\n",
       "      <td>0.0</td>\n",
       "      <td>0.0</td>\n",
       "      <td>-8,20760697</td>\n",
       "      <td>-34,98372005</td>\n",
       "      <td>SPRF-PE</td>\n",
       "      <td>DEL01-PE</td>\n",
       "      <td>UOP01-DEL01-PE</td>\n",
       "    </tr>\n",
       "    <tr>\n",
       "      <th>4</th>\n",
       "      <td>652469</td>\n",
       "      <td>1467628.0</td>\n",
       "      <td>2025-01-01</td>\n",
       "      <td>quarta-feira</td>\n",
       "      <td>00:50:00</td>\n",
       "      <td>SC</td>\n",
       "      <td>101.0</td>\n",
       "      <td>120</td>\n",
       "      <td>ITAJAI</td>\n",
       "      <td>Sim</td>\n",
       "      <td>...</td>\n",
       "      <td>Feminino</td>\n",
       "      <td>0.0</td>\n",
       "      <td>1.0</td>\n",
       "      <td>0.0</td>\n",
       "      <td>0.0</td>\n",
       "      <td>-26,912758</td>\n",
       "      <td>-48,711998</td>\n",
       "      <td>SPRF-SC</td>\n",
       "      <td>DEL04-SC</td>\n",
       "      <td>UOP04-DEL04-SC</td>\n",
       "    </tr>\n",
       "  </tbody>\n",
       "</table>\n",
       "<p>5 rows × 37 columns</p>\n",
       "</div>"
      ],
      "text/plain": [
       "       id      pesid data_inversa    dia_semana   horario  uf     br    km  \\\n",
       "0  652468  1467636.0   2025-01-01  quarta-feira  00:30:00  PE  101.0  89,5   \n",
       "1  652468  1467635.0   2025-01-01  quarta-feira  00:30:00  PE  101.0  89,5   \n",
       "2  652468  1467634.0   2025-01-01  quarta-feira  00:30:00  PE  101.0  89,5   \n",
       "3  652468  1467637.0   2025-01-01  quarta-feira  00:30:00  PE  101.0  89,5   \n",
       "4  652469  1467628.0   2025-01-01  quarta-feira  00:50:00  SC  101.0   120   \n",
       "\n",
       "                 municipio causa_principal  ...           sexo  ilesos  \\\n",
       "0  JABOATAO DOS GUARARAPES             Sim  ...  Não Informado     0.0   \n",
       "1  JABOATAO DOS GUARARAPES             Sim  ...       Feminino     0.0   \n",
       "2  JABOATAO DOS GUARARAPES             Sim  ...      Masculino     0.0   \n",
       "3  JABOATAO DOS GUARARAPES             Sim  ...  Não Informado     0.0   \n",
       "4                   ITAJAI             Sim  ...       Feminino     0.0   \n",
       "\n",
       "  feridos_leves feridos_graves mortos     latitude     longitude regional  \\\n",
       "0           0.0            0.0    0.0  -8,20760697  -34,98372005  SPRF-PE   \n",
       "1           1.0            0.0    0.0  -8,20760697  -34,98372005  SPRF-PE   \n",
       "2           1.0            0.0    0.0  -8,20760697  -34,98372005  SPRF-PE   \n",
       "3           0.0            0.0    0.0  -8,20760697  -34,98372005  SPRF-PE   \n",
       "4           1.0            0.0    0.0   -26,912758    -48,711998  SPRF-SC   \n",
       "\n",
       "  delegacia             uop  \n",
       "0  DEL01-PE  UOP01-DEL01-PE  \n",
       "1  DEL01-PE  UOP01-DEL01-PE  \n",
       "2  DEL01-PE  UOP01-DEL01-PE  \n",
       "3  DEL01-PE  UOP01-DEL01-PE  \n",
       "4  DEL04-SC  UOP04-DEL04-SC  \n",
       "\n",
       "[5 rows x 37 columns]"
      ]
     },
     "execution_count": 5,
     "metadata": {},
     "output_type": "execute_result"
    }
   ],
   "source": [
    "# Documento CSV de Acidentes 2025 (Agrupados por pessoa - Todas as causas e tipos de acidentes)\n",
    "df_2025_todas_causas = pd.read_csv(\"dados/2025/acidentes2025_todas_causas_tipos.csv\", encoding=\"latin1\", sep=\";\")\n",
    "df_2025_todas_causas.head()"
   ]
  },
  {
   "cell_type": "code",
   "execution_count": 6,
   "id": "6b298c30",
   "metadata": {},
   "outputs": [
    {
     "data": {
      "application/vnd.microsoft.datawrangler.viewer.v0+json": {
       "columns": [
        {
         "name": "classificacao_acidente",
         "rawType": "object",
         "type": "string"
        },
        {
         "name": "count",
         "rawType": "int64",
         "type": "integer"
        }
       ],
       "ref": "798eca2e-9fd6-40e3-8892-0dd790145671",
       "rows": [
        [
         "Com Vítimas Feridas",
         "136378"
        ],
        [
         "Com Vítimas Fatais",
         "29106"
        ],
        [
         "Sem Vítimas",
         "16947"
        ]
       ],
       "shape": {
        "columns": 1,
        "rows": 3
       }
      },
      "text/plain": [
       "classificacao_acidente\n",
       "Com Vítimas Feridas    136378\n",
       "Com Vítimas Fatais      29106\n",
       "Sem Vítimas             16947\n",
       "Name: count, dtype: int64"
      ]
     },
     "execution_count": 6,
     "metadata": {},
     "output_type": "execute_result"
    }
   ],
   "source": [
    "df_2025_todas_causas['classificacao_acidente'].value_counts()\n"
   ]
  },
  {
   "cell_type": "markdown",
   "id": "3ddee81e",
   "metadata": {},
   "source": [
    "# Quantidade de acidentes com vítimas fatais"
   ]
  },
  {
   "cell_type": "code",
   "execution_count": 7,
   "id": "bcb9882d",
   "metadata": {},
   "outputs": [
    {
     "name": "stdout",
     "output_type": "stream",
     "text": [
      "       br  qtd_acidentes_fatais\n",
      "0    10.0                   410\n",
      "1    20.0                   525\n",
      "2    40.0                   812\n",
      "3    50.0                   213\n",
      "4    60.0                   540\n",
      "..    ...                   ...\n",
      "85  472.0                    11\n",
      "86  476.0                   312\n",
      "87  480.0                     3\n",
      "88  487.0                    24\n",
      "89  493.0                    34\n",
      "\n",
      "[90 rows x 2 columns]\n"
     ]
    }
   ],
   "source": [
    "# Filtra apenas os acidentes com vítimas fatais\n",
    "fatais = df_2025_todas_causas[df_2025_todas_causas['classificacao_acidente'] == 'Com Vítimas Fatais']\n",
    "\n",
    "# Agrupa por rodovia e conta quantas ocorrências há\n",
    "resultado = fatais.groupby('br').size().reset_index(name='qtd_acidentes_fatais')\n",
    "\n",
    "# Ordena do maior pro menor (opcional)\n",
    "resultado = resultado.sort_values(by='br', ascending=True)\n",
    "\n",
    "# Exibe o resultado\n",
    "print(resultado)\n"
   ]
  },
  {
   "cell_type": "code",
   "execution_count": 8,
   "id": "2ec4223d",
   "metadata": {},
   "outputs": [
    {
     "name": "stderr",
     "output_type": "stream",
     "text": [
      "C:\\Users\\adria\\AppData\\Local\\Temp\\ipykernel_18308\\3620233679.py:2: FutureWarning: \n",
      "\n",
      "Passing `palette` without assigning `hue` is deprecated and will be removed in v0.14.0. Assign the `x` variable to `hue` and set `legend=False` for the same effect.\n",
      "\n",
      "  sns.barplot(data=resultado, x='br', y='qtd_acidentes_fatais', palette='Reds_r')\n"
     ]
    },
    {
     "data": {
      "image/png": "[encoded data removed]",
      "text/plain": [
       "<Figure size 2000x600 with 1 Axes>"
      ]
     },
     "metadata": {},
     "output_type": "display_data"
    }
   ],
   "source": [
    "plt.figure(figsize=(20, 6))\n",
    "sns.barplot(data=resultado, x='br', y='qtd_acidentes_fatais', palette='Reds_r')\n",
    "\n",
    "plt.title('Quantidade de Acidentes com Vítimas Fatais por Rodovia - 2025')\n",
    "plt.xlabel('Rodovia')\n",
    "plt.ylabel('Quantidade de Acidentes Fatais')\n",
    "\n",
    "plt.xticks(rotation=90)\n",
    "plt.tight_layout()\n",
    "plt.show()"
   ]
  },
  {
   "cell_type": "markdown",
   "id": "6d9c3033",
   "metadata": {},
   "source": [
    "# Causa de acidentes"
   ]
  },
  {
   "cell_type": "code",
   "execution_count": 9,
   "id": "e2772f94",
   "metadata": {},
   "outputs": [
    {
     "data": {
      "application/vnd.microsoft.datawrangler.viewer.v0+json": {
       "columns": [
        {
         "name": "causa_acidente",
         "rawType": "object",
         "type": "string"
        },
        {
         "name": "count",
         "rawType": "int64",
         "type": "integer"
        }
       ],
       "ref": "04e55fc4-ca8b-40c8-8d28-6c9ec4491aa7",
       "rows": [
        [
         "Reação tardia ou ineficiente do condutor",
         "26417"
        ],
        [
         "Ausência de reação do condutor",
         "21942"
        ],
        [
         "Velocidade Incompatível",
         "17412"
        ],
        [
         "Acessar a via sem observar a presença dos outros veículos",
         "12648"
        ],
        [
         "Condutor deixou de manter distância do veículo da frente",
         "12556"
        ],
        [
         "Manobra de mudança de faixa",
         "9230"
        ],
        [
         "Ingestão de álcool pelo condutor",
         "8447"
        ],
        [
         "Transitar na contramão",
         "6890"
        ],
        [
         "Ultrapassagem Indevida",
         "5789"
        ],
        [
         "Chuva",
         "5241"
        ],
        [
         "Condutor Dormindo",
         "5109"
        ],
        [
         "Demais falhas mecânicas ou elétricas",
         "4620"
        ],
        [
         "Trafegar com motocicleta (ou similar) entre as faixas",
         "3874"
        ],
        [
         "Avarias e/ou desgaste excessivo no pneu",
         "2542"
        ],
        [
         "Desrespeitar a preferência no cruzamento",
         "2504"
        ],
        [
         "Conversão proibida",
         "2297"
        ],
        [
         "Iluminação deficiente",
         "1949"
        ],
        [
         "Pista Escorregadia",
         "1944"
        ],
        [
         "Acumulo de água sobre o pavimento",
         "1818"
        ],
        [
         "Animais na Pista",
         "1781"
        ],
        [
         "Frear bruscamente",
         "1651"
        ],
        [
         "Curva acentuada",
         "1640"
        ],
        [
         "Acesso irregular",
         "1592"
        ],
        [
         "Mal súbito do condutor",
         "1282"
        ],
        [
         "Ausência de sinalização",
         "1276"
        ],
        [
         "Falta de elemento de contenção que evite a saída do leito carroçável",
         "1228"
        ],
        [
         "Condutor usando celular",
         "1184"
        ],
        [
         "Transitar no Acostamento",
         "1100"
        ],
        [
         "Carga excessiva e/ou mal acondicionada",
         "1080"
        ],
        [
         "Problema com o freio",
         "1071"
        ],
        [
         "Demais falhas na via",
         "959"
        ],
        [
         "Objeto estático sobre o leito carroçável",
         "908"
        ],
        [
         "Falta de acostamento",
         "861"
        ],
        [
         "Entrada inopinada do pedestre",
         "834"
        ],
        [
         "Retorno proibido",
         "756"
        ],
        [
         "Deficiência do Sistema de Iluminação/Sinalização",
         "749"
        ],
        [
         "Pedestre andava na pista",
         "740"
        ],
        [
         "Pedestre cruzava a pista fora da faixa",
         "706"
        ],
        [
         "Pista esburacada",
         "689"
        ],
        [
         "Declive acentuado",
         "534"
        ],
        [
         "Suicídio (presumido)",
         "507"
        ],
        [
         "Acumulo de areia ou detritos sobre o pavimento",
         "499"
        ],
        [
         "Ingestão de substâncias psicoativas pelo condutor",
         "489"
        ],
        [
         "Estacionar ou parar em local proibido",
         "474"
        ],
        [
         "Condutor desrespeitou a iluminação vermelha do semáforo",
         "447"
        ],
        [
         "Afundamento ou ondulação no pavimento",
         "418"
        ],
        [
         "Acostamento em desnível",
         "418"
        ],
        [
         "Sinalização mal posicionada",
         "359"
        ],
        [
         "Área urbana sem a presença de local apropriado para a travessia de pedestres",
         "283"
        ],
        [
         "Acumulo de óleo sobre o pavimento",
         "268"
        ]
       ],
       "shape": {
        "columns": 1,
        "rows": 70
       }
      },
      "text/plain": [
       "causa_acidente\n",
       "Reação tardia ou ineficiente do condutor                                         26417\n",
       "Ausência de reação do condutor                                                   21942\n",
       "Velocidade Incompatível                                                          17412\n",
       "Acessar a via sem observar a presença dos outros veículos                        12648\n",
       "Condutor deixou de manter distância do veículo da frente                         12556\n",
       "                                                                                 ...  \n",
       "Semáforo com defeito                                                                30\n",
       "Modificação proibida                                                                24\n",
       "Sinalização encoberta                                                               20\n",
       "Transitar na calçada                                                                11\n",
       "Condutor não acionou o farol baixo durante o dia em rodovias de pista simples        6\n",
       "Name: count, Length: 70, dtype: int64"
      ]
     },
     "execution_count": 9,
     "metadata": {},
     "output_type": "execute_result"
    }
   ],
   "source": [
    "df_2025_todas_causas['causa_acidente'].value_counts()"
   ]
  },
  {
   "cell_type": "code",
   "execution_count": 10,
   "id": "0f40e9ee",
   "metadata": {},
   "outputs": [
    {
     "name": "stderr",
     "output_type": "stream",
     "text": [
      "C:\\Users\\adria\\AppData\\Local\\Temp\\ipykernel_18308\\876380060.py:14: FutureWarning: \n",
      "\n",
      "Passing `palette` without assigning `hue` is deprecated and will be removed in v0.14.0. Assign the `x` variable to `hue` and set `legend=False` for the same effect.\n",
      "\n",
      "  sns.barplot(data=causas_df, x='causa_acidente', y='quantidade', palette='Blues_d', ax=ax1)\n",
      "C:\\Users\\adria\\AppData\\Local\\Temp\\ipykernel_18308\\876380060.py:34: UserWarning: Tight layout not applied. The bottom and top margins cannot be made large enough to accommodate all axes decorations.\n",
      "  plt.tight_layout()\n"
     ]
    },
    {
     "data": {
      "image/png": "[encoded data removed]",
      "text/plain": [
       "<Figure size 2000x600 with 2 Axes>"
      ]
     },
     "metadata": {},
     "output_type": "display_data"
    }
   ],
   "source": [
    "# Agrupamento por causa\n",
    "causas_df = df_2025_todas_causas['causa_acidente'].value_counts().reset_index()\n",
    "causas_df.columns = ['causa_acidente', 'quantidade']\n",
    "\n",
    "# Calcula percentual acumulado\n",
    "causas_df['percentual'] = 100 * causas_df['quantidade'].cumsum() / causas_df['quantidade'].sum()\n",
    "\n",
    "# Encontra a posição onde atinge 80%\n",
    "idx_80 = causas_df[causas_df['percentual'] >= 80].index[0]\n",
    "causa_80 = causas_df['causa_acidente'][idx_80]\n",
    "\n",
    "fig, ax1 = plt.subplots(figsize=(20, 6))\n",
    "\n",
    "sns.barplot(data=causas_df, x='causa_acidente', y='quantidade', palette='Blues_d', ax=ax1)\n",
    "ax1.set_xlabel('Causa do Acidente')\n",
    "ax1.set_ylabel('Quantidade', color='blue')\n",
    "ax1.tick_params('y', colors='blue')\n",
    "plt.xticks(rotation=90)\n",
    "\n",
    "ax2 = ax1.twinx()\n",
    "ax2.plot(causas_df['causa_acidente'], causas_df['percentual'], color='red', marker='o', linewidth=2)\n",
    "ax2.set_ylabel('Percentual Acumulado (%)', color='red')\n",
    "ax2.tick_params('y', colors='red')\n",
    "ax2.set_ylim(0, 110)\n",
    "\n",
    "ax2.axhline(80, color='gray', linestyle='--', linewidth=1)\n",
    "ax2.text(len(causas_df) - 1, 81, '80%', color='gray', ha='right', va='bottom')\n",
    "\n",
    "ax1.axvline(idx_80, color='gray', linestyle='--', linewidth=1)\n",
    "ax1.text(idx_80 + 0.5, ax1.get_ylim()[1]*0.95, f'{causa_80}', rotation=90, color='gray', va='top')\n",
    "\n",
    "plt.title('Gráfico de Pareto - Causas de Acidentes 2025')\n",
    "\n",
    "plt.tight_layout()\n",
    "plt.show()"
   ]
  },
  {
   "cell_type": "markdown",
   "id": "63e4a419",
   "metadata": {},
   "source": [
    "# Dia da semana do acidente"
   ]
  },
  {
   "cell_type": "code",
   "execution_count": 11,
   "id": "31e277cc",
   "metadata": {},
   "outputs": [
    {
     "data": {
      "application/vnd.microsoft.datawrangler.viewer.v0+json": {
       "columns": [
        {
         "name": "dia_semana",
         "rawType": "object",
         "type": "string"
        },
        {
         "name": "count",
         "rawType": "int64",
         "type": "integer"
        }
       ],
       "ref": "a342fd9e-9332-4aa9-88a0-b211e5d28769",
       "rows": [
        [
         "sábado",
         "28907"
        ],
        [
         "domingo",
         "28557"
        ],
        [
         "sexta-feira",
         "28470"
        ],
        [
         "quinta-feira",
         "25259"
        ],
        [
         "segunda-feira",
         "25186"
        ],
        [
         "quarta-feira",
         "23844"
        ],
        [
         "terça-feira",
         "22211"
        ]
       ],
       "shape": {
        "columns": 1,
        "rows": 7
       }
      },
      "text/plain": [
       "dia_semana\n",
       "sábado           28907\n",
       "domingo          28557\n",
       "sexta-feira      28470\n",
       "quinta-feira     25259\n",
       "segunda-feira    25186\n",
       "quarta-feira     23844\n",
       "terça-feira      22211\n",
       "Name: count, dtype: int64"
      ]
     },
     "execution_count": 11,
     "metadata": {},
     "output_type": "execute_result"
    }
   ],
   "source": [
    "df_2025_todas_causas['dia_semana'].value_counts()"
   ]
  },
  {
   "cell_type": "markdown",
   "id": "b5c819a7",
   "metadata": {},
   "source": [
    "# UF acidentes"
   ]
  },
  {
   "cell_type": "code",
   "execution_count": 15,
   "id": "ff46353e",
   "metadata": {},
   "outputs": [
    {
     "data": {
      "application/vnd.microsoft.datawrangler.viewer.v0+json": {
       "columns": [
        {
         "name": "uf",
         "rawType": "object",
         "type": "string"
        },
        {
         "name": "count",
         "rawType": "int64",
         "type": "integer"
        }
       ],
       "ref": "27357fc1-bbfb-4fb1-b504-c3167aabc8ed",
       "rows": [
        [
         "MG",
         "25518"
        ],
        [
         "PR",
         "23291"
        ],
        [
         "SC",
         "16957"
        ],
        [
         "RS",
         "12242"
        ],
        [
         "SP",
         "10103"
        ],
        [
         "BA",
         "9878"
        ],
        [
         "RJ",
         "9825"
        ],
        [
         "GO",
         "9359"
        ],
        [
         "MT",
         "8724"
        ],
        [
         "PE",
         "7428"
        ],
        [
         "PB",
         "6098"
        ],
        [
         "PI",
         "5788"
        ],
        [
         "RO",
         "5693"
        ],
        [
         "MS",
         "5506"
        ],
        [
         "ES",
         "4613"
        ],
        [
         "PA",
         "3936"
        ],
        [
         "CE",
         "3374"
        ],
        [
         "MA",
         "3101"
        ],
        [
         "RN",
         "2442"
        ],
        [
         "TO",
         "2177"
        ],
        [
         "DF",
         "2108"
        ],
        [
         "AL",
         "1112"
        ],
        [
         "SE",
         "987"
        ],
        [
         "AC",
         "836"
        ],
        [
         "RR",
         "481"
        ],
        [
         "AM",
         "467"
        ],
        [
         "AP",
         "390"
        ]
       ],
       "shape": {
        "columns": 1,
        "rows": 27
       }
      },
      "text/plain": [
       "uf\n",
       "MG    25518\n",
       "PR    23291\n",
       "SC    16957\n",
       "RS    12242\n",
       "SP    10103\n",
       "BA     9878\n",
       "RJ     9825\n",
       "GO     9359\n",
       "MT     8724\n",
       "PE     7428\n",
       "PB     6098\n",
       "PI     5788\n",
       "RO     5693\n",
       "MS     5506\n",
       "ES     4613\n",
       "PA     3936\n",
       "CE     3374\n",
       "MA     3101\n",
       "RN     2442\n",
       "TO     2177\n",
       "DF     2108\n",
       "AL     1112\n",
       "SE      987\n",
       "AC      836\n",
       "RR      481\n",
       "AM      467\n",
       "AP      390\n",
       "Name: count, dtype: int64"
      ]
     },
     "execution_count": 15,
     "metadata": {},
     "output_type": "execute_result"
    }
   ],
   "source": [
    "df_2025_todas_causas['uf'].value_counts()"
   ]
  },
  {
   "cell_type": "markdown",
   "id": "01761628",
   "metadata": {},
   "source": [
    "# tipo de acidente"
   ]
  },
  {
   "cell_type": "code",
   "execution_count": 16,
   "id": "3b5b8324",
   "metadata": {},
   "outputs": [
    {
     "data": {
      "application/vnd.microsoft.datawrangler.viewer.v0+json": {
       "columns": [
        {
         "name": "tipo_acidente",
         "rawType": "object",
         "type": "string"
        },
        {
         "name": "count",
         "rawType": "int64",
         "type": "integer"
        }
       ],
       "ref": "d86baa72-f3f2-487b-9ec0-9d78a197fa09",
       "rows": [
        [
         "Colisão traseira",
         "26544"
        ],
        [
         "Tombamento",
         "25246"
        ],
        [
         "Saída de leito carroçável",
         "23509"
        ],
        [
         "Queda de ocupante de veículo",
         "22880"
        ],
        [
         "Colisão transversal",
         "14664"
        ],
        [
         "Colisão com objeto",
         "14256"
        ],
        [
         "Colisão lateral mesmo sentido",
         "13348"
        ],
        [
         "Colisão frontal",
         "12519"
        ],
        [
         "Capotamento",
         "8607"
        ],
        [
         "Colisão lateral sentido oposto",
         "6657"
        ],
        [
         "Atropelamento de Pedestre",
         "4675"
        ],
        [
         "Engavetamento",
         "4176"
        ],
        [
         "Incêndio",
         "1915"
        ],
        [
         "Derramamento de carga",
         "1836"
        ],
        [
         "Atropelamento de Animal",
         "1153"
        ],
        [
         "Eventos atípicos",
         "446"
        ],
        [
         "Sinistro pessoal de trânsito",
         "3"
        ]
       ],
       "shape": {
        "columns": 1,
        "rows": 17
       }
      },
      "text/plain": [
       "tipo_acidente\n",
       "Colisão traseira                  26544\n",
       "Tombamento                        25246\n",
       "Saída de leito carroçável         23509\n",
       "Queda de ocupante de veículo      22880\n",
       "Colisão transversal               14664\n",
       "Colisão com objeto                14256\n",
       "Colisão lateral mesmo sentido     13348\n",
       "Colisão frontal                   12519\n",
       "Capotamento                        8607\n",
       "Colisão lateral sentido oposto     6657\n",
       "Atropelamento de Pedestre          4675\n",
       "Engavetamento                      4176\n",
       "Incêndio                           1915\n",
       "Derramamento de carga              1836\n",
       "Atropelamento de Animal            1153\n",
       "Eventos atípicos                    446\n",
       "Sinistro pessoal de trânsito          3\n",
       "Name: count, dtype: int64"
      ]
     },
     "execution_count": 16,
     "metadata": {},
     "output_type": "execute_result"
    }
   ],
   "source": [
    "df_2025_todas_causas['tipo_acidente'].value_counts()"
   ]
  },
  {
   "cell_type": "code",
   "execution_count": 22,
   "id": "d84491f8",
   "metadata": {},
   "outputs": [
    {
     "data": {
      "image/png": "[encoded data removed]",
      "text/plain": [
       "<Figure size 2000x800 with 2 Axes>"
      ]
     },
     "metadata": {},
     "output_type": "display_data"
    }
   ],
   "source": [
    "vc = df_2025_todas_causas['tipo_acidente'].value_counts()\n",
    "pareto_df = vc.reset_index()\n",
    "pareto_df.columns = ['tipo_acidente', 'quantidade']\n",
    "\n",
    "pareto_df['percent'] = 100 * pareto_df['quantidade'] / pareto_df['quantidade'].sum()\n",
    "pareto_df['percent_acumulado'] = pareto_df['percent'].cumsum()\n",
    "\n",
    "fig, ax = plt.subplots(figsize=(20,8))\n",
    "\n",
    "ax.bar(range(len(pareto_df)), pareto_df['quantidade'], color='C0')\n",
    "\n",
    "ax2 = ax.twinx()\n",
    "ax2.plot(range(len(pareto_df)), pareto_df['percent_acumulado'], color='C1', marker='D', ms=7)\n",
    "ax2.axhline(80, color='r', linestyle='--', linewidth=1)\n",
    "ax2.set_ylabel('Percentual Acumulado (%)')\n",
    "\n",
    "ax.set_xlabel('Tipo de Acidente')\n",
    "ax.set_ylabel('Quantidade')\n",
    "ax.set_title('Gráfico de Pareto - Tipos de Acidente (2025)')\n",
    "\n",
    "ax.set_xticks(range(len(pareto_df)))\n",
    "ax.set_xticklabels(pareto_df['tipo_acidente'], rotation=90)\n",
    "\n",
    "plt.grid(axis='y')\n",
    "\n",
    "for i, perc in enumerate(pareto_df['percent_acumulado']):\n",
    "    if perc >= 80:\n",
    "        ax2.annotate(f'{perc:.1f}%', (i, perc), textcoords=\"offset points\", xytext=(0,10), ha='center', color='red')\n",
    "\n",
    "plt.tight_layout()\n",
    "plt.show()"
   ]
  },
  {
   "cell_type": "markdown",
   "id": "3e2a806c",
   "metadata": {},
   "source": [
    "# condição meteorológica"
   ]
  },
  {
   "cell_type": "code",
   "execution_count": 24,
   "id": "39befda8",
   "metadata": {},
   "outputs": [
    {
     "data": {
      "application/vnd.microsoft.datawrangler.viewer.v0+json": {
       "columns": [
        {
         "name": "condicao_metereologica",
         "rawType": "object",
         "type": "string"
        },
        {
         "name": "count",
         "rawType": "int64",
         "type": "integer"
        }
       ],
       "ref": "427ca152-c86e-45ae-8941-943bdb8182bc",
       "rows": [
        [
         "Céu Claro",
         "106808"
        ],
        [
         "Nublado",
         "33314"
        ],
        [
         "Chuva",
         "21619"
        ],
        [
         "Sol",
         "10947"
        ],
        [
         "Garoa/Chuvisco",
         "6624"
        ],
        [
         "Ignorado",
         "1831"
        ],
        [
         "Nevoeiro/Neblina",
         "1065"
        ],
        [
         "Vento",
         "226"
        ]
       ],
       "shape": {
        "columns": 1,
        "rows": 8
       }
      },
      "text/plain": [
       "condicao_metereologica\n",
       "Céu Claro           106808\n",
       "Nublado              33314\n",
       "Chuva                21619\n",
       "Sol                  10947\n",
       "Garoa/Chuvisco        6624\n",
       "Ignorado              1831\n",
       "Nevoeiro/Neblina      1065\n",
       "Vento                  226\n",
       "Name: count, dtype: int64"
      ]
     },
     "execution_count": 24,
     "metadata": {},
     "output_type": "execute_result"
    }
   ],
   "source": [
    "df_2025_todas_causas['condicao_metereologica'].value_counts()"
   ]
  },
  {
   "cell_type": "markdown",
   "id": "cd0231ba",
   "metadata": {},
   "source": [
    "# tipo de pista"
   ]
  },
  {
   "cell_type": "code",
   "execution_count": 25,
   "id": "416c8953",
   "metadata": {},
   "outputs": [
    {
     "data": {
      "application/vnd.microsoft.datawrangler.viewer.v0+json": {
       "columns": [
        {
         "name": "tipo_pista",
         "rawType": "object",
         "type": "string"
        },
        {
         "name": "count",
         "rawType": "int64",
         "type": "integer"
        }
       ],
       "ref": "6cde4477-9f26-4a54-ad94-588a55c9fd48",
       "rows": [
        [
         "Simples",
         "98788"
        ],
        [
         "Dupla",
         "68982"
        ],
        [
         "Múltipla",
         "14664"
        ]
       ],
       "shape": {
        "columns": 1,
        "rows": 3
       }
      },
      "text/plain": [
       "tipo_pista\n",
       "Simples     98788\n",
       "Dupla       68982\n",
       "Múltipla    14664\n",
       "Name: count, dtype: int64"
      ]
     },
     "execution_count": 25,
     "metadata": {},
     "output_type": "execute_result"
    }
   ],
   "source": [
    "df_2025_todas_causas['tipo_pista'].value_counts()"
   ]
  },
  {
   "cell_type": "markdown",
   "id": "160b7223",
   "metadata": {},
   "source": [
    "# Traçado da pista"
   ]
  },
  {
   "cell_type": "code",
   "execution_count": 27,
   "id": "c9698c3e",
   "metadata": {},
   "outputs": [
    {
     "data": {
      "application/vnd.microsoft.datawrangler.viewer.v0+json": {
       "columns": [
        {
         "name": "tracado_via",
         "rawType": "object",
         "type": "string"
        },
        {
         "name": "count",
         "rawType": "int64",
         "type": "integer"
        }
       ],
       "ref": "ffea0a9c-fc86-4d0f-b6fe-aab6c7577a91",
       "rows": [
        [
         "Reta",
         "94510"
        ],
        [
         "Curva",
         "18857"
        ],
        [
         "Reta;Declive",
         "6881"
        ],
        [
         "Curva;Declive",
         "6605"
        ],
        [
         "Reta;Aclive",
         "5410"
        ],
        [
         "Aclive;Reta",
         "5374"
        ],
        [
         "Declive;Reta",
         "4624"
        ],
        [
         "Interseção de Vias",
         "3418"
        ],
        [
         "Declive;Curva",
         "2957"
        ],
        [
         "Reta;Interseção de Vias",
         "2835"
        ],
        [
         "Curva;Aclive",
         "2274"
        ],
        [
         "Interseção de Vias;Reta",
         "2213"
        ],
        [
         "Aclive;Curva",
         "1974"
        ],
        [
         "Declive",
         "1894"
        ],
        [
         "Rotatória",
         "1809"
        ],
        [
         "Aclive",
         "1565"
        ],
        [
         "Retorno Regulamentado;Reta",
         "1337"
        ],
        [
         "Reta;Ponte",
         "1235"
        ],
        [
         "Em Obras;Reta",
         "1207"
        ],
        [
         "Reta;Em Obras",
         "1183"
        ],
        [
         "Reta;Viaduto",
         "1096"
        ],
        [
         "Reta;Retorno Regulamentado",
         "1005"
        ],
        [
         "Retorno Regulamentado",
         "816"
        ],
        [
         "Ponte;Reta",
         "420"
        ],
        [
         "Curva;Interseção de Vias",
         "406"
        ],
        [
         "Viaduto",
         "380"
        ],
        [
         "Interseção de Vias;Rotatória",
         "359"
        ],
        [
         "Reta;Rotatória",
         "268"
        ],
        [
         "Interseção de Vias;Curva",
         "253"
        ],
        [
         "Ponte",
         "223"
        ],
        [
         "Em Obras;Reta;Desvio Temporário",
         "207"
        ],
        [
         "Viaduto;Interseção de Vias",
         "198"
        ],
        [
         "Ponte;Reta;Em Obras",
         "171"
        ],
        [
         "Rotatória;Interseção de Vias",
         "170"
        ],
        [
         "Interseção de Vias;Reta;Declive",
         "158"
        ],
        [
         "Aclive;Reta;Viaduto",
         "154"
        ],
        [
         "Rotatória;Reta",
         "151"
        ],
        [
         "Reta;Interseção de Vias;Declive",
         "147"
        ],
        [
         "Declive;Ponte",
         "142"
        ],
        [
         "Reta;Em Obras;Ponte",
         "142"
        ],
        [
         "Em Obras",
         "135"
        ],
        [
         "Curva;Viaduto",
         "124"
        ],
        [
         "Curva;Em Obras",
         "122"
        ],
        [
         "Reta;Declive;Interseção de Vias",
         "117"
        ],
        [
         "Aclive;Interseção de Vias;Reta",
         "115"
        ],
        [
         "Desvio Temporário",
         "114"
        ],
        [
         "Ponte;Curva;Declive",
         "112"
        ],
        [
         "Em Obras;Curva",
         "111"
        ],
        [
         "Reta;Viaduto;Aclive",
         "105"
        ],
        [
         "Interseção de Vias;Reta;Rotatória",
         "104"
        ]
       ],
       "shape": {
        "columns": 1,
        "rows": 367
       }
      },
      "text/plain": [
       "tracado_via\n",
       "Reta                                              94510\n",
       "Curva                                             18857\n",
       "Reta;Declive                                       6881\n",
       "Curva;Declive                                      6605\n",
       "Reta;Aclive                                        5410\n",
       "                                                  ...  \n",
       "Viaduto;Interseção de Vias;Ponte;Reta;Em Obras        1\n",
       "Aclive;Rotatória;Interseção de Vias                   1\n",
       "Túnel;Reta                                            1\n",
       "Retorno Regulamentado;Declive                         1\n",
       "Curva;Interseção de Vias;Viaduto                      1\n",
       "Name: count, Length: 367, dtype: int64"
      ]
     },
     "execution_count": 27,
     "metadata": {},
     "output_type": "execute_result"
    }
   ],
   "source": [
    "df_2025_todas_causas['tracado_via'].value_counts()"
   ]
  },
  {
   "cell_type": "markdown",
   "id": "f16e901a",
   "metadata": {},
   "source": [
    "# tipo de veículo"
   ]
  },
  {
   "cell_type": "code",
   "execution_count": 28,
   "id": "c23dbece",
   "metadata": {},
   "outputs": [
    {
     "data": {
      "application/vnd.microsoft.datawrangler.viewer.v0+json": {
       "columns": [
        {
         "name": "tipo_veiculo",
         "rawType": "object",
         "type": "string"
        },
        {
         "name": "count",
         "rawType": "int64",
         "type": "integer"
        }
       ],
       "ref": "86273f29-f73a-4166-90b9-796965bf7b3a",
       "rows": [
        [
         "Automóvel",
         "60759"
        ],
        [
         "Motocicleta",
         "36052"
        ],
        [
         "Caminhonete",
         "16028"
        ],
        [
         "Semireboque",
         "15358"
        ],
        [
         "Caminhão-trator",
         "13110"
        ],
        [
         "Caminhão",
         "10601"
        ],
        [
         "Ônibus",
         "7948"
        ],
        [
         "Camioneta",
         "4861"
        ],
        [
         "Motoneta",
         "3567"
        ],
        [
         "Utilitário",
         "3079"
        ],
        [
         "Reboque",
         "1849"
        ],
        [
         "Bicicleta",
         "1575"
        ],
        [
         "Micro-ônibus",
         "967"
        ],
        [
         "Ciclomotor",
         "391"
        ],
        [
         "Outros",
         "325"
        ],
        [
         "Trator de rodas",
         "61"
        ],
        [
         "Motor-casa",
         "48"
        ],
        [
         "Carroça-charrete",
         "42"
        ],
        [
         "Triciclo",
         "9"
        ],
        [
         "Trator de esteira",
         "9"
        ],
        [
         "Trem-bonde",
         "4"
        ],
        [
         "Trator misto",
         "2"
        ],
        [
         "Chassi-plataforma",
         "1"
        ]
       ],
       "shape": {
        "columns": 1,
        "rows": 23
       }
      },
      "text/plain": [
       "tipo_veiculo\n",
       "Automóvel            60759\n",
       "Motocicleta          36052\n",
       "Caminhonete          16028\n",
       "Semireboque          15358\n",
       "Caminhão-trator      13110\n",
       "Caminhão             10601\n",
       "Ônibus                7948\n",
       "Camioneta             4861\n",
       "Motoneta              3567\n",
       "Utilitário            3079\n",
       "Reboque               1849\n",
       "Bicicleta             1575\n",
       "Micro-ônibus           967\n",
       "Ciclomotor             391\n",
       "Outros                 325\n",
       "Trator de rodas         61\n",
       "Motor-casa              48\n",
       "Carroça-charrete        42\n",
       "Triciclo                 9\n",
       "Trator de esteira        9\n",
       "Trem-bonde               4\n",
       "Trator misto             2\n",
       "Chassi-plataforma        1\n",
       "Name: count, dtype: int64"
      ]
     },
     "execution_count": 28,
     "metadata": {},
     "output_type": "execute_result"
    }
   ],
   "source": [
    "df_2025_todas_causas['tipo_veiculo'].value_counts()"
   ]
  },
  {
   "cell_type": "markdown",
   "id": "7ac836e7",
   "metadata": {},
   "source": [
    "# ano de fabricação do veículo"
   ]
  },
  {
   "cell_type": "code",
   "execution_count": 29,
   "id": "75fbbd06",
   "metadata": {},
   "outputs": [
    {
     "data": {
      "application/vnd.microsoft.datawrangler.viewer.v0+json": {
       "columns": [
        {
         "name": "ano_fabricacao_veiculo",
         "rawType": "float64",
         "type": "float"
        },
        {
         "name": "count",
         "rawType": "int64",
         "type": "integer"
        }
       ],
       "ref": "51c4edd8-3089-4196-bec4-7106245fafec",
       "rows": [
        [
         "2024.0",
         "13430"
        ],
        [
         "2023.0",
         "11299"
        ],
        [
         "2022.0",
         "10294"
        ],
        [
         "0.0",
         "9074"
        ],
        [
         "2013.0",
         "9014"
        ],
        [
         "2021.0",
         "9010"
        ],
        [
         "2019.0",
         "8609"
        ],
        [
         "2011.0",
         "8544"
        ],
        [
         "2012.0",
         "8050"
        ],
        [
         "2014.0",
         "7794"
        ],
        [
         "2018.0",
         "7642"
        ],
        [
         "2010.0",
         "7395"
        ],
        [
         "2020.0",
         "6439"
        ],
        [
         "2015.0",
         "6354"
        ],
        [
         "2008.0",
         "6022"
        ],
        [
         "2009.0",
         "5982"
        ],
        [
         "2017.0",
         "5505"
        ],
        [
         "2007.0",
         "4665"
        ],
        [
         "2016.0",
         "4629"
        ],
        [
         "2006.0",
         "3664"
        ],
        [
         "2004.0",
         "3393"
        ],
        [
         "2005.0",
         "2853"
        ],
        [
         "2001.0",
         "2168"
        ],
        [
         "2003.0",
         "1898"
        ],
        [
         "2000.0",
         "1719"
        ],
        [
         "2002.0",
         "1680"
        ],
        [
         "1997.0",
         "1367"
        ],
        [
         "1999.0",
         "1126"
        ],
        [
         "1998.0",
         "1064"
        ],
        [
         "1996.0",
         "935"
        ],
        [
         "2025.0",
         "733"
        ],
        [
         "1995.0",
         "706"
        ],
        [
         "1994.0",
         "509"
        ],
        [
         "1993.0",
         "383"
        ],
        [
         "1992.0",
         "314"
        ],
        [
         "1990.0",
         "239"
        ],
        [
         "1991.0",
         "232"
        ],
        [
         "1989.0",
         "220"
        ],
        [
         "1986.0",
         "162"
        ],
        [
         "1973.0",
         "142"
        ],
        [
         "1988.0",
         "132"
        ],
        [
         "1977.0",
         "128"
        ],
        [
         "1987.0",
         "118"
        ],
        [
         "1982.0",
         "115"
        ],
        [
         "1984.0",
         "108"
        ],
        [
         "1983.0",
         "100"
        ],
        [
         "1979.0",
         "99"
        ],
        [
         "1985.0",
         "75"
        ],
        [
         "1978.0",
         "73"
        ],
        [
         "1974.0",
         "68"
        ]
       ],
       "shape": {
        "columns": 1,
        "rows": 70
       }
      },
      "text/plain": [
       "ano_fabricacao_veiculo\n",
       "2024.0    13430\n",
       "2023.0    11299\n",
       "2022.0    10294\n",
       "0.0        9074\n",
       "2013.0     9014\n",
       "          ...  \n",
       "1966.0        4\n",
       "1967.0        3\n",
       "1951.0        2\n",
       "1958.0        2\n",
       "1965.0        1\n",
       "Name: count, Length: 70, dtype: int64"
      ]
     },
     "execution_count": 29,
     "metadata": {},
     "output_type": "execute_result"
    }
   ],
   "source": [
    "df_2025_todas_causas['ano_fabricacao_veiculo'].value_counts()"
   ]
  },
  {
   "cell_type": "markdown",
   "id": "c25fa933",
   "metadata": {},
   "source": [
    "# estado físico"
   ]
  },
  {
   "cell_type": "code",
   "execution_count": 30,
   "id": "60656a74",
   "metadata": {},
   "outputs": [
    {
     "data": {
      "application/vnd.microsoft.datawrangler.viewer.v0+json": {
       "columns": [
        {
         "name": "estado_fisico",
         "rawType": "object",
         "type": "string"
        },
        {
         "name": "count",
         "rawType": "int64",
         "type": "integer"
        }
       ],
       "ref": "00fab3fc-0d41-4029-b296-3b6ebc8c1d52",
       "rows": [
        [
         "Ileso",
         "68634"
        ],
        [
         "Lesões Leves",
         "56370"
        ],
        [
         "Lesões Graves",
         "20333"
        ],
        [
         "Não Informado",
         "11377"
        ],
        [
         "Óbito",
         "8310"
        ]
       ],
       "shape": {
        "columns": 1,
        "rows": 5
       }
      },
      "text/plain": [
       "estado_fisico\n",
       "Ileso            68634\n",
       "Lesões Leves     56370\n",
       "Lesões Graves    20333\n",
       "Não Informado    11377\n",
       "Óbito             8310\n",
       "Name: count, dtype: int64"
      ]
     },
     "execution_count": 30,
     "metadata": {},
     "output_type": "execute_result"
    }
   ],
   "source": [
    "df_2025_todas_causas['estado_fisico'].value_counts()"
   ]
  },
  {
   "cell_type": "code",
   "execution_count": null,
   "id": "2b245242",
   "metadata": {},
   "outputs": [],
   "source": []
  }
 ],
 "metadata": {
  "kernelspec": {
   "display_name": "base",
   "language": "python",
   "name": "python3"
  },
  "language_info": {
   "codemirror_mode": {
    "name": "ipython",
    "version": 3
   },
   "file_extension": ".py",
   "mimetype": "text/x-python",
   "name": "python",
   "nbconvert_exporter": "python",
   "pygments_lexer": "ipython3",
   "version": "3.12.4"
  }
 },
 "nbformat": 4,
 "nbformat_minor": 5
}
