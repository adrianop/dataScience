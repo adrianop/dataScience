{
 "cells": [
  {
   "cell_type": "markdown",
   "id": "411af839",
   "metadata": {},
   "source": [
    "# Tratamento das base de dados das localizações dos radares eletrônicos"
   ]
  },
  {
   "cell_type": "markdown",
   "id": "ff8fa0eb",
   "metadata": {},
   "source": [
    "### Localização das bases"
   ]
  },
  {
   "cell_type": "markdown",
   "id": "60f3264d",
   "metadata": {},
   "source": [
    "#### ANTT: https://dados.antt.gov.br/dataset/radar/resource/0e56291a-1092-45d5-b89a-d66b2a89dff4"
   ]
  },
  {
   "cell_type": "markdown",
   "id": "7db837b0",
   "metadata": {},
   "source": [
    "#### DNIT: https://servicos.dnit.gov.br/multas/informacoes/equipamentos-fiscalizacao"
   ]
  },
  {
   "cell_type": "code",
   "execution_count": 12,
   "id": "3f1924e4",
   "metadata": {},
   "outputs": [
    {
     "name": "stdout",
     "output_type": "stream",
     "text": [
      "Requirement already satisfied: nbformat in c:\\users\\pertile\\appdata\\local\\programs\\python\\python311\\lib\\site-packages (5.10.4)\n",
      "Requirement already satisfied: fastjsonschema>=2.15 in c:\\users\\pertile\\appdata\\local\\programs\\python\\python311\\lib\\site-packages (from nbformat) (2.21.1)\n",
      "Requirement already satisfied: jsonschema>=2.6 in c:\\users\\pertile\\appdata\\local\\programs\\python\\python311\\lib\\site-packages (from nbformat) (4.23.0)\n",
      "Requirement already satisfied: jupyter-core!=5.0.*,>=4.12 in c:\\users\\pertile\\appdata\\roaming\\python\\python311\\site-packages (from nbformat) (5.7.2)\n",
      "Requirement already satisfied: traitlets>=5.1 in c:\\users\\pertile\\appdata\\roaming\\python\\python311\\site-packages (from nbformat) (5.14.3)\n",
      "Requirement already satisfied: attrs>=22.2.0 in c:\\users\\pertile\\appdata\\local\\programs\\python\\python311\\lib\\site-packages (from jsonschema>=2.6->nbformat) (25.3.0)\n",
      "Requirement already satisfied: jsonschema-specifications>=2023.03.6 in c:\\users\\pertile\\appdata\\local\\programs\\python\\python311\\lib\\site-packages (from jsonschema>=2.6->nbformat) (2025.4.1)\n",
      "Requirement already satisfied: referencing>=0.28.4 in c:\\users\\pertile\\appdata\\local\\programs\\python\\python311\\lib\\site-packages (from jsonschema>=2.6->nbformat) (0.36.2)\n",
      "Requirement already satisfied: rpds-py>=0.7.1 in c:\\users\\pertile\\appdata\\local\\programs\\python\\python311\\lib\\site-packages (from jsonschema>=2.6->nbformat) (0.24.0)\n",
      "Requirement already satisfied: platformdirs>=2.5 in c:\\users\\pertile\\appdata\\roaming\\python\\python311\\site-packages (from jupyter-core!=5.0.*,>=4.12->nbformat) (4.3.6)\n",
      "Requirement already satisfied: pywin32>=300 in c:\\users\\pertile\\appdata\\roaming\\python\\python311\\site-packages (from jupyter-core!=5.0.*,>=4.12->nbformat) (308)\n",
      "Requirement already satisfied: typing-extensions>=4.4.0 in c:\\users\\pertile\\appdata\\local\\programs\\python\\python311\\lib\\site-packages (from referencing>=0.28.4->jsonschema>=2.6->nbformat) (4.12.2)\n",
      "Note: you may need to restart the kernel to use updated packages.\n"
     ]
    },
    {
     "name": "stderr",
     "output_type": "stream",
     "text": [
      "\n",
      "[notice] A new release of pip available: 22.3.1 -> 25.1.1\n",
      "[notice] To update, run: python.exe -m pip install --upgrade pip\n"
     ]
    },
    {
     "name": "stdout",
     "output_type": "stream",
     "text": [
      "Collecting folium\n",
      "  Downloading folium-0.20.0-py2.py3-none-any.whl (113 kB)\n",
      "     -------------------------------------- 113.4/113.4 kB 3.3 MB/s eta 0:00:00\n",
      "Collecting branca>=0.6.0\n",
      "  Downloading branca-0.8.1-py3-none-any.whl (26 kB)\n",
      "Requirement already satisfied: jinja2>=2.9 in c:\\users\\pertile\\appdata\\local\\programs\\python\\python311\\lib\\site-packages (from folium) (3.1.6)\n",
      "Requirement already satisfied: numpy in c:\\users\\pertile\\appdata\\local\\programs\\python\\python311\\lib\\site-packages (from folium) (1.26.4)\n",
      "Requirement already satisfied: requests in c:\\users\\pertile\\appdata\\local\\programs\\python\\python311\\lib\\site-packages (from folium) (2.32.3)\n",
      "Collecting xyzservices\n",
      "  Downloading xyzservices-2025.4.0-py3-none-any.whl (90 kB)\n",
      "     ---------------------------------------- 90.4/90.4 kB 5.0 MB/s eta 0:00:00\n",
      "Requirement already satisfied: MarkupSafe>=2.0 in c:\\users\\pertile\\appdata\\local\\programs\\python\\python311\\lib\\site-packages (from jinja2>=2.9->folium) (3.0.2)\n",
      "Requirement already satisfied: charset-normalizer<4,>=2 in c:\\users\\pertile\\appdata\\local\\programs\\python\\python311\\lib\\site-packages (from requests->folium) (3.4.0)\n",
      "Requirement already satisfied: idna<4,>=2.5 in c:\\users\\pertile\\appdata\\local\\programs\\python\\python311\\lib\\site-packages (from requests->folium) (3.10)\n",
      "Requirement already satisfied: urllib3<3,>=1.21.1 in c:\\users\\pertile\\appdata\\local\\programs\\python\\python311\\lib\\site-packages (from requests->folium) (2.2.3)\n",
      "Requirement already satisfied: certifi>=2017.4.17 in c:\\users\\pertile\\appdata\\local\\programs\\python\\python311\\lib\\site-packages (from requests->folium) (2024.12.14)\n",
      "Installing collected packages: xyzservices, branca, folium\n",
      "Successfully installed branca-0.8.1 folium-0.20.0 xyzservices-2025.4.0\n",
      "Note: you may need to restart the kernel to use updated packages.\n"
     ]
    },
    {
     "name": "stderr",
     "output_type": "stream",
     "text": [
      "\n",
      "[notice] A new release of pip available: 22.3.1 -> 25.1.1\n",
      "[notice] To update, run: python.exe -m pip install --upgrade pip\n"
     ]
    }
   ],
   "source": [
    "%pip install nbformat\n",
    "%pip install folium"
   ]
  },
  {
   "cell_type": "code",
   "execution_count": 13,
   "id": "22bd5c79",
   "metadata": {},
   "outputs": [],
   "source": [
    "import pandas as pd\n",
    "import folium"
   ]
  },
  {
   "cell_type": "code",
   "execution_count": 3,
   "id": "f862b6ec",
   "metadata": {},
   "outputs": [
    {
     "data": {
      "application/vnd.microsoft.datawrangler.viewer.v0+json": {
       "columns": [
        {
         "name": "index",
         "rawType": "int64",
         "type": "integer"
        },
        {
         "name": "concessionaria",
         "rawType": "object",
         "type": "string"
        },
        {
         "name": "ano_do_pnv_snv",
         "rawType": "int64",
         "type": "integer"
        },
        {
         "name": "tipo_de_radar",
         "rawType": "object",
         "type": "string"
        },
        {
         "name": "rodovia",
         "rawType": "object",
         "type": "string"
        },
        {
         "name": "uf",
         "rawType": "object",
         "type": "string"
        },
        {
         "name": "km_m",
         "rawType": "object",
         "type": "string"
        },
        {
         "name": "municipio",
         "rawType": "object",
         "type": "string"
        },
        {
         "name": "tipo_pista",
         "rawType": "object",
         "type": "string"
        },
        {
         "name": "sentido",
         "rawType": "object",
         "type": "string"
        },
        {
         "name": "situacao",
         "rawType": "object",
         "type": "string"
        },
        {
         "name": "data_da_inativacao",
         "rawType": "float64",
         "type": "float"
        },
        {
         "name": "latitude",
         "rawType": "object",
         "type": "string"
        },
        {
         "name": "longitude",
         "rawType": "object",
         "type": "string"
        },
        {
         "name": "velocidade_leve",
         "rawType": "int64",
         "type": "integer"
        },
        {
         "name": "velocidade_pesado",
         "rawType": "int64",
         "type": "integer"
        }
       ],
       "ref": "49db806b-d9c2-4621-9217-f5f08dd4986e",
       "rows": [
        [
         "0",
         "AUTOPISTA FERNÃO DIAS",
         "2007",
         "Controlador",
         "BR-381",
         "MG",
         "483,850",
         "Betim",
         "Principal",
         "Crescente",
         "Ativo",
         null,
         "-19,959486",
         "-44,085386",
         "80",
         "60"
        ],
        [
         "1",
         "AUTOPISTA FERNÃO DIAS",
         "2007",
         "Controlador",
         "BR-381",
         "MG",
         "493,290",
         "Betim",
         "Principal",
         "Crescente",
         "Ativo",
         null,
         "-19,964349",
         "-44,171924",
         "80",
         "60"
        ],
        [
         "2",
         "AUTOPISTA FERNÃO DIAS",
         "2007",
         "Controlador",
         "BR-381",
         "MG",
         "525,350",
         "Brumadinho",
         "Principal",
         "Crescente",
         "Ativo",
         null,
         "-20,146664",
         "-44,323897",
         "80",
         "60"
        ],
        [
         "3",
         "AUTOPISTA FERNÃO DIAS",
         "2007",
         "Controlador",
         "BR-381",
         "MG",
         "528,350",
         "Brumadinho",
         "Principal",
         "Decrescente",
         "Ativo",
         null,
         "-20,167194",
         "-44,334434",
         "80",
         "60"
        ],
        [
         "4",
         "AUTOPISTA FERNÃO DIAS",
         "2007",
         "Controlador",
         "BR-381",
         "MG",
         "568,890",
         "Itaguara",
         "Principal",
         "Decrescente",
         "Ativo",
         null,
         "-20,410679",
         "-44,526628",
         "80",
         "60"
        ]
       ],
       "shape": {
        "columns": 15,
        "rows": 5
       }
      },
      "text/html": [
       "<div>\n",
       "<style scoped>\n",
       "    .dataframe tbody tr th:only-of-type {\n",
       "        vertical-align: middle;\n",
       "    }\n",
       "\n",
       "    .dataframe tbody tr th {\n",
       "        vertical-align: top;\n",
       "    }\n",
       "\n",
       "    .dataframe thead th {\n",
       "        text-align: right;\n",
       "    }\n",
       "</style>\n",
       "<table border=\"1\" class=\"dataframe\">\n",
       "  <thead>\n",
       "    <tr style=\"text-align: right;\">\n",
       "      <th></th>\n",
       "      <th>concessionaria</th>\n",
       "      <th>ano_do_pnv_snv</th>\n",
       "      <th>tipo_de_radar</th>\n",
       "      <th>rodovia</th>\n",
       "      <th>uf</th>\n",
       "      <th>km_m</th>\n",
       "      <th>municipio</th>\n",
       "      <th>tipo_pista</th>\n",
       "      <th>sentido</th>\n",
       "      <th>situacao</th>\n",
       "      <th>data_da_inativacao</th>\n",
       "      <th>latitude</th>\n",
       "      <th>longitude</th>\n",
       "      <th>velocidade_leve</th>\n",
       "      <th>velocidade_pesado</th>\n",
       "    </tr>\n",
       "  </thead>\n",
       "  <tbody>\n",
       "    <tr>\n",
       "      <th>0</th>\n",
       "      <td>AUTOPISTA FERNÃO DIAS</td>\n",
       "      <td>2007</td>\n",
       "      <td>Controlador</td>\n",
       "      <td>BR-381</td>\n",
       "      <td>MG</td>\n",
       "      <td>483,850</td>\n",
       "      <td>Betim</td>\n",
       "      <td>Principal</td>\n",
       "      <td>Crescente</td>\n",
       "      <td>Ativo</td>\n",
       "      <td>NaN</td>\n",
       "      <td>-19,959486</td>\n",
       "      <td>-44,085386</td>\n",
       "      <td>80</td>\n",
       "      <td>60</td>\n",
       "    </tr>\n",
       "    <tr>\n",
       "      <th>1</th>\n",
       "      <td>AUTOPISTA FERNÃO DIAS</td>\n",
       "      <td>2007</td>\n",
       "      <td>Controlador</td>\n",
       "      <td>BR-381</td>\n",
       "      <td>MG</td>\n",
       "      <td>493,290</td>\n",
       "      <td>Betim</td>\n",
       "      <td>Principal</td>\n",
       "      <td>Crescente</td>\n",
       "      <td>Ativo</td>\n",
       "      <td>NaN</td>\n",
       "      <td>-19,964349</td>\n",
       "      <td>-44,171924</td>\n",
       "      <td>80</td>\n",
       "      <td>60</td>\n",
       "    </tr>\n",
       "    <tr>\n",
       "      <th>2</th>\n",
       "      <td>AUTOPISTA FERNÃO DIAS</td>\n",
       "      <td>2007</td>\n",
       "      <td>Controlador</td>\n",
       "      <td>BR-381</td>\n",
       "      <td>MG</td>\n",
       "      <td>525,350</td>\n",
       "      <td>Brumadinho</td>\n",
       "      <td>Principal</td>\n",
       "      <td>Crescente</td>\n",
       "      <td>Ativo</td>\n",
       "      <td>NaN</td>\n",
       "      <td>-20,146664</td>\n",
       "      <td>-44,323897</td>\n",
       "      <td>80</td>\n",
       "      <td>60</td>\n",
       "    </tr>\n",
       "    <tr>\n",
       "      <th>3</th>\n",
       "      <td>AUTOPISTA FERNÃO DIAS</td>\n",
       "      <td>2007</td>\n",
       "      <td>Controlador</td>\n",
       "      <td>BR-381</td>\n",
       "      <td>MG</td>\n",
       "      <td>528,350</td>\n",
       "      <td>Brumadinho</td>\n",
       "      <td>Principal</td>\n",
       "      <td>Decrescente</td>\n",
       "      <td>Ativo</td>\n",
       "      <td>NaN</td>\n",
       "      <td>-20,167194</td>\n",
       "      <td>-44,334434</td>\n",
       "      <td>80</td>\n",
       "      <td>60</td>\n",
       "    </tr>\n",
       "    <tr>\n",
       "      <th>4</th>\n",
       "      <td>AUTOPISTA FERNÃO DIAS</td>\n",
       "      <td>2007</td>\n",
       "      <td>Controlador</td>\n",
       "      <td>BR-381</td>\n",
       "      <td>MG</td>\n",
       "      <td>568,890</td>\n",
       "      <td>Itaguara</td>\n",
       "      <td>Principal</td>\n",
       "      <td>Decrescente</td>\n",
       "      <td>Ativo</td>\n",
       "      <td>NaN</td>\n",
       "      <td>-20,410679</td>\n",
       "      <td>-44,526628</td>\n",
       "      <td>80</td>\n",
       "      <td>60</td>\n",
       "    </tr>\n",
       "  </tbody>\n",
       "</table>\n",
       "</div>"
      ],
      "text/plain": [
       "          concessionaria  ano_do_pnv_snv tipo_de_radar rodovia  uf     km_m  \\\n",
       "0  AUTOPISTA FERNÃO DIAS            2007   Controlador  BR-381  MG  483,850   \n",
       "1  AUTOPISTA FERNÃO DIAS            2007   Controlador  BR-381  MG  493,290   \n",
       "2  AUTOPISTA FERNÃO DIAS            2007   Controlador  BR-381  MG  525,350   \n",
       "3  AUTOPISTA FERNÃO DIAS            2007   Controlador  BR-381  MG  528,350   \n",
       "4  AUTOPISTA FERNÃO DIAS            2007   Controlador  BR-381  MG  568,890   \n",
       "\n",
       "    municipio tipo_pista      sentido situacao  data_da_inativacao  \\\n",
       "0       Betim  Principal    Crescente    Ativo                 NaN   \n",
       "1       Betim  Principal    Crescente    Ativo                 NaN   \n",
       "2  Brumadinho  Principal    Crescente    Ativo                 NaN   \n",
       "3  Brumadinho  Principal  Decrescente    Ativo                 NaN   \n",
       "4    Itaguara  Principal  Decrescente    Ativo                 NaN   \n",
       "\n",
       "     latitude   longitude  velocidade_leve  velocidade_pesado  \n",
       "0  -19,959486  -44,085386               80                 60  \n",
       "1  -19,964349  -44,171924               80                 60  \n",
       "2  -20,146664  -44,323897               80                 60  \n",
       "3  -20,167194  -44,334434               80                 60  \n",
       "4  -20,410679  -44,526628               80                 60  "
      ]
     },
     "execution_count": 3,
     "metadata": {},
     "output_type": "execute_result"
    }
   ],
   "source": [
    "df_antt = pd.read_csv(\"dados/loc_radar/antt.csv\", encoding=\"latin1\", sep=\";\")\n",
    "df_antt.head()"
   ]
  },
  {
   "cell_type": "code",
   "execution_count": 4,
   "id": "646dfe02",
   "metadata": {},
   "outputs": [
    {
     "data": {
      "text/plain": [
       "(952, 15)"
      ]
     },
     "execution_count": 4,
     "metadata": {},
     "output_type": "execute_result"
    }
   ],
   "source": [
    "df_antt.shape"
   ]
  },
  {
   "cell_type": "code",
   "execution_count": 5,
   "id": "3c812192",
   "metadata": {},
   "outputs": [
    {
     "name": "stdout",
     "output_type": "stream",
     "text": [
      "Index(['concessionaria', 'ano_do_pnv_snv', 'tipo_de_radar', 'rodovia', 'uf',\n",
      "       'km_m', 'municipio', 'tipo_pista', 'sentido', 'situacao',\n",
      "       'data_da_inativacao', 'latitude', 'longitude', 'velocidade_leve',\n",
      "       'velocidade_pesado'],\n",
      "      dtype='object')\n"
     ]
    }
   ],
   "source": [
    "print(df_antt.columns)"
   ]
  },
  {
   "cell_type": "code",
   "execution_count": 6,
   "id": "bec2173b",
   "metadata": {},
   "outputs": [],
   "source": [
    "# Remove linhas sem coordenadas\n",
    "df = df_antt.dropna(subset=['latitude', 'longitude'])"
   ]
  },
  {
   "cell_type": "code",
   "execution_count": 7,
   "id": "7d7af6c5",
   "metadata": {},
   "outputs": [
    {
     "data": {
      "application/vnd.microsoft.datawrangler.viewer.v0+json": {
       "columns": [
        {
         "name": "index",
         "rawType": "int64",
         "type": "integer"
        },
        {
         "name": "concessionaria",
         "rawType": "object",
         "type": "string"
        },
        {
         "name": "ano_do_pnv_snv",
         "rawType": "int64",
         "type": "integer"
        },
        {
         "name": "tipo_de_radar",
         "rawType": "object",
         "type": "string"
        },
        {
         "name": "rodovia",
         "rawType": "object",
         "type": "string"
        },
        {
         "name": "uf",
         "rawType": "object",
         "type": "string"
        },
        {
         "name": "km_m",
         "rawType": "object",
         "type": "string"
        },
        {
         "name": "municipio",
         "rawType": "object",
         "type": "string"
        },
        {
         "name": "tipo_pista",
         "rawType": "object",
         "type": "string"
        },
        {
         "name": "sentido",
         "rawType": "object",
         "type": "string"
        },
        {
         "name": "situacao",
         "rawType": "object",
         "type": "string"
        },
        {
         "name": "data_da_inativacao",
         "rawType": "float64",
         "type": "float"
        },
        {
         "name": "latitude",
         "rawType": "object",
         "type": "string"
        },
        {
         "name": "longitude",
         "rawType": "object",
         "type": "string"
        },
        {
         "name": "velocidade_leve",
         "rawType": "int64",
         "type": "integer"
        },
        {
         "name": "velocidade_pesado",
         "rawType": "int64",
         "type": "integer"
        }
       ],
       "ref": "7dd71fe7-c64a-48e1-b3ae-6a35e5123d78",
       "rows": [
        [
         "0",
         "AUTOPISTA FERNÃO DIAS",
         "2007",
         "Controlador",
         "BR-381",
         "MG",
         "483,850",
         "Betim",
         "Principal",
         "Crescente",
         "Ativo",
         null,
         "-19,959486",
         "-44,085386",
         "80",
         "60"
        ],
        [
         "1",
         "AUTOPISTA FERNÃO DIAS",
         "2007",
         "Controlador",
         "BR-381",
         "MG",
         "493,290",
         "Betim",
         "Principal",
         "Crescente",
         "Ativo",
         null,
         "-19,964349",
         "-44,171924",
         "80",
         "60"
        ],
        [
         "2",
         "AUTOPISTA FERNÃO DIAS",
         "2007",
         "Controlador",
         "BR-381",
         "MG",
         "525,350",
         "Brumadinho",
         "Principal",
         "Crescente",
         "Ativo",
         null,
         "-20,146664",
         "-44,323897",
         "80",
         "60"
        ],
        [
         "3",
         "AUTOPISTA FERNÃO DIAS",
         "2007",
         "Controlador",
         "BR-381",
         "MG",
         "528,350",
         "Brumadinho",
         "Principal",
         "Decrescente",
         "Ativo",
         null,
         "-20,167194",
         "-44,334434",
         "80",
         "60"
        ],
        [
         "4",
         "AUTOPISTA FERNÃO DIAS",
         "2007",
         "Controlador",
         "BR-381",
         "MG",
         "568,890",
         "Itaguara",
         "Principal",
         "Decrescente",
         "Ativo",
         null,
         "-20,410679",
         "-44,526628",
         "80",
         "60"
        ]
       ],
       "shape": {
        "columns": 15,
        "rows": 5
       }
      },
      "text/html": [
       "<div>\n",
       "<style scoped>\n",
       "    .dataframe tbody tr th:only-of-type {\n",
       "        vertical-align: middle;\n",
       "    }\n",
       "\n",
       "    .dataframe tbody tr th {\n",
       "        vertical-align: top;\n",
       "    }\n",
       "\n",
       "    .dataframe thead th {\n",
       "        text-align: right;\n",
       "    }\n",
       "</style>\n",
       "<table border=\"1\" class=\"dataframe\">\n",
       "  <thead>\n",
       "    <tr style=\"text-align: right;\">\n",
       "      <th></th>\n",
       "      <th>concessionaria</th>\n",
       "      <th>ano_do_pnv_snv</th>\n",
       "      <th>tipo_de_radar</th>\n",
       "      <th>rodovia</th>\n",
       "      <th>uf</th>\n",
       "      <th>km_m</th>\n",
       "      <th>municipio</th>\n",
       "      <th>tipo_pista</th>\n",
       "      <th>sentido</th>\n",
       "      <th>situacao</th>\n",
       "      <th>data_da_inativacao</th>\n",
       "      <th>latitude</th>\n",
       "      <th>longitude</th>\n",
       "      <th>velocidade_leve</th>\n",
       "      <th>velocidade_pesado</th>\n",
       "    </tr>\n",
       "  </thead>\n",
       "  <tbody>\n",
       "    <tr>\n",
       "      <th>0</th>\n",
       "      <td>AUTOPISTA FERNÃO DIAS</td>\n",
       "      <td>2007</td>\n",
       "      <td>Controlador</td>\n",
       "      <td>BR-381</td>\n",
       "      <td>MG</td>\n",
       "      <td>483,850</td>\n",
       "      <td>Betim</td>\n",
       "      <td>Principal</td>\n",
       "      <td>Crescente</td>\n",
       "      <td>Ativo</td>\n",
       "      <td>NaN</td>\n",
       "      <td>-19,959486</td>\n",
       "      <td>-44,085386</td>\n",
       "      <td>80</td>\n",
       "      <td>60</td>\n",
       "    </tr>\n",
       "    <tr>\n",
       "      <th>1</th>\n",
       "      <td>AUTOPISTA FERNÃO DIAS</td>\n",
       "      <td>2007</td>\n",
       "      <td>Controlador</td>\n",
       "      <td>BR-381</td>\n",
       "      <td>MG</td>\n",
       "      <td>493,290</td>\n",
       "      <td>Betim</td>\n",
       "      <td>Principal</td>\n",
       "      <td>Crescente</td>\n",
       "      <td>Ativo</td>\n",
       "      <td>NaN</td>\n",
       "      <td>-19,964349</td>\n",
       "      <td>-44,171924</td>\n",
       "      <td>80</td>\n",
       "      <td>60</td>\n",
       "    </tr>\n",
       "    <tr>\n",
       "      <th>2</th>\n",
       "      <td>AUTOPISTA FERNÃO DIAS</td>\n",
       "      <td>2007</td>\n",
       "      <td>Controlador</td>\n",
       "      <td>BR-381</td>\n",
       "      <td>MG</td>\n",
       "      <td>525,350</td>\n",
       "      <td>Brumadinho</td>\n",
       "      <td>Principal</td>\n",
       "      <td>Crescente</td>\n",
       "      <td>Ativo</td>\n",
       "      <td>NaN</td>\n",
       "      <td>-20,146664</td>\n",
       "      <td>-44,323897</td>\n",
       "      <td>80</td>\n",
       "      <td>60</td>\n",
       "    </tr>\n",
       "    <tr>\n",
       "      <th>3</th>\n",
       "      <td>AUTOPISTA FERNÃO DIAS</td>\n",
       "      <td>2007</td>\n",
       "      <td>Controlador</td>\n",
       "      <td>BR-381</td>\n",
       "      <td>MG</td>\n",
       "      <td>528,350</td>\n",
       "      <td>Brumadinho</td>\n",
       "      <td>Principal</td>\n",
       "      <td>Decrescente</td>\n",
       "      <td>Ativo</td>\n",
       "      <td>NaN</td>\n",
       "      <td>-20,167194</td>\n",
       "      <td>-44,334434</td>\n",
       "      <td>80</td>\n",
       "      <td>60</td>\n",
       "    </tr>\n",
       "    <tr>\n",
       "      <th>4</th>\n",
       "      <td>AUTOPISTA FERNÃO DIAS</td>\n",
       "      <td>2007</td>\n",
       "      <td>Controlador</td>\n",
       "      <td>BR-381</td>\n",
       "      <td>MG</td>\n",
       "      <td>568,890</td>\n",
       "      <td>Itaguara</td>\n",
       "      <td>Principal</td>\n",
       "      <td>Decrescente</td>\n",
       "      <td>Ativo</td>\n",
       "      <td>NaN</td>\n",
       "      <td>-20,410679</td>\n",
       "      <td>-44,526628</td>\n",
       "      <td>80</td>\n",
       "      <td>60</td>\n",
       "    </tr>\n",
       "  </tbody>\n",
       "</table>\n",
       "</div>"
      ],
      "text/plain": [
       "          concessionaria  ano_do_pnv_snv tipo_de_radar rodovia  uf     km_m  \\\n",
       "0  AUTOPISTA FERNÃO DIAS            2007   Controlador  BR-381  MG  483,850   \n",
       "1  AUTOPISTA FERNÃO DIAS            2007   Controlador  BR-381  MG  493,290   \n",
       "2  AUTOPISTA FERNÃO DIAS            2007   Controlador  BR-381  MG  525,350   \n",
       "3  AUTOPISTA FERNÃO DIAS            2007   Controlador  BR-381  MG  528,350   \n",
       "4  AUTOPISTA FERNÃO DIAS            2007   Controlador  BR-381  MG  568,890   \n",
       "\n",
       "    municipio tipo_pista      sentido situacao  data_da_inativacao  \\\n",
       "0       Betim  Principal    Crescente    Ativo                 NaN   \n",
       "1       Betim  Principal    Crescente    Ativo                 NaN   \n",
       "2  Brumadinho  Principal    Crescente    Ativo                 NaN   \n",
       "3  Brumadinho  Principal  Decrescente    Ativo                 NaN   \n",
       "4    Itaguara  Principal  Decrescente    Ativo                 NaN   \n",
       "\n",
       "     latitude   longitude  velocidade_leve  velocidade_pesado  \n",
       "0  -19,959486  -44,085386               80                 60  \n",
       "1  -19,964349  -44,171924               80                 60  \n",
       "2  -20,146664  -44,323897               80                 60  \n",
       "3  -20,167194  -44,334434               80                 60  \n",
       "4  -20,410679  -44,526628               80                 60  "
      ]
     },
     "execution_count": 7,
     "metadata": {},
     "output_type": "execute_result"
    }
   ],
   "source": [
    "df_antt.head()"
   ]
  },
  {
   "cell_type": "code",
   "execution_count": 8,
   "id": "3e59ef0e",
   "metadata": {},
   "outputs": [],
   "source": [
    "df_antt['latitude'] = df_antt['latitude'].str.replace(',', '.')\n",
    "df_antt['longitude'] = df_antt['longitude'].str.replace(',', '.')\n",
    "\n",
    "df_antt['latitude'] = pd.to_numeric(df_antt['latitude'], errors='coerce')\n",
    "df_antt['longitude'] = pd.to_numeric(df_antt['longitude'], errors='coerce')\n"
   ]
  },
  {
   "cell_type": "code",
   "execution_count": 9,
   "id": "caf9462b",
   "metadata": {},
   "outputs": [
    {
     "data": {
      "application/vnd.microsoft.datawrangler.viewer.v0+json": {
       "columns": [
        {
         "name": "index",
         "rawType": "int64",
         "type": "integer"
        },
        {
         "name": "concessionaria",
         "rawType": "object",
         "type": "string"
        },
        {
         "name": "ano_do_pnv_snv",
         "rawType": "int64",
         "type": "integer"
        },
        {
         "name": "tipo_de_radar",
         "rawType": "object",
         "type": "string"
        },
        {
         "name": "rodovia",
         "rawType": "object",
         "type": "string"
        },
        {
         "name": "uf",
         "rawType": "object",
         "type": "string"
        },
        {
         "name": "km_m",
         "rawType": "object",
         "type": "string"
        },
        {
         "name": "municipio",
         "rawType": "object",
         "type": "string"
        },
        {
         "name": "tipo_pista",
         "rawType": "object",
         "type": "string"
        },
        {
         "name": "sentido",
         "rawType": "object",
         "type": "string"
        },
        {
         "name": "situacao",
         "rawType": "object",
         "type": "string"
        },
        {
         "name": "data_da_inativacao",
         "rawType": "float64",
         "type": "float"
        },
        {
         "name": "latitude",
         "rawType": "float64",
         "type": "float"
        },
        {
         "name": "longitude",
         "rawType": "float64",
         "type": "float"
        },
        {
         "name": "velocidade_leve",
         "rawType": "int64",
         "type": "integer"
        },
        {
         "name": "velocidade_pesado",
         "rawType": "int64",
         "type": "integer"
        }
       ],
       "ref": "32545ba5-9656-4489-a024-87b274aea75a",
       "rows": [
        [
         "0",
         "AUTOPISTA FERNÃO DIAS",
         "2007",
         "Controlador",
         "BR-381",
         "MG",
         "483,850",
         "Betim",
         "Principal",
         "Crescente",
         "Ativo",
         null,
         "-19.959486",
         "-44.085386",
         "80",
         "60"
        ],
        [
         "1",
         "AUTOPISTA FERNÃO DIAS",
         "2007",
         "Controlador",
         "BR-381",
         "MG",
         "493,290",
         "Betim",
         "Principal",
         "Crescente",
         "Ativo",
         null,
         "-19.964349",
         "-44.171924",
         "80",
         "60"
        ],
        [
         "2",
         "AUTOPISTA FERNÃO DIAS",
         "2007",
         "Controlador",
         "BR-381",
         "MG",
         "525,350",
         "Brumadinho",
         "Principal",
         "Crescente",
         "Ativo",
         null,
         "-20.146664",
         "-44.323897",
         "80",
         "60"
        ],
        [
         "3",
         "AUTOPISTA FERNÃO DIAS",
         "2007",
         "Controlador",
         "BR-381",
         "MG",
         "528,350",
         "Brumadinho",
         "Principal",
         "Decrescente",
         "Ativo",
         null,
         "-20.167194",
         "-44.334434",
         "80",
         "60"
        ],
        [
         "4",
         "AUTOPISTA FERNÃO DIAS",
         "2007",
         "Controlador",
         "BR-381",
         "MG",
         "568,890",
         "Itaguara",
         "Principal",
         "Decrescente",
         "Ativo",
         null,
         "-20.410679",
         "-44.526628",
         "80",
         "60"
        ]
       ],
       "shape": {
        "columns": 15,
        "rows": 5
       }
      },
      "text/html": [
       "<div>\n",
       "<style scoped>\n",
       "    .dataframe tbody tr th:only-of-type {\n",
       "        vertical-align: middle;\n",
       "    }\n",
       "\n",
       "    .dataframe tbody tr th {\n",
       "        vertical-align: top;\n",
       "    }\n",
       "\n",
       "    .dataframe thead th {\n",
       "        text-align: right;\n",
       "    }\n",
       "</style>\n",
       "<table border=\"1\" class=\"dataframe\">\n",
       "  <thead>\n",
       "    <tr style=\"text-align: right;\">\n",
       "      <th></th>\n",
       "      <th>concessionaria</th>\n",
       "      <th>ano_do_pnv_snv</th>\n",
       "      <th>tipo_de_radar</th>\n",
       "      <th>rodovia</th>\n",
       "      <th>uf</th>\n",
       "      <th>km_m</th>\n",
       "      <th>municipio</th>\n",
       "      <th>tipo_pista</th>\n",
       "      <th>sentido</th>\n",
       "      <th>situacao</th>\n",
       "      <th>data_da_inativacao</th>\n",
       "      <th>latitude</th>\n",
       "      <th>longitude</th>\n",
       "      <th>velocidade_leve</th>\n",
       "      <th>velocidade_pesado</th>\n",
       "    </tr>\n",
       "  </thead>\n",
       "  <tbody>\n",
       "    <tr>\n",
       "      <th>0</th>\n",
       "      <td>AUTOPISTA FERNÃO DIAS</td>\n",
       "      <td>2007</td>\n",
       "      <td>Controlador</td>\n",
       "      <td>BR-381</td>\n",
       "      <td>MG</td>\n",
       "      <td>483,850</td>\n",
       "      <td>Betim</td>\n",
       "      <td>Principal</td>\n",
       "      <td>Crescente</td>\n",
       "      <td>Ativo</td>\n",
       "      <td>NaN</td>\n",
       "      <td>-19.959486</td>\n",
       "      <td>-44.085386</td>\n",
       "      <td>80</td>\n",
       "      <td>60</td>\n",
       "    </tr>\n",
       "    <tr>\n",
       "      <th>1</th>\n",
       "      <td>AUTOPISTA FERNÃO DIAS</td>\n",
       "      <td>2007</td>\n",
       "      <td>Controlador</td>\n",
       "      <td>BR-381</td>\n",
       "      <td>MG</td>\n",
       "      <td>493,290</td>\n",
       "      <td>Betim</td>\n",
       "      <td>Principal</td>\n",
       "      <td>Crescente</td>\n",
       "      <td>Ativo</td>\n",
       "      <td>NaN</td>\n",
       "      <td>-19.964349</td>\n",
       "      <td>-44.171924</td>\n",
       "      <td>80</td>\n",
       "      <td>60</td>\n",
       "    </tr>\n",
       "    <tr>\n",
       "      <th>2</th>\n",
       "      <td>AUTOPISTA FERNÃO DIAS</td>\n",
       "      <td>2007</td>\n",
       "      <td>Controlador</td>\n",
       "      <td>BR-381</td>\n",
       "      <td>MG</td>\n",
       "      <td>525,350</td>\n",
       "      <td>Brumadinho</td>\n",
       "      <td>Principal</td>\n",
       "      <td>Crescente</td>\n",
       "      <td>Ativo</td>\n",
       "      <td>NaN</td>\n",
       "      <td>-20.146664</td>\n",
       "      <td>-44.323897</td>\n",
       "      <td>80</td>\n",
       "      <td>60</td>\n",
       "    </tr>\n",
       "    <tr>\n",
       "      <th>3</th>\n",
       "      <td>AUTOPISTA FERNÃO DIAS</td>\n",
       "      <td>2007</td>\n",
       "      <td>Controlador</td>\n",
       "      <td>BR-381</td>\n",
       "      <td>MG</td>\n",
       "      <td>528,350</td>\n",
       "      <td>Brumadinho</td>\n",
       "      <td>Principal</td>\n",
       "      <td>Decrescente</td>\n",
       "      <td>Ativo</td>\n",
       "      <td>NaN</td>\n",
       "      <td>-20.167194</td>\n",
       "      <td>-44.334434</td>\n",
       "      <td>80</td>\n",
       "      <td>60</td>\n",
       "    </tr>\n",
       "    <tr>\n",
       "      <th>4</th>\n",
       "      <td>AUTOPISTA FERNÃO DIAS</td>\n",
       "      <td>2007</td>\n",
       "      <td>Controlador</td>\n",
       "      <td>BR-381</td>\n",
       "      <td>MG</td>\n",
       "      <td>568,890</td>\n",
       "      <td>Itaguara</td>\n",
       "      <td>Principal</td>\n",
       "      <td>Decrescente</td>\n",
       "      <td>Ativo</td>\n",
       "      <td>NaN</td>\n",
       "      <td>-20.410679</td>\n",
       "      <td>-44.526628</td>\n",
       "      <td>80</td>\n",
       "      <td>60</td>\n",
       "    </tr>\n",
       "  </tbody>\n",
       "</table>\n",
       "</div>"
      ],
      "text/plain": [
       "          concessionaria  ano_do_pnv_snv tipo_de_radar rodovia  uf     km_m  \\\n",
       "0  AUTOPISTA FERNÃO DIAS            2007   Controlador  BR-381  MG  483,850   \n",
       "1  AUTOPISTA FERNÃO DIAS            2007   Controlador  BR-381  MG  493,290   \n",
       "2  AUTOPISTA FERNÃO DIAS            2007   Controlador  BR-381  MG  525,350   \n",
       "3  AUTOPISTA FERNÃO DIAS            2007   Controlador  BR-381  MG  528,350   \n",
       "4  AUTOPISTA FERNÃO DIAS            2007   Controlador  BR-381  MG  568,890   \n",
       "\n",
       "    municipio tipo_pista      sentido situacao  data_da_inativacao   latitude  \\\n",
       "0       Betim  Principal    Crescente    Ativo                 NaN -19.959486   \n",
       "1       Betim  Principal    Crescente    Ativo                 NaN -19.964349   \n",
       "2  Brumadinho  Principal    Crescente    Ativo                 NaN -20.146664   \n",
       "3  Brumadinho  Principal  Decrescente    Ativo                 NaN -20.167194   \n",
       "4    Itaguara  Principal  Decrescente    Ativo                 NaN -20.410679   \n",
       "\n",
       "   longitude  velocidade_leve  velocidade_pesado  \n",
       "0 -44.085386               80                 60  \n",
       "1 -44.171924               80                 60  \n",
       "2 -44.323897               80                 60  \n",
       "3 -44.334434               80                 60  \n",
       "4 -44.526628               80                 60  "
      ]
     },
     "execution_count": 9,
     "metadata": {},
     "output_type": "execute_result"
    }
   ],
   "source": [
    "df_antt.head()"
   ]
  },
  {
   "cell_type": "code",
   "execution_count": 15,
   "id": "c99c70ea",
   "metadata": {},
   "outputs": [],
   "source": [
    "lat_centro = df_antt['latitude'].mean()\n",
    "lon_centro = df_antt['longitude'].mean()\n",
    "\n",
    "# Cria mapa com zoom inicial\n",
    "mapa = folium.Map(location=[lat_centro, lon_centro], zoom_start=5)\n",
    "\n",
    "# Adiciona marcadores\n",
    "for _, row in df_antt.iterrows():\n",
    "    tooltip = f\"\"\"\n",
    "    <b>Concessionária:</b> {row['concessionaria']}<br>\n",
    "    <b>Rodovia:</b> {row['rodovia']}<br>\n",
    "    <b>Município:</b> {row['municipio']}<br>\n",
    "    <b>Tipo:</b> {row['tipo_de_radar']}<br>\n",
    "    <b>Vel. leve:</b> {row['velocidade_leve']} km/h\n",
    "    \"\"\"\n",
    "    folium.Marker(\n",
    "        location=[row['latitude'], row['longitude']],\n",
    "        popup=tooltip,\n",
    "        icon=folium.Icon(color='blue', icon='camera', prefix='fa')\n",
    "    ).add_to(mapa)\n",
    "\n",
    "# Salva e/ou exibe o mapa\n",
    "mapa.save('radares_antt.html')"
   ]
  }
 ],
 "metadata": {
  "kernelspec": {
   "display_name": "Python 3",
   "language": "python",
   "name": "python3"
  },
  "language_info": {
   "codemirror_mode": {
    "name": "ipython",
    "version": 3
   },
   "file_extension": ".py",
   "mimetype": "text/x-python",
   "name": "python",
   "nbconvert_exporter": "python",
   "pygments_lexer": "ipython3",
   "version": "3.11.2"
  }
 },
 "nbformat": 4,
 "nbformat_minor": 5
}
