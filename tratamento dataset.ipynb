{
 "cells": [
  {
   "cell_type": "markdown",
   "id": "536e4428",
   "metadata": {},
   "source": [
    "# Tratamento e criação dataset de acidentes"
   ]
  },
  {
   "cell_type": "code",
   "execution_count": 1,
   "id": "b5c7bdb6",
   "metadata": {},
   "outputs": [
    {
     "name": "stdout",
     "output_type": "stream",
     "text": [
      "(1913375, 38)\n"
     ]
    }
   ],
   "source": [
    "import os\n",
    "import pandas as pd\n",
    "\n",
    "# Caminho raiz onde estão os diretórios com CSVs\n",
    "caminho_raiz = 'dados/acidentes'  # exemplo: 'C:/meus_dados/csvs'\n",
    "\n",
    "# Lista para armazenar os DataFrames\n",
    "lista_df = []\n",
    "\n",
    "# Percorre todos os diretórios e subdiretórios\n",
    "for root, dirs, files in os.walk(caminho_raiz):\n",
    "    for file in files:\n",
    "        if file.endswith('.csv'):\n",
    "            caminho_completo = os.path.join(root, file)\n",
    "            try:\n",
    "                df = pd.read_csv(caminho_completo, sep=';', encoding='latin1')  # ajuste sep/encoding se necessário\n",
    "                df['origem_arquivo'] = file  # opcional: identifica a origem\n",
    "                lista_df.append(df)\n",
    "            except Exception as e:\n",
    "                print(f\"Erro ao ler {caminho_completo}: {e}\")\n",
    "\n",
    "# Junta todos os DataFrames\n",
    "df_unificado = pd.concat(lista_df, ignore_index=True)\n",
    "\n",
    "# Exibe ou salva\n",
    "print(df_unificado.shape)\n",
    "df_unificado.to_csv('dados/acidentes/acidentes_agrupado.csv', index=False)\n"
   ]
  },
  {
   "cell_type": "markdown",
   "id": "88db0a8f",
   "metadata": {},
   "source": [
    "# Tratamento e criação dataset de infrações"
   ]
  },
  {
   "cell_type": "code",
   "execution_count": 1,
   "id": "fe0934fd",
   "metadata": {},
   "outputs": [
    {
     "name": "stderr",
     "output_type": "stream",
     "text": [
      "C:\\Users\\pertile\\AppData\\Local\\Temp\\1\\ipykernel_2636\\1495592176.py:16: DtypeWarning: Columns (22,23) have mixed types. Specify dtype option on import or set low_memory=False.\n",
      "  df = pd.read_csv(caminho_completo, sep=';', encoding='latin1')  # ajuste sep/encoding se necessário\n",
      "C:\\Users\\pertile\\AppData\\Local\\Temp\\1\\ipykernel_2636\\1495592176.py:16: DtypeWarning: Columns (22,23) have mixed types. Specify dtype option on import or set low_memory=False.\n",
      "  df = pd.read_csv(caminho_completo, sep=';', encoding='latin1')  # ajuste sep/encoding se necessário\n",
      "C:\\Users\\pertile\\AppData\\Local\\Temp\\1\\ipykernel_2636\\1495592176.py:16: DtypeWarning: Columns (22,23) have mixed types. Specify dtype option on import or set low_memory=False.\n",
      "  df = pd.read_csv(caminho_completo, sep=';', encoding='latin1')  # ajuste sep/encoding se necessário\n",
      "C:\\Users\\pertile\\AppData\\Local\\Temp\\1\\ipykernel_2636\\1495592176.py:16: DtypeWarning: Columns (22,23) have mixed types. Specify dtype option on import or set low_memory=False.\n",
      "  df = pd.read_csv(caminho_completo, sep=';', encoding='latin1')  # ajuste sep/encoding se necessário\n",
      "C:\\Users\\pertile\\AppData\\Local\\Temp\\1\\ipykernel_2636\\1495592176.py:16: DtypeWarning: Columns (22,23) have mixed types. Specify dtype option on import or set low_memory=False.\n",
      "  df = pd.read_csv(caminho_completo, sep=';', encoding='latin1')  # ajuste sep/encoding se necessário\n",
      "C:\\Users\\pertile\\AppData\\Local\\Temp\\1\\ipykernel_2636\\1495592176.py:16: DtypeWarning: Columns (22,23) have mixed types. Specify dtype option on import or set low_memory=False.\n",
      "  df = pd.read_csv(caminho_completo, sep=';', encoding='latin1')  # ajuste sep/encoding se necessário\n",
      "C:\\Users\\pertile\\AppData\\Local\\Temp\\1\\ipykernel_2636\\1495592176.py:16: DtypeWarning: Columns (22,23) have mixed types. Specify dtype option on import or set low_memory=False.\n",
      "  df = pd.read_csv(caminho_completo, sep=';', encoding='latin1')  # ajuste sep/encoding se necessário\n",
      "C:\\Users\\pertile\\AppData\\Local\\Temp\\1\\ipykernel_2636\\1495592176.py:16: DtypeWarning: Columns (22,23) have mixed types. Specify dtype option on import or set low_memory=False.\n",
      "  df = pd.read_csv(caminho_completo, sep=';', encoding='latin1')  # ajuste sep/encoding se necessário\n",
      "C:\\Users\\pertile\\AppData\\Local\\Temp\\1\\ipykernel_2636\\1495592176.py:16: DtypeWarning: Columns (22,23) have mixed types. Specify dtype option on import or set low_memory=False.\n",
      "  df = pd.read_csv(caminho_completo, sep=';', encoding='latin1')  # ajuste sep/encoding se necessário\n",
      "C:\\Users\\pertile\\AppData\\Local\\Temp\\1\\ipykernel_2636\\1495592176.py:16: DtypeWarning: Columns (22,23) have mixed types. Specify dtype option on import or set low_memory=False.\n",
      "  df = pd.read_csv(caminho_completo, sep=';', encoding='latin1')  # ajuste sep/encoding se necessário\n",
      "C:\\Users\\pertile\\AppData\\Local\\Temp\\1\\ipykernel_2636\\1495592176.py:16: DtypeWarning: Columns (22,23) have mixed types. Specify dtype option on import or set low_memory=False.\n",
      "  df = pd.read_csv(caminho_completo, sep=';', encoding='latin1')  # ajuste sep/encoding se necessário\n",
      "C:\\Users\\pertile\\AppData\\Local\\Temp\\1\\ipykernel_2636\\1495592176.py:16: DtypeWarning: Columns (22,23) have mixed types. Specify dtype option on import or set low_memory=False.\n",
      "  df = pd.read_csv(caminho_completo, sep=';', encoding='latin1')  # ajuste sep/encoding se necessário\n",
      "C:\\Users\\pertile\\AppData\\Local\\Temp\\1\\ipykernel_2636\\1495592176.py:16: DtypeWarning: Columns (22,23) have mixed types. Specify dtype option on import or set low_memory=False.\n",
      "  df = pd.read_csv(caminho_completo, sep=';', encoding='latin1')  # ajuste sep/encoding se necessário\n",
      "C:\\Users\\pertile\\AppData\\Local\\Temp\\1\\ipykernel_2636\\1495592176.py:16: DtypeWarning: Columns (22,23) have mixed types. Specify dtype option on import or set low_memory=False.\n",
      "  df = pd.read_csv(caminho_completo, sep=';', encoding='latin1')  # ajuste sep/encoding se necessário\n",
      "C:\\Users\\pertile\\AppData\\Local\\Temp\\1\\ipykernel_2636\\1495592176.py:16: DtypeWarning: Columns (22,23) have mixed types. Specify dtype option on import or set low_memory=False.\n",
      "  df = pd.read_csv(caminho_completo, sep=';', encoding='latin1')  # ajuste sep/encoding se necessário\n",
      "C:\\Users\\pertile\\AppData\\Local\\Temp\\1\\ipykernel_2636\\1495592176.py:16: DtypeWarning: Columns (22,23) have mixed types. Specify dtype option on import or set low_memory=False.\n",
      "  df = pd.read_csv(caminho_completo, sep=';', encoding='latin1')  # ajuste sep/encoding se necessário\n",
      "C:\\Users\\pertile\\AppData\\Local\\Temp\\1\\ipykernel_2636\\1495592176.py:16: DtypeWarning: Columns (22,23) have mixed types. Specify dtype option on import or set low_memory=False.\n",
      "  df = pd.read_csv(caminho_completo, sep=';', encoding='latin1')  # ajuste sep/encoding se necessário\n",
      "C:\\Users\\pertile\\AppData\\Local\\Temp\\1\\ipykernel_2636\\1495592176.py:16: DtypeWarning: Columns (22,23) have mixed types. Specify dtype option on import or set low_memory=False.\n",
      "  df = pd.read_csv(caminho_completo, sep=';', encoding='latin1')  # ajuste sep/encoding se necessário\n",
      "C:\\Users\\pertile\\AppData\\Local\\Temp\\1\\ipykernel_2636\\1495592176.py:16: DtypeWarning: Columns (22,23) have mixed types. Specify dtype option on import or set low_memory=False.\n",
      "  df = pd.read_csv(caminho_completo, sep=';', encoding='latin1')  # ajuste sep/encoding se necessário\n",
      "C:\\Users\\pertile\\AppData\\Local\\Temp\\1\\ipykernel_2636\\1495592176.py:16: DtypeWarning: Columns (22,23) have mixed types. Specify dtype option on import or set low_memory=False.\n",
      "  df = pd.read_csv(caminho_completo, sep=';', encoding='latin1')  # ajuste sep/encoding se necessário\n",
      "C:\\Users\\pertile\\AppData\\Local\\Temp\\1\\ipykernel_2636\\1495592176.py:16: DtypeWarning: Columns (22,23) have mixed types. Specify dtype option on import or set low_memory=False.\n",
      "  df = pd.read_csv(caminho_completo, sep=';', encoding='latin1')  # ajuste sep/encoding se necessário\n",
      "C:\\Users\\pertile\\AppData\\Local\\Temp\\1\\ipykernel_2636\\1495592176.py:16: DtypeWarning: Columns (22,23) have mixed types. Specify dtype option on import or set low_memory=False.\n",
      "  df = pd.read_csv(caminho_completo, sep=';', encoding='latin1')  # ajuste sep/encoding se necessário\n",
      "C:\\Users\\pertile\\AppData\\Local\\Temp\\1\\ipykernel_2636\\1495592176.py:16: DtypeWarning: Columns (22,23) have mixed types. Specify dtype option on import or set low_memory=False.\n",
      "  df = pd.read_csv(caminho_completo, sep=';', encoding='latin1')  # ajuste sep/encoding se necessário\n",
      "C:\\Users\\pertile\\AppData\\Local\\Temp\\1\\ipykernel_2636\\1495592176.py:16: DtypeWarning: Columns (22,23) have mixed types. Specify dtype option on import or set low_memory=False.\n",
      "  df = pd.read_csv(caminho_completo, sep=';', encoding='latin1')  # ajuste sep/encoding se necessário\n",
      "C:\\Users\\pertile\\AppData\\Local\\Temp\\1\\ipykernel_2636\\1495592176.py:16: DtypeWarning: Columns (22,23) have mixed types. Specify dtype option on import or set low_memory=False.\n",
      "  df = pd.read_csv(caminho_completo, sep=';', encoding='latin1')  # ajuste sep/encoding se necessário\n",
      "C:\\Users\\pertile\\AppData\\Local\\Temp\\1\\ipykernel_2636\\1495592176.py:16: DtypeWarning: Columns (22,23) have mixed types. Specify dtype option on import or set low_memory=False.\n",
      "  df = pd.read_csv(caminho_completo, sep=';', encoding='latin1')  # ajuste sep/encoding se necessário\n",
      "C:\\Users\\pertile\\AppData\\Local\\Temp\\1\\ipykernel_2636\\1495592176.py:16: DtypeWarning: Columns (22,23) have mixed types. Specify dtype option on import or set low_memory=False.\n",
      "  df = pd.read_csv(caminho_completo, sep=';', encoding='latin1')  # ajuste sep/encoding se necessário\n",
      "C:\\Users\\pertile\\AppData\\Local\\Temp\\1\\ipykernel_2636\\1495592176.py:16: DtypeWarning: Columns (22,23) have mixed types. Specify dtype option on import or set low_memory=False.\n",
      "  df = pd.read_csv(caminho_completo, sep=';', encoding='latin1')  # ajuste sep/encoding se necessário\n",
      "C:\\Users\\pertile\\AppData\\Local\\Temp\\1\\ipykernel_2636\\1495592176.py:16: DtypeWarning: Columns (22,23) have mixed types. Specify dtype option on import or set low_memory=False.\n",
      "  df = pd.read_csv(caminho_completo, sep=';', encoding='latin1')  # ajuste sep/encoding se necessário\n",
      "C:\\Users\\pertile\\AppData\\Local\\Temp\\1\\ipykernel_2636\\1495592176.py:16: DtypeWarning: Columns (15) have mixed types. Specify dtype option on import or set low_memory=False.\n",
      "  df = pd.read_csv(caminho_completo, sep=';', encoding='latin1')  # ajuste sep/encoding se necessário\n"
     ]
    },
    {
     "name": "stdout",
     "output_type": "stream",
     "text": [
      "(22535242, 26)\n"
     ]
    }
   ],
   "source": [
    "import os\n",
    "import pandas as pd\n",
    "\n",
    "# Caminho raiz onde estão os diretórios com CSVs\n",
    "caminho_raiz = 'dados/infracoes'  # exemplo: 'C:/meus_dados/csvs'\n",
    "\n",
    "# Lista para armazenar os DataFrames\n",
    "lista_df = []\n",
    "\n",
    "# Percorre todos os diretórios e subdiretórios\n",
    "for root, dirs, files in os.walk(caminho_raiz):\n",
    "    for file in files:\n",
    "        if file.endswith('.csv'):\n",
    "            caminho_completo = os.path.join(root, file)\n",
    "            try:\n",
    "                df = pd.read_csv(caminho_completo, sep=';', encoding='latin1')  # ajuste sep/encoding se necessário\n",
    "                df['origem_arquivo'] = file  # opcional: identifica a origem\n",
    "                lista_df.append(df)\n",
    "            except Exception as e:\n",
    "                print(f\"Erro ao ler {caminho_completo}: {e}\")\n",
    "\n",
    "# Junta todos os DataFrames\n",
    "df_unificado = pd.concat(lista_df, ignore_index=True)\n",
    "\n",
    "# Exibe ou salva\n",
    "print(df_unificado.shape)\n",
    "df_unificado.to_csv('dados/infracoes/infracoes_agrupado.csv', index=False)"
   ]
  }
 ],
 "metadata": {
  "kernelspec": {
   "display_name": "Python 3",
   "language": "python",
   "name": "python3"
  },
  "language_info": {
   "codemirror_mode": {
    "name": "ipython",
    "version": 3
   },
   "file_extension": ".py",
   "mimetype": "text/x-python",
   "name": "python",
   "nbconvert_exporter": "python",
   "pygments_lexer": "ipython3",
   "version": "3.11.2"
  }
 },
 "nbformat": 4,
 "nbformat_minor": 5
}
