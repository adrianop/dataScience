{
 "cells": [
  {
   "cell_type": "code",
   "execution_count": 23,
   "id": "0db10818",
   "metadata": {},
   "outputs": [
    {
     "name": "stdout",
     "output_type": "stream",
     "text": [
      "Requirement already satisfied: pandas in c:\\users\\adria\\appdata\\local\\packages\\pythonsoftwarefoundation.python.3.11_qbz5n2kfra8p0\\localcache\\local-packages\\python311\\site-packages (2.3.0)\n",
      "Requirement already satisfied: numpy>=1.23.2 in c:\\users\\adria\\appdata\\local\\packages\\pythonsoftwarefoundation.python.3.11_qbz5n2kfra8p0\\localcache\\local-packages\\python311\\site-packages (from pandas) (2.3.1)\n",
      "Requirement already satisfied: python-dateutil>=2.8.2 in c:\\users\\adria\\appdata\\local\\packages\\pythonsoftwarefoundation.python.3.11_qbz5n2kfra8p0\\localcache\\local-packages\\python311\\site-packages (from pandas) (2.9.0.post0)\n",
      "Requirement already satisfied: pytz>=2020.1 in c:\\users\\adria\\appdata\\local\\packages\\pythonsoftwarefoundation.python.3.11_qbz5n2kfra8p0\\localcache\\local-packages\\python311\\site-packages (from pandas) (2025.2)\n",
      "Requirement already satisfied: tzdata>=2022.7 in c:\\users\\adria\\appdata\\local\\packages\\pythonsoftwarefoundation.python.3.11_qbz5n2kfra8p0\\localcache\\local-packages\\python311\\site-packages (from pandas) (2025.2)\n",
      "Requirement already satisfied: six>=1.5 in c:\\users\\adria\\appdata\\local\\packages\\pythonsoftwarefoundation.python.3.11_qbz5n2kfra8p0\\localcache\\local-packages\\python311\\site-packages (from python-dateutil>=2.8.2->pandas) (1.17.0)\n",
      "Note: you may need to restart the kernel to use updated packages.\n"
     ]
    },
    {
     "name": "stderr",
     "output_type": "stream",
     "text": [
      "\n",
      "[notice] A new release of pip is available: 24.0 -> 25.1.1\n",
      "[notice] To update, run: C:\\Users\\adria\\AppData\\Local\\Microsoft\\WindowsApps\\PythonSoftwareFoundation.Python.3.11_qbz5n2kfra8p0\\python.exe -m pip install --upgrade pip\n"
     ]
    },
    {
     "name": "stdout",
     "output_type": "stream",
     "text": [
      "Requirement already satisfied: duckdb in c:\\users\\adria\\appdata\\local\\packages\\pythonsoftwarefoundation.python.3.11_qbz5n2kfra8p0\\localcache\\local-packages\\python311\\site-packages (1.3.1)\n",
      "Note: you may need to restart the kernel to use updated packages.\n"
     ]
    },
    {
     "name": "stderr",
     "output_type": "stream",
     "text": [
      "\n",
      "[notice] A new release of pip is available: 24.0 -> 25.1.1\n",
      "[notice] To update, run: C:\\Users\\adria\\AppData\\Local\\Microsoft\\WindowsApps\\PythonSoftwareFoundation.Python.3.11_qbz5n2kfra8p0\\python.exe -m pip install --upgrade pip\n"
     ]
    }
   ],
   "source": [
    "%pip install pandas\n",
    "%pip install duckdb\n",
    "import pandas as pd\n",
    "import duckdb"
   ]
  },
  {
   "cell_type": "code",
   "execution_count": 24,
   "id": "3a91970d",
   "metadata": {},
   "outputs": [
    {
     "data": {
      "text/plain": [
       "<duckdb.duckdb.DuckDBPyConnection at 0x1b6fdfd7170>"
      ]
     },
     "execution_count": 24,
     "metadata": {},
     "output_type": "execute_result"
    }
   ],
   "source": [
    "# Criar conexão in-memory\n",
    "con = duckdb.connect()\n",
    "\n",
    "# Ler CSV diretamente sem RAM alta\n",
    "con.execute(\"\"\"\n",
    "    CREATE TABLE infracoes AS\n",
    "    SELECT * FROM read_csv_auto('../../dados/infracoes/combined_output.csv', delim=';', header=True, ignore_errors=True)\n",
    "\"\"\")"
   ]
  },
  {
   "cell_type": "code",
   "execution_count": 25,
   "id": "4318dce1",
   "metadata": {},
   "outputs": [
    {
     "data": {
      "application/vnd.microsoft.datawrangler.viewer.v0+json": {
       "columns": [
        {
         "name": "index",
         "rawType": "int64",
         "type": "integer"
        },
        {
         "name": "Número do Auto",
         "rawType": "object",
         "type": "string"
        },
        {
         "name": "Data da Infração (DD/MM/AAAA)",
         "rawType": "datetime64[us]",
         "type": "unknown"
        },
        {
         "name": "Indicador de Abordagem",
         "rawType": "object",
         "type": "string"
        },
        {
         "name": "Assinatura do Auto",
         "rawType": "object",
         "type": "string"
        },
        {
         "name": "Indicador Veiculo Estrangeiro",
         "rawType": "object",
         "type": "string"
        },
        {
         "name": "Sentido Trafego",
         "rawType": "object",
         "type": "string"
        },
        {
         "name": "UF Placa",
         "rawType": "object",
         "type": "string"
        },
        {
         "name": "UF Infração",
         "rawType": "object",
         "type": "string"
        },
        {
         "name": "BR Infração",
         "rawType": "int64",
         "type": "integer"
        },
        {
         "name": "Km Infração",
         "rawType": "int64",
         "type": "integer"
        },
        {
         "name": "Município",
         "rawType": "object",
         "type": "string"
        },
        {
         "name": "Código da Infração",
         "rawType": "int64",
         "type": "integer"
        },
        {
         "name": "Descrição Abreviada Infração",
         "rawType": "object",
         "type": "string"
        },
        {
         "name": "Enquadramento da Infração",
         "rawType": "object",
         "type": "string"
        },
        {
         "name": "Início Vigência da Infração",
         "rawType": "datetime64[us]",
         "type": "unknown"
        },
        {
         "name": "Fim Vigência Infração",
         "rawType": "object",
         "type": "unknown"
        },
        {
         "name": "Medição Infração",
         "rawType": "object",
         "type": "string"
        },
        {
         "name": "Descrição Especie Veículo",
         "rawType": "object",
         "type": "string"
        },
        {
         "name": "Descrição Marca Veículo",
         "rawType": "object",
         "type": "string"
        },
        {
         "name": "Hora Infração",
         "rawType": "int64",
         "type": "integer"
        },
        {
         "name": "Medição Considerada",
         "rawType": "object",
         "type": "string"
        },
        {
         "name": "Excesso Verificado",
         "rawType": "object",
         "type": "string"
        },
        {
         "name": "Qtd Infrações",
         "rawType": "object",
         "type": "unknown"
        },
        {
         "name": "Descrição Tipo Veículo",
         "rawType": "object",
         "type": "unknown"
        },
        {
         "name": "Descrição Modelo Veiculo",
         "rawType": "object",
         "type": "unknown"
        }
       ],
       "ref": "d1440b11-2f5e-4d3f-b84e-450244fe1c4c",
       "rows": [
        [
         "0",
         "5bcd39ea93ac463",
         "2019-01-06 00:00:00",
         "C",
         "N",
         "S",
         "C",
         "-1",
         "PR",
         "369",
         "132",
         "IBIPORA",
         "51930",
         "Transportar criança sem observância das normas de segurança estabelecidas p/ CTB",
         "168",
         "2016-11-01 00:00:00",
         null,
         "Nenhuma",
         "PASSAGEIRO",
         "FORD",
         "18",
         "0.00",
         "0.00",
         null,
         null,
         null
        ],
        [
         "1",
         "e038e26abee1b3f",
         "2019-01-20 00:00:00",
         "C",
         "N",
         "N",
         "D",
         "-1",
         "RJ",
         "356",
         "169",
         "SAO JOAO DA BARRA",
         "67000",
         "Conduzir veíc com vidro total/parcialmente coberto por película, painéis/pintura",
         "230 XVI",
         "2016-11-01 00:00:00",
         null,
         "Nenhuma",
         "PASSAGEIRO",
         "OUTRA",
         "16",
         "0.00",
         "0.00",
         null,
         null,
         null
        ],
        [
         "2",
         "e4881fa47a05ae9",
         "2019-01-20 00:00:00",
         "C",
         "N",
         "N",
         "D",
         "-1",
         "RJ",
         "356",
         "169",
         "SAO JOAO DA BARRA",
         "66102",
         "Conduzir o veículo com característica alterada",
         "230 VII",
         "2016-11-01 00:00:00",
         null,
         "Nenhuma",
         "PASSAGEIRO",
         "OUTRA",
         "16",
         "0.00",
         "0.00",
         null,
         null,
         null
        ],
        [
         "3",
         "d6c91fa499ca5fd",
         "2019-01-04 00:00:00",
         "C",
         "N",
         "N",
         "C",
         "GO",
         "GO",
         "50",
         "286",
         "CATALAO",
         "72422",
         "Em movimento de dia, deixar de manter acesa luz baixa nas rodovias.",
         "250 I b",
         "2016-11-01 00:00:00",
         null,
         "Nenhuma",
         "MISTO",
         "OUTRA",
         "9",
         "0.00",
         "0.00",
         null,
         null,
         null
        ],
        [
         "4",
         "8af020201f2bebf",
         "2019-01-04 00:00:00",
         "C",
         "N",
         "N",
         "D",
         "RS",
         "PR",
         "116",
         "98",
         "SAO JOSE DOS PINHAIS",
         "63000",
         "Deixar reduzir velocidade nas vias rurais cuja faixa domínio não esteja cercada",
         "220 V",
         "2016-11-01 00:00:00",
         null,
         "Nenhuma",
         "CARGA",
         "MERCEDES BENZ",
         "3",
         "0.00",
         "0.00",
         null,
         null,
         null
        ],
        [
         "5",
         "dfc81d3b9665fe1",
         "2019-01-04 00:00:00",
         "C",
         "N",
         "N",
         "D",
         "RS",
         "PR",
         "116",
         "98",
         "SAO JOSE DOS PINHAIS",
         "58000",
         "Deixar guardar dist segurança lat/front entre seu veíc e demais e ao bordo pista",
         "192",
         "2016-11-01 00:00:00",
         null,
         "Nenhuma",
         "CARGA",
         "MERCEDES BENZ",
         "3",
         "0.00",
         "0.00",
         null,
         null,
         null
        ],
        [
         "6",
         "497adfc87d99dcc",
         "2019-01-15 00:00:00",
         "C",
         "N",
         "N",
         "C",
         "ES",
         "ES",
         "101",
         "269",
         "SERRA",
         "65991",
         "Conduzir o veículo que não esteja registrado",
         "230 * V",
         "2016-11-01 00:00:00",
         null,
         "Nenhuma",
         "CARGA",
         "OUTRA",
         "20",
         "0.00",
         "0.00",
         null,
         null,
         null
        ],
        [
         "7",
         "2922f47997658a0",
         "2019-01-15 00:00:00",
         "C",
         "N",
         "N",
         "C",
         "ES",
         "ES",
         "101",
         "269",
         "SERRA",
         "67261",
         "Conduzir o veículo em mau estado de conservação, comprometendo a segurança",
         "230 XVIII",
         "2016-11-01 00:00:00",
         null,
         "Nenhuma",
         "CARGA",
         "OUTRA",
         "20",
         "0.00",
         "0.00",
         null,
         null,
         null
        ],
        [
         "8",
         "058c6a0f061fc57",
         "2019-01-25 00:00:00",
         "C",
         "N",
         "N",
         "D",
         "RJ",
         "MG",
         "265",
         "266",
         "SAO JOAO DEL REI",
         "59670",
         "Ultrapassar pela contramão linha de divisão de fluxos opostos, contínua amarela",
         "203 V",
         "2016-11-01 00:00:00",
         null,
         "Nenhuma",
         "PASSAGEIRO",
         "OUTRA",
         "11",
         "0.00",
         "0.00",
         null,
         null,
         null
        ],
        [
         "9",
         "ca8fcbf31672fcb",
         "2019-01-25 00:00:00",
         "C",
         "N",
         "N",
         "D",
         "MG",
         "MG",
         "265",
         "266",
         "SAO JOAO DEL REI",
         "59670",
         "Ultrapassar pela contramão linha de divisão de fluxos opostos, contínua amarela",
         "203 V",
         "2016-11-01 00:00:00",
         null,
         "Nenhuma",
         "PASSAGEIRO",
         "GM",
         "11",
         "0.00",
         "0.00",
         null,
         null,
         null
        ],
        [
         "10",
         "11a69f815d9ed50",
         "2019-01-25 00:00:00",
         "C",
         "N",
         "N",
         "D",
         "SP",
         "MG",
         "265",
         "266",
         "SAO JOAO DEL REI",
         "59670",
         "Ultrapassar pela contramão linha de divisão de fluxos opostos, contínua amarela",
         "203 V",
         "2016-11-01 00:00:00",
         null,
         "Nenhuma",
         "PASSAGEIRO",
         "GM",
         "11",
         "0.00",
         "0.00",
         null,
         null,
         null
        ],
        [
         "11",
         "98acf65caafcd50",
         "2019-01-10 00:00:00",
         "C",
         "S",
         "N",
         "D",
         "MG",
         "MG",
         "381",
         "451",
         "SABARA",
         "50100",
         "Dirigir veículo sem possuir CNH/PPD/ACC",
         "162 I",
         "2016-11-01 00:00:00",
         null,
         "Nenhuma",
         "PASSAGEIRO",
         "HONDA",
         "11",
         "0.00",
         "0.00",
         null,
         null,
         null
        ],
        [
         "12",
         "6cc52f2beb1f29f",
         "2019-01-26 00:00:00",
         "C",
         "N",
         "N",
         "D",
         "MG",
         "MG",
         "381",
         "460",
         "BELO HORIZONTE",
         "50100",
         "Dirigir veículo sem possuir CNH/PPD/ACC",
         "162 I",
         "2016-11-01 00:00:00",
         null,
         "Nenhuma",
         "PASSAGEIRO",
         "OUTRA",
         "23",
         "0.00",
         "0.00",
         null,
         null,
         null
        ],
        [
         "13",
         "610f8d3d18b8401",
         "2019-01-26 00:00:00",
         "C",
         "N",
         "N",
         "D",
         "MG",
         "MG",
         "381",
         "460",
         "BELO HORIZONTE",
         "53710",
         "Ter seu veículo imobilizado na via por falta de combustível",
         "180",
         "2016-11-01 00:00:00",
         null,
         "Nenhuma",
         "PASSAGEIRO",
         "OUTRA",
         "23",
         "0.00",
         "0.00",
         null,
         null,
         null
        ],
        [
         "14",
         "21ca245f39d165b",
         "2019-01-26 00:00:00",
         "S",
         "N",
         "N",
         "D",
         "MG",
         "MG",
         "381",
         "473",
         "BELO HORIZONTE",
         "58000",
         "Deixar guardar dist segurança lat/front entre seu veíc e demais e ao bordo pista",
         "192",
         "2016-11-01 00:00:00",
         null,
         "Nenhuma",
         "PASSAGEIRO",
         "KIA",
         "20",
         "0.00",
         "0.00",
         null,
         null,
         null
        ],
        [
         "15",
         "62900e79c6b91c7",
         "2019-01-27 00:00:00",
         "S",
         "N",
         "N",
         "D",
         "MG",
         "MG",
         "381",
         "475",
         "BELO HORIZONTE",
         "58270",
         "Transitar em marcha ré, salvo na distância necessária a pequenas manobras",
         "194",
         "2016-11-01 00:00:00",
         null,
         "Nenhuma",
         "PASSAGEIRO",
         "FIAT",
         "0",
         "0.00",
         "0.00",
         null,
         null,
         null
        ],
        [
         "16",
         "046fe0382b83067",
         "2019-01-27 00:00:00",
         "S",
         "N",
         "N",
         "C",
         "MG",
         "MG",
         "381",
         "475",
         "BELO HORIZONTE",
         "76331",
         "Dirigir veiculo segurando telefone celular",
         "252,§ unico",
         "2016-11-01 00:00:00",
         null,
         "Nenhuma",
         "PASSAGEIRO",
         "FIAT",
         "1",
         "0.00",
         "0.00",
         null,
         null,
         null
        ],
        [
         "17",
         "b71d6c0839b689d",
         "2019-01-06 00:00:00",
         "C",
         "N",
         "N",
         "C",
         "MG",
         "MG",
         "262",
         "376",
         "JUATUBA",
         "74630",
         "Transitar em velocidade superior à máxima permitida em mais de 20% até 50%",
         "218 II",
         "2016-11-01 00:00:00",
         null,
         "Veiculo",
         "PASSAGEIRO",
         "VW",
         "10",
         "102.00",
         "22.00",
         null,
         null,
         null
        ],
        [
         "18",
         "f3b80fa29c64165",
         "2019-01-30 00:00:00",
         "S",
         "N",
         "N",
         "C",
         "MG",
         "MG",
         "354",
         "559",
         "CAMPO BELO",
         "59670",
         "Ultrapassar pela contramão linha de divisão de fluxos opostos, contínua amarela",
         "203 V",
         "2016-11-01 00:00:00",
         null,
         "Nenhuma",
         "MISTO",
         "RENAULT",
         "19",
         "0.00",
         "0.00",
         null,
         null,
         null
        ],
        [
         "19",
         "0c3f0f80c1c5cc2",
         "2019-01-31 00:00:00",
         "C",
         "N",
         "N",
         "D",
         "SP",
         "MG",
         "265",
         "352",
         "LAVRAS",
         "65992",
         "Conduzir o veículo registrado que não esteja devidamente licenciado",
         "230 * V",
         "2016-11-01 00:00:00",
         null,
         "Nenhuma",
         "PASSAGEIRO",
         "VW",
         "20",
         "0.00",
         "0.00",
         null,
         null,
         null
        ],
        [
         "20",
         "e046fb9c0a2e77c",
         "2019-01-31 00:00:00",
         "C",
         "N",
         "N",
         "D",
         "MG",
         "MG",
         "265",
         "352",
         "LAVRAS",
         "51851",
         "Deixar o condutor de usar o cinto segurança",
         "167",
         "2016-11-01 00:00:00",
         null,
         "Nenhuma",
         "PASSAGEIRO",
         "VW",
         "21",
         "0.00",
         "0.00",
         null,
         null,
         null
        ],
        [
         "21",
         "74ab789d7223202",
         "2019-01-31 00:00:00",
         "C",
         "N",
         "N",
         "D",
         "MG",
         "MG",
         "265",
         "352",
         "LAVRAS",
         "51851",
         "Deixar o condutor de usar o cinto segurança",
         "167",
         "2016-11-01 00:00:00",
         null,
         "Nenhuma",
         "MISTO",
         "GM",
         "22",
         "0.00",
         "0.00",
         null,
         null,
         null
        ],
        [
         "22",
         "4c6e96d8f9c4ff5",
         "2019-01-31 00:00:00",
         "C",
         "N",
         "N",
         "D",
         "MG",
         "MG",
         "265",
         "352",
         "LAVRAS",
         "67261",
         "Conduzir o veículo em mau estado de conservação, comprometendo a segurança",
         "230 XVIII",
         "2016-11-01 00:00:00",
         null,
         "Nenhuma",
         "MISTO",
         "GM",
         "22",
         "0.00",
         "0.00",
         null,
         null,
         null
        ],
        [
         "23",
         "54e391cb16ba374",
         "2019-01-09 00:00:00",
         "C",
         "N",
         "N",
         "C",
         "AL",
         "AL",
         "104",
         "34",
         "UNIAO DOS PALMARES",
         "50100",
         "Dirigir veículo sem possuir CNH/PPD/ACC",
         "162 I",
         "2016-11-01 00:00:00",
         null,
         "Nenhuma",
         "PASSAGEIRO",
         "HONDA",
         "9",
         "0.00",
         "0.00",
         null,
         null,
         null
        ],
        [
         "24",
         "7d9fc3dde52281d",
         "2019-01-09 00:00:00",
         "C",
         "S",
         "N",
         "C",
         "AL",
         "AL",
         "104",
         "34",
         "UNIAO DOS PALMARES",
         "65992",
         "Conduzir o veículo registrado que não esteja devidamente licenciado",
         "230 * V",
         "2016-11-01 00:00:00",
         null,
         "Nenhuma",
         "PASSAGEIRO",
         "HONDA",
         "9",
         "0.00",
         "0.00",
         null,
         null,
         null
        ],
        [
         "25",
         "a68079ab6898b6a",
         "2019-01-09 00:00:00",
         "C",
         "S",
         "N",
         "C",
         "AL",
         "AL",
         "104",
         "34",
         "UNIAO DOS PALMARES",
         "70301",
         "Conduzir motocicleta, motoneta e ciclomotor sem capacete de segurança",
         "244 I",
         "2016-11-01 00:00:00",
         null,
         "Nenhuma",
         "PASSAGEIRO",
         "HONDA",
         "9",
         "0.00",
         "0.00",
         null,
         null,
         null
        ],
        [
         "26",
         "11c25ca76847eae",
         "2019-01-15 00:00:00",
         "C",
         "N",
         "N",
         "D",
         "SC",
         "RS",
         "116",
         "36",
         "VACARIA",
         "68311",
         "Transitar com o veículo com excesso de peso PBT/PBTC",
         "231 V",
         "2016-11-01 00:00:00",
         null,
         "Peso",
         "CARGA",
         "VOLVO",
         "5",
         "62,530.00",
         "2,680.00",
         null,
         null,
         null
        ],
        [
         "27",
         "3004dc8a340b7a6",
         "2019-01-15 00:00:00",
         "C",
         "N",
         "N",
         "C",
         "RS",
         "RS",
         "116",
         "37",
         "VACARIA",
         "51341",
         "Permitir posse/condução veíc a pessoa com CNH categoria diferente da do veículo",
         "164 c/c 162 III",
         "2016-11-01 00:00:00",
         null,
         "Nenhuma",
         "PASSAGEIRO",
         "MERCEDES BENZ",
         "6",
         "0.00",
         "0.00",
         null,
         null,
         null
        ],
        [
         "28",
         "b731866dbbfdb4b",
         "2019-01-06 00:00:00",
         "C",
         "N",
         "N",
         "C",
         "SC",
         "SC",
         "282",
         "536",
         "CHAPECO",
         "59670",
         "Ultrapassar pela contramão linha de divisão de fluxos opostos, contínua amarela",
         "203 V",
         "2016-11-01 00:00:00",
         null,
         "Nenhuma",
         "PASSAGEIRO",
         "YAMAHA",
         "9",
         "0.00",
         "0.00",
         null,
         null,
         null
        ],
        [
         "29",
         "a2587cc872475fd",
         "2019-01-06 00:00:00",
         "C",
         "N",
         "N",
         "C",
         "SC",
         "SC",
         "282",
         "536",
         "CHAPECO",
         "66450",
         "Conduzir o veículo com equip obrigatório em desacordo com o estab pelo Contran",
         "230 X",
         "2016-11-01 00:00:00",
         null,
         "Nenhuma",
         "PASSAGEIRO",
         "YAMAHA",
         "9",
         "0.00",
         "0.00",
         null,
         null,
         null
        ],
        [
         "30",
         "edfb2c2889e1b34",
         "2019-01-08 00:00:00",
         "C",
         "N",
         "N",
         "C",
         "SP",
         "SP",
         "116",
         "279",
         "EMBU",
         "68311",
         "Transitar com o veículo com excesso de peso PBT/PBTC",
         "231 V",
         "2016-11-01 00:00:00",
         null,
         "Peso",
         "TRAÇÃO",
         "OUTRA",
         "11",
         "50,100.00",
         "8,600.00",
         null,
         null,
         null
        ],
        [
         "31",
         "31b78f76e7a9c0c",
         "2019-01-19 00:00:00",
         "C",
         "N",
         "N",
         "C",
         "SC",
         "SC",
         "116",
         "247",
         "LAGES",
         "52820",
         "Deixar o cond envolvido em acidente, de prestar ou providenciar socorro a vítima",
         "176 I",
         "2016-11-01 00:00:00",
         null,
         "Nenhuma",
         "PASSAGEIRO",
         "VW",
         "23",
         "0.00",
         "0.00",
         null,
         null,
         null
        ],
        [
         "32",
         "ca2549399b3b47b",
         "2019-01-19 00:00:00",
         "C",
         "N",
         "N",
         "C",
         "SC",
         "SC",
         "116",
         "247",
         "LAGES",
         "50450",
         "Dirigir veículo com validade de CNH/PPD vencida há mais de 30 dias",
         "162 V",
         "2016-11-01 00:00:00",
         null,
         "Nenhuma",
         "PASSAGEIRO",
         "VW",
         "23",
         "0.00",
         "0.00",
         null,
         null,
         null
        ],
        [
         "33",
         "8a2636dc5adfe11",
         "2019-01-08 00:00:00",
         "C",
         "S",
         "N",
         "D",
         "SP",
         "SP",
         "153",
         "35",
         "NOVA GRANADA",
         "67261",
         "Conduzir o veículo em mau estado de conservação, comprometendo a segurança",
         "230 XVIII",
         "2016-11-01 00:00:00",
         null,
         "Nenhuma",
         "CARGA",
         "FORD",
         "9",
         "0.00",
         "0.00",
         null,
         null,
         null
        ],
        [
         "34",
         "2628c4b02bebf7b",
         "2019-01-06 00:00:00",
         "C",
         "N",
         "N",
         "C",
         "SC",
         "SC",
         "282",
         "536",
         "CHAPECO",
         "59670",
         "Ultrapassar pela contramão linha de divisão de fluxos opostos, contínua amarela",
         "203 V",
         "2016-11-01 00:00:00",
         null,
         "Nenhuma",
         "PASSAGEIRO",
         "FORD",
         "9",
         "0.00",
         "0.00",
         null,
         null,
         null
        ],
        [
         "35",
         "e95bc5a1adff9ef",
         "2019-01-06 00:00:00",
         "C",
         "N",
         "N",
         "C",
         "SC",
         "SC",
         "282",
         "536",
         "CHAPECO",
         "59670",
         "Ultrapassar pela contramão linha de divisão de fluxos opostos, contínua amarela",
         "203 V",
         "2016-11-01 00:00:00",
         null,
         "Nenhuma",
         "PASSAGEIRO",
         "GM",
         "9",
         "0.00",
         "0.00",
         null,
         null,
         null
        ],
        [
         "36",
         "32598eb30e6fa8e",
         "2019-01-06 00:00:00",
         "C",
         "N",
         "N",
         "C",
         "SC",
         "SC",
         "282",
         "536",
         "CHAPECO",
         "57200",
         "Transitar pela contramão de direção em via com duplo sentido de circulação",
         "186 I",
         "2016-11-01 00:00:00",
         null,
         "Nenhuma",
         "PASSAGEIRO",
         "GM",
         "9",
         "0.00",
         "0.00",
         null,
         null,
         null
        ],
        [
         "37",
         "44028ad408f4265",
         "2019-01-06 00:00:00",
         "C",
         "N",
         "N",
         "C",
         "SC",
         "SC",
         "282",
         "536",
         "CHAPECO",
         "59670",
         "Ultrapassar pela contramão linha de divisão de fluxos opostos, contínua amarela",
         "203 V",
         "2016-11-01 00:00:00",
         null,
         "Nenhuma",
         "PASSAGEIRO",
         "FIAT",
         "10",
         "0.00",
         "0.00",
         null,
         null,
         null
        ],
        [
         "38",
         "ef5955dfc2dc634",
         "2019-01-06 00:00:00",
         "C",
         "N",
         "N",
         "C",
         "SC",
         "SC",
         "282",
         "536",
         "CHAPECO",
         "59670",
         "Ultrapassar pela contramão linha de divisão de fluxos opostos, contínua amarela",
         "203 V",
         "2016-11-01 00:00:00",
         null,
         "Nenhuma",
         "PASSAGEIRO",
         "VW",
         "10",
         "0.00",
         "0.00",
         null,
         null,
         null
        ],
        [
         "39",
         "5226833a02ed7f5",
         "2019-01-06 00:00:00",
         "C",
         "N",
         "N",
         "C",
         "SC",
         "SC",
         "282",
         "536",
         "CHAPECO",
         "50450",
         "Dirigir veículo com validade de CNH/PPD vencida há mais de 30 dias",
         "162 V",
         "2016-11-01 00:00:00",
         null,
         "Nenhuma",
         "PASSAGEIRO",
         "VW",
         "10",
         "0.00",
         "0.00",
         null,
         null,
         null
        ],
        [
         "40",
         "8a4bc935eed5888",
         "2019-01-26 00:00:00",
         "C",
         "N",
         "N",
         "D",
         "SC",
         "SC",
         "282",
         "497",
         "XANXERE",
         "59670",
         "Ultrapassar pela contramão linha de divisão de fluxos opostos, contínua amarela",
         "203 V",
         "2016-11-01 00:00:00",
         null,
         "Nenhuma",
         "PASSAGEIRO",
         "OUTRA",
         "10",
         "0.00",
         "0.00",
         null,
         null,
         null
        ],
        [
         "41",
         "7a27743b468703b",
         "2019-01-26 00:00:00",
         "C",
         "N",
         "N",
         "D",
         "SC",
         "SC",
         "282",
         "497",
         "XANXERE",
         "66450",
         "Conduzir o veículo com equip obrigatório em desacordo com o estab pelo Contran",
         "230 X",
         "2016-11-01 00:00:00",
         null,
         "Nenhuma",
         "PASSAGEIRO",
         "GM",
         "10",
         "0.00",
         "0.00",
         null,
         null,
         null
        ],
        [
         "42",
         "cd697fb7ff8d792",
         "2019-01-26 00:00:00",
         "C",
         "N",
         "N",
         "D",
         "SC",
         "SC",
         "282",
         "497",
         "XANXERE",
         "66450",
         "Conduzir o veículo com equip obrigatório em desacordo com o estab pelo Contran",
         "230 X",
         "2016-11-01 00:00:00",
         null,
         "Nenhuma",
         "PASSAGEIRO",
         "GM",
         "10",
         "0.00",
         "0.00",
         null,
         null,
         null
        ],
        [
         "43",
         "3b6116d6cd61cf2",
         "2019-01-26 00:00:00",
         "C",
         "N",
         "N",
         "C",
         "SC",
         "SC",
         "282",
         "536",
         "CHAPECO",
         "59670",
         "Ultrapassar pela contramão linha de divisão de fluxos opostos, contínua amarela",
         "203 V",
         "2016-11-01 00:00:00",
         null,
         "Nenhuma",
         "PASSAGEIRO",
         "RENAULT",
         "16",
         "0.00",
         "0.00",
         null,
         null,
         null
        ],
        [
         "44",
         "4aefdcb308c0451",
         "2019-01-26 00:00:00",
         "C",
         "N",
         "N",
         "C",
         "SC",
         "SC",
         "282",
         "535",
         "CHAPECO",
         "59670",
         "Ultrapassar pela contramão linha de divisão de fluxos opostos, contínua amarela",
         "203 V",
         "2016-11-01 00:00:00",
         null,
         "Nenhuma",
         "PASSAGEIRO",
         "GM",
         "16",
         "0.00",
         "0.00",
         null,
         null,
         null
        ],
        [
         "45",
         "259b17ffa3afca6",
         "2019-01-26 00:00:00",
         "C",
         "N",
         "S",
         "C",
         "-1",
         "SC",
         "282",
         "536",
         "CHAPECO",
         "59670",
         "Ultrapassar pela contramão linha de divisão de fluxos opostos, contínua amarela",
         "203 V",
         "2016-11-01 00:00:00",
         null,
         "Nenhuma",
         "PASSAGEIRO",
         "GM",
         "17",
         "0.00",
         "0.00",
         null,
         null,
         null
        ],
        [
         "46",
         "c9ddb34544e1270",
         "2019-01-26 00:00:00",
         "C",
         "N",
         "N",
         "C",
         "SC",
         "SC",
         "282",
         "536",
         "CHAPECO",
         "59670",
         "Ultrapassar pela contramão linha de divisão de fluxos opostos, contínua amarela",
         "203 V",
         "2016-11-01 00:00:00",
         null,
         "Nenhuma",
         "PASSAGEIRO",
         "VW",
         "17",
         "0.00",
         "0.00",
         null,
         null,
         null
        ],
        [
         "47",
         "53e514f0bd42a26",
         "2019-01-26 00:00:00",
         "C",
         "N",
         "N",
         "C",
         "SC",
         "SC",
         "282",
         "536",
         "CHAPECO",
         "59670",
         "Ultrapassar pela contramão linha de divisão de fluxos opostos, contínua amarela",
         "203 V",
         "2016-11-01 00:00:00",
         null,
         "Nenhuma",
         "CARGA",
         "FIAT",
         "17",
         "0.00",
         "0.00",
         null,
         null,
         null
        ],
        [
         "48",
         "2dff59f4c297628",
         "2019-01-26 00:00:00",
         "C",
         "N",
         "N",
         "C",
         "SC",
         "SC",
         "282",
         "536",
         "CHAPECO",
         "59670",
         "Ultrapassar pela contramão linha de divisão de fluxos opostos, contínua amarela",
         "203 V",
         "2016-11-01 00:00:00",
         null,
         "Nenhuma",
         "PASSAGEIRO",
         "GM",
         "18",
         "0.00",
         "0.00",
         null,
         null,
         null
        ],
        [
         "49",
         "68482f172332079",
         "2019-01-26 00:00:00",
         "C",
         "N",
         "N",
         "C",
         "SC",
         "SC",
         "282",
         "536",
         "CHAPECO",
         "66450",
         "Conduzir o veículo com equip obrigatório em desacordo com o estab pelo Contran",
         "230 X",
         "2016-11-01 00:00:00",
         null,
         "Nenhuma",
         "PASSAGEIRO",
         "GM",
         "18",
         "0.00",
         "0.00",
         null,
         null,
         null
        ]
       ],
       "shape": {
        "columns": 25,
        "rows": 1000
       }
      },
      "text/html": [
       "<div>\n",
       "<style scoped>\n",
       "    .dataframe tbody tr th:only-of-type {\n",
       "        vertical-align: middle;\n",
       "    }\n",
       "\n",
       "    .dataframe tbody tr th {\n",
       "        vertical-align: top;\n",
       "    }\n",
       "\n",
       "    .dataframe thead th {\n",
       "        text-align: right;\n",
       "    }\n",
       "</style>\n",
       "<table border=\"1\" class=\"dataframe\">\n",
       "  <thead>\n",
       "    <tr style=\"text-align: right;\">\n",
       "      <th></th>\n",
       "      <th>Número do Auto</th>\n",
       "      <th>Data da Infração (DD/MM/AAAA)</th>\n",
       "      <th>Indicador de Abordagem</th>\n",
       "      <th>Assinatura do Auto</th>\n",
       "      <th>Indicador Veiculo Estrangeiro</th>\n",
       "      <th>Sentido Trafego</th>\n",
       "      <th>UF Placa</th>\n",
       "      <th>UF Infração</th>\n",
       "      <th>BR Infração</th>\n",
       "      <th>Km Infração</th>\n",
       "      <th>...</th>\n",
       "      <th>Fim Vigência Infração</th>\n",
       "      <th>Medição Infração</th>\n",
       "      <th>Descrição Especie Veículo</th>\n",
       "      <th>Descrição Marca Veículo</th>\n",
       "      <th>Hora Infração</th>\n",
       "      <th>Medição Considerada</th>\n",
       "      <th>Excesso Verificado</th>\n",
       "      <th>Qtd Infrações</th>\n",
       "      <th>Descrição Tipo Veículo</th>\n",
       "      <th>Descrição Modelo Veiculo</th>\n",
       "    </tr>\n",
       "  </thead>\n",
       "  <tbody>\n",
       "    <tr>\n",
       "      <th>0</th>\n",
       "      <td>5bcd39ea93ac463</td>\n",
       "      <td>2019-01-06</td>\n",
       "      <td>C</td>\n",
       "      <td>N</td>\n",
       "      <td>S</td>\n",
       "      <td>C</td>\n",
       "      <td>-1</td>\n",
       "      <td>PR</td>\n",
       "      <td>369</td>\n",
       "      <td>132</td>\n",
       "      <td>...</td>\n",
       "      <td>None</td>\n",
       "      <td>Nenhuma</td>\n",
       "      <td>PASSAGEIRO</td>\n",
       "      <td>FORD</td>\n",
       "      <td>18</td>\n",
       "      <td>0.00</td>\n",
       "      <td>0.00</td>\n",
       "      <td>None</td>\n",
       "      <td>None</td>\n",
       "      <td>None</td>\n",
       "    </tr>\n",
       "    <tr>\n",
       "      <th>1</th>\n",
       "      <td>e038e26abee1b3f</td>\n",
       "      <td>2019-01-20</td>\n",
       "      <td>C</td>\n",
       "      <td>N</td>\n",
       "      <td>N</td>\n",
       "      <td>D</td>\n",
       "      <td>-1</td>\n",
       "      <td>RJ</td>\n",
       "      <td>356</td>\n",
       "      <td>169</td>\n",
       "      <td>...</td>\n",
       "      <td>None</td>\n",
       "      <td>Nenhuma</td>\n",
       "      <td>PASSAGEIRO</td>\n",
       "      <td>OUTRA</td>\n",
       "      <td>16</td>\n",
       "      <td>0.00</td>\n",
       "      <td>0.00</td>\n",
       "      <td>None</td>\n",
       "      <td>None</td>\n",
       "      <td>None</td>\n",
       "    </tr>\n",
       "    <tr>\n",
       "      <th>2</th>\n",
       "      <td>e4881fa47a05ae9</td>\n",
       "      <td>2019-01-20</td>\n",
       "      <td>C</td>\n",
       "      <td>N</td>\n",
       "      <td>N</td>\n",
       "      <td>D</td>\n",
       "      <td>-1</td>\n",
       "      <td>RJ</td>\n",
       "      <td>356</td>\n",
       "      <td>169</td>\n",
       "      <td>...</td>\n",
       "      <td>None</td>\n",
       "      <td>Nenhuma</td>\n",
       "      <td>PASSAGEIRO</td>\n",
       "      <td>OUTRA</td>\n",
       "      <td>16</td>\n",
       "      <td>0.00</td>\n",
       "      <td>0.00</td>\n",
       "      <td>None</td>\n",
       "      <td>None</td>\n",
       "      <td>None</td>\n",
       "    </tr>\n",
       "    <tr>\n",
       "      <th>3</th>\n",
       "      <td>d6c91fa499ca5fd</td>\n",
       "      <td>2019-01-04</td>\n",
       "      <td>C</td>\n",
       "      <td>N</td>\n",
       "      <td>N</td>\n",
       "      <td>C</td>\n",
       "      <td>GO</td>\n",
       "      <td>GO</td>\n",
       "      <td>50</td>\n",
       "      <td>286</td>\n",
       "      <td>...</td>\n",
       "      <td>None</td>\n",
       "      <td>Nenhuma</td>\n",
       "      <td>MISTO</td>\n",
       "      <td>OUTRA</td>\n",
       "      <td>9</td>\n",
       "      <td>0.00</td>\n",
       "      <td>0.00</td>\n",
       "      <td>None</td>\n",
       "      <td>None</td>\n",
       "      <td>None</td>\n",
       "    </tr>\n",
       "    <tr>\n",
       "      <th>4</th>\n",
       "      <td>8af020201f2bebf</td>\n",
       "      <td>2019-01-04</td>\n",
       "      <td>C</td>\n",
       "      <td>N</td>\n",
       "      <td>N</td>\n",
       "      <td>D</td>\n",
       "      <td>RS</td>\n",
       "      <td>PR</td>\n",
       "      <td>116</td>\n",
       "      <td>98</td>\n",
       "      <td>...</td>\n",
       "      <td>None</td>\n",
       "      <td>Nenhuma</td>\n",
       "      <td>CARGA</td>\n",
       "      <td>MERCEDES BENZ</td>\n",
       "      <td>3</td>\n",
       "      <td>0.00</td>\n",
       "      <td>0.00</td>\n",
       "      <td>None</td>\n",
       "      <td>None</td>\n",
       "      <td>None</td>\n",
       "    </tr>\n",
       "    <tr>\n",
       "      <th>...</th>\n",
       "      <td>...</td>\n",
       "      <td>...</td>\n",
       "      <td>...</td>\n",
       "      <td>...</td>\n",
       "      <td>...</td>\n",
       "      <td>...</td>\n",
       "      <td>...</td>\n",
       "      <td>...</td>\n",
       "      <td>...</td>\n",
       "      <td>...</td>\n",
       "      <td>...</td>\n",
       "      <td>...</td>\n",
       "      <td>...</td>\n",
       "      <td>...</td>\n",
       "      <td>...</td>\n",
       "      <td>...</td>\n",
       "      <td>...</td>\n",
       "      <td>...</td>\n",
       "      <td>...</td>\n",
       "      <td>...</td>\n",
       "      <td>...</td>\n",
       "    </tr>\n",
       "    <tr>\n",
       "      <th>995</th>\n",
       "      <td>7f2f051c7d48d0b</td>\n",
       "      <td>2019-01-16</td>\n",
       "      <td>C</td>\n",
       "      <td>N</td>\n",
       "      <td>N</td>\n",
       "      <td>D</td>\n",
       "      <td>MG</td>\n",
       "      <td>MG</td>\n",
       "      <td>40</td>\n",
       "      <td>538</td>\n",
       "      <td>...</td>\n",
       "      <td>None</td>\n",
       "      <td>Nenhuma</td>\n",
       "      <td>CARGA</td>\n",
       "      <td>MERCEDES BENZ</td>\n",
       "      <td>18</td>\n",
       "      <td>0.00</td>\n",
       "      <td>0.00</td>\n",
       "      <td>None</td>\n",
       "      <td>None</td>\n",
       "      <td>None</td>\n",
       "    </tr>\n",
       "    <tr>\n",
       "      <th>996</th>\n",
       "      <td>5108680b70fe996</td>\n",
       "      <td>2019-01-19</td>\n",
       "      <td>S</td>\n",
       "      <td>N</td>\n",
       "      <td>N</td>\n",
       "      <td>C</td>\n",
       "      <td>MG</td>\n",
       "      <td>MG</td>\n",
       "      <td>381</td>\n",
       "      <td>467</td>\n",
       "      <td>...</td>\n",
       "      <td>None</td>\n",
       "      <td>Nenhuma</td>\n",
       "      <td>PASSAGEIRO</td>\n",
       "      <td>FIAT</td>\n",
       "      <td>16</td>\n",
       "      <td>0.00</td>\n",
       "      <td>0.00</td>\n",
       "      <td>None</td>\n",
       "      <td>None</td>\n",
       "      <td>None</td>\n",
       "    </tr>\n",
       "    <tr>\n",
       "      <th>997</th>\n",
       "      <td>5085cc86523bb47</td>\n",
       "      <td>2019-01-19</td>\n",
       "      <td>S</td>\n",
       "      <td>N</td>\n",
       "      <td>N</td>\n",
       "      <td>C</td>\n",
       "      <td>MG</td>\n",
       "      <td>MG</td>\n",
       "      <td>381</td>\n",
       "      <td>467</td>\n",
       "      <td>...</td>\n",
       "      <td>None</td>\n",
       "      <td>Nenhuma</td>\n",
       "      <td>PASSAGEIRO</td>\n",
       "      <td>HONDA</td>\n",
       "      <td>16</td>\n",
       "      <td>0.00</td>\n",
       "      <td>0.00</td>\n",
       "      <td>None</td>\n",
       "      <td>None</td>\n",
       "      <td>None</td>\n",
       "    </tr>\n",
       "    <tr>\n",
       "      <th>998</th>\n",
       "      <td>c9d423927272766</td>\n",
       "      <td>2019-01-24</td>\n",
       "      <td>C</td>\n",
       "      <td>N</td>\n",
       "      <td>N</td>\n",
       "      <td>C</td>\n",
       "      <td>MG</td>\n",
       "      <td>MG</td>\n",
       "      <td>381</td>\n",
       "      <td>473</td>\n",
       "      <td>...</td>\n",
       "      <td>None</td>\n",
       "      <td>Nenhuma</td>\n",
       "      <td>CARGA</td>\n",
       "      <td>MERCEDES BENZ</td>\n",
       "      <td>9</td>\n",
       "      <td>0.00</td>\n",
       "      <td>0.00</td>\n",
       "      <td>None</td>\n",
       "      <td>None</td>\n",
       "      <td>None</td>\n",
       "    </tr>\n",
       "    <tr>\n",
       "      <th>999</th>\n",
       "      <td>261712ce194ea5a</td>\n",
       "      <td>2019-01-24</td>\n",
       "      <td>C</td>\n",
       "      <td>N</td>\n",
       "      <td>N</td>\n",
       "      <td>C</td>\n",
       "      <td>MG</td>\n",
       "      <td>MG</td>\n",
       "      <td>381</td>\n",
       "      <td>473</td>\n",
       "      <td>...</td>\n",
       "      <td>None</td>\n",
       "      <td>Nenhuma</td>\n",
       "      <td>CARGA</td>\n",
       "      <td>MERCEDES BENZ</td>\n",
       "      <td>9</td>\n",
       "      <td>0.00</td>\n",
       "      <td>0.00</td>\n",
       "      <td>None</td>\n",
       "      <td>None</td>\n",
       "      <td>None</td>\n",
       "    </tr>\n",
       "  </tbody>\n",
       "</table>\n",
       "<p>1000 rows × 25 columns</p>\n",
       "</div>"
      ],
      "text/plain": [
       "      Número do Auto Data da Infração (DD/MM/AAAA) Indicador de Abordagem  \\\n",
       "0    5bcd39ea93ac463                    2019-01-06                      C   \n",
       "1    e038e26abee1b3f                    2019-01-20                      C   \n",
       "2    e4881fa47a05ae9                    2019-01-20                      C   \n",
       "3    d6c91fa499ca5fd                    2019-01-04                      C   \n",
       "4    8af020201f2bebf                    2019-01-04                      C   \n",
       "..               ...                           ...                    ...   \n",
       "995  7f2f051c7d48d0b                    2019-01-16                      C   \n",
       "996  5108680b70fe996                    2019-01-19                      S   \n",
       "997  5085cc86523bb47                    2019-01-19                      S   \n",
       "998  c9d423927272766                    2019-01-24                      C   \n",
       "999  261712ce194ea5a                    2019-01-24                      C   \n",
       "\n",
       "    Assinatura do Auto Indicador Veiculo Estrangeiro Sentido Trafego UF Placa  \\\n",
       "0                    N                             S               C       -1   \n",
       "1                    N                             N               D       -1   \n",
       "2                    N                             N               D       -1   \n",
       "3                    N                             N               C       GO   \n",
       "4                    N                             N               D       RS   \n",
       "..                 ...                           ...             ...      ...   \n",
       "995                  N                             N               D       MG   \n",
       "996                  N                             N               C       MG   \n",
       "997                  N                             N               C       MG   \n",
       "998                  N                             N               C       MG   \n",
       "999                  N                             N               C       MG   \n",
       "\n",
       "    UF Infração  BR Infração  Km Infração  ... Fim Vigência Infração  \\\n",
       "0            PR          369          132  ...                  None   \n",
       "1            RJ          356          169  ...                  None   \n",
       "2            RJ          356          169  ...                  None   \n",
       "3            GO           50          286  ...                  None   \n",
       "4            PR          116           98  ...                  None   \n",
       "..          ...          ...          ...  ...                   ...   \n",
       "995          MG           40          538  ...                  None   \n",
       "996          MG          381          467  ...                  None   \n",
       "997          MG          381          467  ...                  None   \n",
       "998          MG          381          473  ...                  None   \n",
       "999          MG          381          473  ...                  None   \n",
       "\n",
       "     Medição Infração Descrição Especie Veículo Descrição Marca Veículo  \\\n",
       "0             Nenhuma                PASSAGEIRO                    FORD   \n",
       "1             Nenhuma                PASSAGEIRO                   OUTRA   \n",
       "2             Nenhuma                PASSAGEIRO                   OUTRA   \n",
       "3             Nenhuma                     MISTO                   OUTRA   \n",
       "4             Nenhuma                     CARGA           MERCEDES BENZ   \n",
       "..                ...                       ...                     ...   \n",
       "995           Nenhuma                     CARGA           MERCEDES BENZ   \n",
       "996           Nenhuma                PASSAGEIRO                    FIAT   \n",
       "997           Nenhuma                PASSAGEIRO                   HONDA   \n",
       "998           Nenhuma                     CARGA           MERCEDES BENZ   \n",
       "999           Nenhuma                     CARGA           MERCEDES BENZ   \n",
       "\n",
       "    Hora Infração Medição Considerada Excesso Verificado Qtd Infrações  \\\n",
       "0              18                0.00               0.00          None   \n",
       "1              16                0.00               0.00          None   \n",
       "2              16                0.00               0.00          None   \n",
       "3               9                0.00               0.00          None   \n",
       "4               3                0.00               0.00          None   \n",
       "..            ...                 ...                ...           ...   \n",
       "995            18                0.00               0.00          None   \n",
       "996            16                0.00               0.00          None   \n",
       "997            16                0.00               0.00          None   \n",
       "998             9                0.00               0.00          None   \n",
       "999             9                0.00               0.00          None   \n",
       "\n",
       "    Descrição Tipo Veículo  Descrição Modelo Veiculo  \n",
       "0                     None                      None  \n",
       "1                     None                      None  \n",
       "2                     None                      None  \n",
       "3                     None                      None  \n",
       "4                     None                      None  \n",
       "..                     ...                       ...  \n",
       "995                   None                      None  \n",
       "996                   None                      None  \n",
       "997                   None                      None  \n",
       "998                   None                      None  \n",
       "999                   None                      None  \n",
       "\n",
       "[1000 rows x 25 columns]"
      ]
     },
     "execution_count": 25,
     "metadata": {},
     "output_type": "execute_result"
    }
   ],
   "source": [
    "con.execute(\"SELECT * FROM infracoes LIMIT 1000\").fetchdf()"
   ]
  },
  {
   "cell_type": "code",
   "execution_count": 26,
   "id": "cf6c4ba6",
   "metadata": {},
   "outputs": [
    {
     "data": {
      "application/vnd.microsoft.datawrangler.viewer.v0+json": {
       "columns": [
        {
         "name": "index",
         "rawType": "int64",
         "type": "integer"
        },
        {
         "name": "Indicador de Abordagem",
         "rawType": "object",
         "type": "string"
        },
        {
         "name": "total",
         "rawType": "int64",
         "type": "integer"
        }
       ],
       "ref": "37949dab-9ccc-4282-a8ef-988e27264051",
       "rows": [
        [
         "0",
         "S",
         "27883163"
        ],
        [
         "1",
         "C",
         "10818020"
        ]
       ],
       "shape": {
        "columns": 2,
        "rows": 2
       }
      },
      "text/html": [
       "<div>\n",
       "<style scoped>\n",
       "    .dataframe tbody tr th:only-of-type {\n",
       "        vertical-align: middle;\n",
       "    }\n",
       "\n",
       "    .dataframe tbody tr th {\n",
       "        vertical-align: top;\n",
       "    }\n",
       "\n",
       "    .dataframe thead th {\n",
       "        text-align: right;\n",
       "    }\n",
       "</style>\n",
       "<table border=\"1\" class=\"dataframe\">\n",
       "  <thead>\n",
       "    <tr style=\"text-align: right;\">\n",
       "      <th></th>\n",
       "      <th>Indicador de Abordagem</th>\n",
       "      <th>total</th>\n",
       "    </tr>\n",
       "  </thead>\n",
       "  <tbody>\n",
       "    <tr>\n",
       "      <th>0</th>\n",
       "      <td>S</td>\n",
       "      <td>27883163</td>\n",
       "    </tr>\n",
       "    <tr>\n",
       "      <th>1</th>\n",
       "      <td>C</td>\n",
       "      <td>10818020</td>\n",
       "    </tr>\n",
       "  </tbody>\n",
       "</table>\n",
       "</div>"
      ],
      "text/plain": [
       "  Indicador de Abordagem     total\n",
       "0                      S  27883163\n",
       "1                      C  10818020"
      ]
     },
     "execution_count": 26,
     "metadata": {},
     "output_type": "execute_result"
    }
   ],
   "source": [
    "# contanto valores de indicador de abordagem:\n",
    "query = \"\"\"\n",
    "SELECT \"Indicador de Abordagem\", COUNT(*) AS total\n",
    "FROM infracoes\n",
    "GROUP BY \"Indicador de Abordagem\"\n",
    "ORDER BY total DESC\n",
    "\"\"\"\n",
    "con.execute(query).fetchdf()"
   ]
  },
  {
   "cell_type": "code",
   "execution_count": 27,
   "id": "36dbd224",
   "metadata": {},
   "outputs": [
    {
     "data": {
      "application/vnd.microsoft.datawrangler.viewer.v0+json": {
       "columns": [
        {
         "name": "index",
         "rawType": "int64",
         "type": "integer"
        },
        {
         "name": "Assinatura do Auto",
         "rawType": "object",
         "type": "string"
        },
        {
         "name": "total",
         "rawType": "int64",
         "type": "integer"
        }
       ],
       "ref": "111cb710-354a-4d70-a460-70139d560990",
       "rows": [
        [
         "0",
         "N",
         "35193899"
        ],
        [
         "1",
         "N/I",
         "3492051"
        ],
        [
         "2",
         "S",
         "15233"
        ]
       ],
       "shape": {
        "columns": 2,
        "rows": 3
       }
      },
      "text/html": [
       "<div>\n",
       "<style scoped>\n",
       "    .dataframe tbody tr th:only-of-type {\n",
       "        vertical-align: middle;\n",
       "    }\n",
       "\n",
       "    .dataframe tbody tr th {\n",
       "        vertical-align: top;\n",
       "    }\n",
       "\n",
       "    .dataframe thead th {\n",
       "        text-align: right;\n",
       "    }\n",
       "</style>\n",
       "<table border=\"1\" class=\"dataframe\">\n",
       "  <thead>\n",
       "    <tr style=\"text-align: right;\">\n",
       "      <th></th>\n",
       "      <th>Assinatura do Auto</th>\n",
       "      <th>total</th>\n",
       "    </tr>\n",
       "  </thead>\n",
       "  <tbody>\n",
       "    <tr>\n",
       "      <th>0</th>\n",
       "      <td>N</td>\n",
       "      <td>35193899</td>\n",
       "    </tr>\n",
       "    <tr>\n",
       "      <th>1</th>\n",
       "      <td>N/I</td>\n",
       "      <td>3492051</td>\n",
       "    </tr>\n",
       "    <tr>\n",
       "      <th>2</th>\n",
       "      <td>S</td>\n",
       "      <td>15233</td>\n",
       "    </tr>\n",
       "  </tbody>\n",
       "</table>\n",
       "</div>"
      ],
      "text/plain": [
       "  Assinatura do Auto     total\n",
       "0                  N  35193899\n",
       "1                N/I   3492051\n",
       "2                  S     15233"
      ]
     },
     "execution_count": 27,
     "metadata": {},
     "output_type": "execute_result"
    }
   ],
   "source": [
    "# contanto valores de Assinatura do Auto:\n",
    "query = \"\"\"\n",
    "SELECT \"Assinatura do Auto\", COUNT(*) AS total\n",
    "FROM infracoes\n",
    "GROUP BY \"Assinatura do Auto\"\n",
    "ORDER BY total DESC\n",
    "\"\"\"\n",
    "con.execute(query).fetchdf()"
   ]
  },
  {
   "cell_type": "code",
   "execution_count": 28,
   "id": "08f7ce1c",
   "metadata": {},
   "outputs": [
    {
     "data": {
      "application/vnd.microsoft.datawrangler.viewer.v0+json": {
       "columns": [
        {
         "name": "index",
         "rawType": "int64",
         "type": "integer"
        },
        {
         "name": "Indicador Veiculo Estrangeiro",
         "rawType": "object",
         "type": "unknown"
        },
        {
         "name": "total",
         "rawType": "int64",
         "type": "integer"
        }
       ],
       "ref": "8d9e1d37-a010-41e0-9c69-f2874c16fb3b",
       "rows": [
        [
         "0",
         "N",
         "35016016"
        ],
        [
         "1",
         "BR",
         "3422498"
        ],
        [
         "2",
         "S",
         "187525"
        ],
        [
         "3",
         "99",
         "59171"
        ],
        [
         "4",
         "AR",
         "5338"
        ],
        [
         "5",
         "/",
         "4812"
        ],
        [
         "6",
         "PY",
         "4225"
        ],
        [
         "7",
         null,
         "744"
        ],
        [
         "8",
         "UY",
         "422"
        ],
        [
         "9",
         "BO",
         "397"
        ],
        [
         "10",
         "CL",
         "26"
        ],
        [
         "11",
         "VE",
         "3"
        ],
        [
         "12",
         "MX",
         "3"
        ],
        [
         "13",
         "GY",
         "3"
        ]
       ],
       "shape": {
        "columns": 2,
        "rows": 14
       }
      },
      "text/html": [
       "<div>\n",
       "<style scoped>\n",
       "    .dataframe tbody tr th:only-of-type {\n",
       "        vertical-align: middle;\n",
       "    }\n",
       "\n",
       "    .dataframe tbody tr th {\n",
       "        vertical-align: top;\n",
       "    }\n",
       "\n",
       "    .dataframe thead th {\n",
       "        text-align: right;\n",
       "    }\n",
       "</style>\n",
       "<table border=\"1\" class=\"dataframe\">\n",
       "  <thead>\n",
       "    <tr style=\"text-align: right;\">\n",
       "      <th></th>\n",
       "      <th>Indicador Veiculo Estrangeiro</th>\n",
       "      <th>total</th>\n",
       "    </tr>\n",
       "  </thead>\n",
       "  <tbody>\n",
       "    <tr>\n",
       "      <th>0</th>\n",
       "      <td>N</td>\n",
       "      <td>35016016</td>\n",
       "    </tr>\n",
       "    <tr>\n",
       "      <th>1</th>\n",
       "      <td>BR</td>\n",
       "      <td>3422498</td>\n",
       "    </tr>\n",
       "    <tr>\n",
       "      <th>2</th>\n",
       "      <td>S</td>\n",
       "      <td>187525</td>\n",
       "    </tr>\n",
       "    <tr>\n",
       "      <th>3</th>\n",
       "      <td>99</td>\n",
       "      <td>59171</td>\n",
       "    </tr>\n",
       "    <tr>\n",
       "      <th>4</th>\n",
       "      <td>AR</td>\n",
       "      <td>5338</td>\n",
       "    </tr>\n",
       "    <tr>\n",
       "      <th>5</th>\n",
       "      <td>/</td>\n",
       "      <td>4812</td>\n",
       "    </tr>\n",
       "    <tr>\n",
       "      <th>6</th>\n",
       "      <td>PY</td>\n",
       "      <td>4225</td>\n",
       "    </tr>\n",
       "    <tr>\n",
       "      <th>7</th>\n",
       "      <td>None</td>\n",
       "      <td>744</td>\n",
       "    </tr>\n",
       "    <tr>\n",
       "      <th>8</th>\n",
       "      <td>UY</td>\n",
       "      <td>422</td>\n",
       "    </tr>\n",
       "    <tr>\n",
       "      <th>9</th>\n",
       "      <td>BO</td>\n",
       "      <td>397</td>\n",
       "    </tr>\n",
       "    <tr>\n",
       "      <th>10</th>\n",
       "      <td>CL</td>\n",
       "      <td>26</td>\n",
       "    </tr>\n",
       "    <tr>\n",
       "      <th>11</th>\n",
       "      <td>VE</td>\n",
       "      <td>3</td>\n",
       "    </tr>\n",
       "    <tr>\n",
       "      <th>12</th>\n",
       "      <td>MX</td>\n",
       "      <td>3</td>\n",
       "    </tr>\n",
       "    <tr>\n",
       "      <th>13</th>\n",
       "      <td>GY</td>\n",
       "      <td>3</td>\n",
       "    </tr>\n",
       "  </tbody>\n",
       "</table>\n",
       "</div>"
      ],
      "text/plain": [
       "   Indicador Veiculo Estrangeiro     total\n",
       "0                              N  35016016\n",
       "1                             BR   3422498\n",
       "2                              S    187525\n",
       "3                             99     59171\n",
       "4                             AR      5338\n",
       "5                              /      4812\n",
       "6                             PY      4225\n",
       "7                           None       744\n",
       "8                             UY       422\n",
       "9                             BO       397\n",
       "10                            CL        26\n",
       "11                            VE         3\n",
       "12                            MX         3\n",
       "13                            GY         3"
      ]
     },
     "execution_count": 28,
     "metadata": {},
     "output_type": "execute_result"
    }
   ],
   "source": [
    "# contanto valores de Indicador Veiculo Estrangeiro:\n",
    "query = \"\"\"\n",
    "SELECT \"Indicador Veiculo Estrangeiro\", COUNT(*) AS total\n",
    "FROM infracoes\n",
    "GROUP BY \"Indicador Veiculo Estrangeiro\"\n",
    "ORDER BY total DESC\n",
    "\"\"\"\n",
    "con.execute(query).fetchdf()"
   ]
  },
  {
   "cell_type": "code",
   "execution_count": 31,
   "id": "a3461f64",
   "metadata": {},
   "outputs": [
    {
     "data": {
      "application/vnd.microsoft.datawrangler.viewer.v0+json": {
       "columns": [
        {
         "name": "index",
         "rawType": "int64",
         "type": "integer"
        },
        {
         "name": "Sentido Trafego",
         "rawType": "object",
         "type": "string"
        },
        {
         "name": "total",
         "rawType": "int64",
         "type": "integer"
        }
       ],
       "ref": "66eb34ea-17c8-445c-8657-6a695cc0f9f4",
       "rows": [
        [
         "0",
         "C",
         "19600558"
        ],
        [
         "1",
         "D",
         "19100612"
        ]
       ],
       "shape": {
        "columns": 2,
        "rows": 2
       }
      },
      "text/html": [
       "<div>\n",
       "<style scoped>\n",
       "    .dataframe tbody tr th:only-of-type {\n",
       "        vertical-align: middle;\n",
       "    }\n",
       "\n",
       "    .dataframe tbody tr th {\n",
       "        vertical-align: top;\n",
       "    }\n",
       "\n",
       "    .dataframe thead th {\n",
       "        text-align: right;\n",
       "    }\n",
       "</style>\n",
       "<table border=\"1\" class=\"dataframe\">\n",
       "  <thead>\n",
       "    <tr style=\"text-align: right;\">\n",
       "      <th></th>\n",
       "      <th>Sentido Trafego</th>\n",
       "      <th>total</th>\n",
       "    </tr>\n",
       "  </thead>\n",
       "  <tbody>\n",
       "    <tr>\n",
       "      <th>0</th>\n",
       "      <td>C</td>\n",
       "      <td>19600558</td>\n",
       "    </tr>\n",
       "    <tr>\n",
       "      <th>1</th>\n",
       "      <td>D</td>\n",
       "      <td>19100612</td>\n",
       "    </tr>\n",
       "  </tbody>\n",
       "</table>\n",
       "</div>"
      ],
      "text/plain": [
       "  Sentido Trafego     total\n",
       "0               C  19600558\n",
       "1               D  19100612"
      ]
     },
     "execution_count": 31,
     "metadata": {},
     "output_type": "execute_result"
    }
   ],
   "source": [
    "# contanto valores de Sentido Trafego:\n",
    "query = \"\"\"\n",
    "SELECT \"Sentido Trafego\", COUNT(*) AS total\n",
    "FROM infracoes\n",
    "GROUP BY \"Sentido Trafego\"\n",
    "ORDER BY total DESC\n",
    "\"\"\"\n",
    "con.execute(query).fetchdf()"
   ]
  },
  {
   "cell_type": "code",
   "execution_count": null,
   "id": "d090c7ba",
   "metadata": {},
   "outputs": [
    {
     "data": {
      "text/plain": [
       "<duckdb.duckdb.DuckDBPyConnection at 0x1b6fdfd7170>"
      ]
     },
     "execution_count": 30,
     "metadata": {},
     "output_type": "execute_result"
    }
   ],
   "source": [
    "# retirar valores com \"/\"\" de Sentido Trafego\n",
    "con.execute(\"\"\"\n",
    "CREATE OR REPLACE TABLE infracoes AS\n",
    "SELECT *\n",
    "FROM infracoes\n",
    "WHERE \"Sentido Trafego\" IS NOT NULL\n",
    "  AND \"Sentido Trafego\" != '/'\n",
    "\"\"\")"
   ]
  },
  {
   "cell_type": "code",
   "execution_count": 10,
   "id": "ba567df6",
   "metadata": {},
   "outputs": [
    {
     "data": {
      "application/vnd.microsoft.datawrangler.viewer.v0+json": {
       "columns": [
        {
         "name": "index",
         "rawType": "int64",
         "type": "integer"
        },
        {
         "name": "UF Placa",
         "rawType": "object",
         "type": "unknown"
        },
        {
         "name": "total",
         "rawType": "int64",
         "type": "integer"
        }
       ],
       "ref": "35053533-9507-467a-9a16-c6813e6fc5be",
       "rows": [
        [
         "0",
         null,
         "9940077"
        ],
        [
         "1",
         "RJ",
         "3442176"
        ],
        [
         "2",
         "MG",
         "3224394"
        ],
        [
         "3",
         "SP",
         "3104724"
        ],
        [
         "4",
         "'-1",
         "2553720"
        ],
        [
         "5",
         "SC",
         "2041718"
        ],
        [
         "6",
         "PR",
         "1859439"
        ],
        [
         "7",
         "RS",
         "1617518"
        ],
        [
         "8",
         "ES",
         "1535850"
        ],
        [
         "9",
         "-1",
         "1353320"
        ],
        [
         "10",
         "BA",
         "1296539"
        ],
        [
         "11",
         "MT",
         "1112622"
        ],
        [
         "12",
         "GO",
         "921533"
        ],
        [
         "13",
         "DF",
         "628677"
        ],
        [
         "14",
         "MS",
         "599900"
        ],
        [
         "15",
         "CE",
         "497294"
        ],
        [
         "16",
         "PE",
         "460794"
        ],
        [
         "17",
         "RO",
         "318992"
        ],
        [
         "18",
         "RN",
         "309064"
        ],
        [
         "19",
         "PA",
         "304628"
        ],
        [
         "20",
         "PB",
         "280256"
        ],
        [
         "21",
         "MA",
         "266739"
        ],
        [
         "22",
         "PI",
         "242696"
        ],
        [
         "23",
         "SE",
         "164329"
        ],
        [
         "24",
         "TO",
         "149270"
        ],
        [
         "25",
         "AL",
         "132890"
        ],
        [
         "26",
         "AM",
         "85039"
        ],
        [
         "27",
         "N/I",
         "71335"
        ],
        [
         "28",
         "AP",
         "62389"
        ],
        [
         "29",
         "RR",
         "50918"
        ],
        [
         "30",
         "AC",
         "47811"
        ],
        [
         "31",
         "9B",
         "10449"
        ],
        [
         "32",
         "/",
         "4812"
        ],
        [
         "33",
         "9C",
         "3605"
        ],
        [
         "34",
         "93",
         "1394"
        ],
        [
         "35",
         "95",
         "1008"
        ],
        [
         "36",
         "8A",
         "956"
        ],
        [
         "37",
         "99",
         "413"
        ],
        [
         "38",
         "9A",
         "328"
        ],
        [
         "39",
         "00",
         "310"
        ],
        [
         "40",
         "98",
         "308"
        ],
        [
         "41",
         "34",
         "172"
        ],
        [
         "42",
         "94",
         "167"
        ],
        [
         "43",
         "02",
         "94"
        ],
        [
         "44",
         "65",
         "94"
        ],
        [
         "45",
         "3N",
         "53"
        ],
        [
         "46",
         "3V",
         "45"
        ],
        [
         "47",
         "9E",
         "44"
        ],
        [
         "48",
         "3C",
         "36"
        ],
        [
         "49",
         "3F",
         "28"
        ]
       ],
       "shape": {
        "columns": 2,
        "rows": 97
       }
      },
      "text/html": [
       "<div>\n",
       "<style scoped>\n",
       "    .dataframe tbody tr th:only-of-type {\n",
       "        vertical-align: middle;\n",
       "    }\n",
       "\n",
       "    .dataframe tbody tr th {\n",
       "        vertical-align: top;\n",
       "    }\n",
       "\n",
       "    .dataframe thead th {\n",
       "        text-align: right;\n",
       "    }\n",
       "</style>\n",
       "<table border=\"1\" class=\"dataframe\">\n",
       "  <thead>\n",
       "    <tr style=\"text-align: right;\">\n",
       "      <th></th>\n",
       "      <th>UF Placa</th>\n",
       "      <th>total</th>\n",
       "    </tr>\n",
       "  </thead>\n",
       "  <tbody>\n",
       "    <tr>\n",
       "      <th>0</th>\n",
       "      <td>None</td>\n",
       "      <td>9940077</td>\n",
       "    </tr>\n",
       "    <tr>\n",
       "      <th>1</th>\n",
       "      <td>RJ</td>\n",
       "      <td>3442176</td>\n",
       "    </tr>\n",
       "    <tr>\n",
       "      <th>2</th>\n",
       "      <td>MG</td>\n",
       "      <td>3224394</td>\n",
       "    </tr>\n",
       "    <tr>\n",
       "      <th>3</th>\n",
       "      <td>SP</td>\n",
       "      <td>3104724</td>\n",
       "    </tr>\n",
       "    <tr>\n",
       "      <th>4</th>\n",
       "      <td>'-1</td>\n",
       "      <td>2553720</td>\n",
       "    </tr>\n",
       "    <tr>\n",
       "      <th>...</th>\n",
       "      <td>...</td>\n",
       "      <td>...</td>\n",
       "    </tr>\n",
       "    <tr>\n",
       "      <th>92</th>\n",
       "      <td>61</td>\n",
       "      <td>1</td>\n",
       "    </tr>\n",
       "    <tr>\n",
       "      <th>93</th>\n",
       "      <td>26</td>\n",
       "      <td>1</td>\n",
       "    </tr>\n",
       "    <tr>\n",
       "      <th>94</th>\n",
       "      <td>LH</td>\n",
       "      <td>1</td>\n",
       "    </tr>\n",
       "    <tr>\n",
       "      <th>95</th>\n",
       "      <td>3D</td>\n",
       "      <td>1</td>\n",
       "    </tr>\n",
       "    <tr>\n",
       "      <th>96</th>\n",
       "      <td>LL</td>\n",
       "      <td>1</td>\n",
       "    </tr>\n",
       "  </tbody>\n",
       "</table>\n",
       "<p>97 rows × 2 columns</p>\n",
       "</div>"
      ],
      "text/plain": [
       "   UF Placa    total\n",
       "0      None  9940077\n",
       "1        RJ  3442176\n",
       "2        MG  3224394\n",
       "3        SP  3104724\n",
       "4       '-1  2553720\n",
       "..      ...      ...\n",
       "92       61        1\n",
       "93       26        1\n",
       "94       LH        1\n",
       "95       3D        1\n",
       "96       LL        1\n",
       "\n",
       "[97 rows x 2 columns]"
      ]
     },
     "execution_count": 10,
     "metadata": {},
     "output_type": "execute_result"
    }
   ],
   "source": [
    "# contanto valores de UF Placa:\n",
    "query = \"\"\"\n",
    "SELECT \"UF Placa\", COUNT(*) AS total\n",
    "FROM infracoes\n",
    "GROUP BY \"UF Placa\"\n",
    "ORDER BY total DESC\n",
    "\"\"\"\n",
    "con.execute(query).fetchdf()"
   ]
  },
  {
   "cell_type": "code",
   "execution_count": 11,
   "id": "085f2cd0",
   "metadata": {},
   "outputs": [
    {
     "data": {
      "application/vnd.microsoft.datawrangler.viewer.v0+json": {
       "columns": [
        {
         "name": "index",
         "rawType": "int64",
         "type": "integer"
        },
        {
         "name": "UF Infração",
         "rawType": "object",
         "type": "string"
        },
        {
         "name": "total",
         "rawType": "int64",
         "type": "integer"
        }
       ],
       "ref": "d7d210cd-4370-47b0-a55d-b325fb0141ef",
       "rows": [
        [
         "0",
         "RJ",
         "6307476"
        ],
        [
         "1",
         "MG",
         "4242883"
        ],
        [
         "2",
         "SP",
         "4154427"
        ],
        [
         "3",
         "BA",
         "2734949"
        ],
        [
         "4",
         "SC",
         "2570493"
        ],
        [
         "5",
         "PR",
         "2369910"
        ],
        [
         "6",
         "ES",
         "2167100"
        ],
        [
         "7",
         "RS",
         "2013849"
        ],
        [
         "8",
         "MS",
         "1930532"
        ],
        [
         "9",
         "GO",
         "1813596"
        ],
        [
         "10",
         "MT",
         "1776497"
        ],
        [
         "11",
         "PE",
         "843294"
        ],
        [
         "12",
         "CE",
         "822110"
        ],
        [
         "13",
         "DF",
         "736113"
        ],
        [
         "14",
         "RN",
         "565962"
        ],
        [
         "15",
         "RO",
         "550872"
        ],
        [
         "16",
         "PB",
         "542232"
        ],
        [
         "17",
         "PI",
         "540321"
        ],
        [
         "18",
         "PA",
         "500183"
        ],
        [
         "19",
         "MA",
         "428178"
        ],
        [
         "20",
         "TO",
         "259215"
        ],
        [
         "21",
         "AL",
         "249773"
        ],
        [
         "22",
         "SE",
         "227463"
        ],
        [
         "23",
         "AM",
         "115602"
        ],
        [
         "24",
         "AP",
         "92704"
        ],
        [
         "25",
         "RR",
         "84947"
        ],
        [
         "26",
         "AC",
         "60502"
        ]
       ],
       "shape": {
        "columns": 2,
        "rows": 27
       }
      },
      "text/html": [
       "<div>\n",
       "<style scoped>\n",
       "    .dataframe tbody tr th:only-of-type {\n",
       "        vertical-align: middle;\n",
       "    }\n",
       "\n",
       "    .dataframe tbody tr th {\n",
       "        vertical-align: top;\n",
       "    }\n",
       "\n",
       "    .dataframe thead th {\n",
       "        text-align: right;\n",
       "    }\n",
       "</style>\n",
       "<table border=\"1\" class=\"dataframe\">\n",
       "  <thead>\n",
       "    <tr style=\"text-align: right;\">\n",
       "      <th></th>\n",
       "      <th>UF Infração</th>\n",
       "      <th>total</th>\n",
       "    </tr>\n",
       "  </thead>\n",
       "  <tbody>\n",
       "    <tr>\n",
       "      <th>0</th>\n",
       "      <td>RJ</td>\n",
       "      <td>6307476</td>\n",
       "    </tr>\n",
       "    <tr>\n",
       "      <th>1</th>\n",
       "      <td>MG</td>\n",
       "      <td>4242883</td>\n",
       "    </tr>\n",
       "    <tr>\n",
       "      <th>2</th>\n",
       "      <td>SP</td>\n",
       "      <td>4154427</td>\n",
       "    </tr>\n",
       "    <tr>\n",
       "      <th>3</th>\n",
       "      <td>BA</td>\n",
       "      <td>2734949</td>\n",
       "    </tr>\n",
       "    <tr>\n",
       "      <th>4</th>\n",
       "      <td>SC</td>\n",
       "      <td>2570493</td>\n",
       "    </tr>\n",
       "    <tr>\n",
       "      <th>5</th>\n",
       "      <td>PR</td>\n",
       "      <td>2369910</td>\n",
       "    </tr>\n",
       "    <tr>\n",
       "      <th>6</th>\n",
       "      <td>ES</td>\n",
       "      <td>2167100</td>\n",
       "    </tr>\n",
       "    <tr>\n",
       "      <th>7</th>\n",
       "      <td>RS</td>\n",
       "      <td>2013849</td>\n",
       "    </tr>\n",
       "    <tr>\n",
       "      <th>8</th>\n",
       "      <td>MS</td>\n",
       "      <td>1930532</td>\n",
       "    </tr>\n",
       "    <tr>\n",
       "      <th>9</th>\n",
       "      <td>GO</td>\n",
       "      <td>1813596</td>\n",
       "    </tr>\n",
       "    <tr>\n",
       "      <th>10</th>\n",
       "      <td>MT</td>\n",
       "      <td>1776497</td>\n",
       "    </tr>\n",
       "    <tr>\n",
       "      <th>11</th>\n",
       "      <td>PE</td>\n",
       "      <td>843294</td>\n",
       "    </tr>\n",
       "    <tr>\n",
       "      <th>12</th>\n",
       "      <td>CE</td>\n",
       "      <td>822110</td>\n",
       "    </tr>\n",
       "    <tr>\n",
       "      <th>13</th>\n",
       "      <td>DF</td>\n",
       "      <td>736113</td>\n",
       "    </tr>\n",
       "    <tr>\n",
       "      <th>14</th>\n",
       "      <td>RN</td>\n",
       "      <td>565962</td>\n",
       "    </tr>\n",
       "    <tr>\n",
       "      <th>15</th>\n",
       "      <td>RO</td>\n",
       "      <td>550872</td>\n",
       "    </tr>\n",
       "    <tr>\n",
       "      <th>16</th>\n",
       "      <td>PB</td>\n",
       "      <td>542232</td>\n",
       "    </tr>\n",
       "    <tr>\n",
       "      <th>17</th>\n",
       "      <td>PI</td>\n",
       "      <td>540321</td>\n",
       "    </tr>\n",
       "    <tr>\n",
       "      <th>18</th>\n",
       "      <td>PA</td>\n",
       "      <td>500183</td>\n",
       "    </tr>\n",
       "    <tr>\n",
       "      <th>19</th>\n",
       "      <td>MA</td>\n",
       "      <td>428178</td>\n",
       "    </tr>\n",
       "    <tr>\n",
       "      <th>20</th>\n",
       "      <td>TO</td>\n",
       "      <td>259215</td>\n",
       "    </tr>\n",
       "    <tr>\n",
       "      <th>21</th>\n",
       "      <td>AL</td>\n",
       "      <td>249773</td>\n",
       "    </tr>\n",
       "    <tr>\n",
       "      <th>22</th>\n",
       "      <td>SE</td>\n",
       "      <td>227463</td>\n",
       "    </tr>\n",
       "    <tr>\n",
       "      <th>23</th>\n",
       "      <td>AM</td>\n",
       "      <td>115602</td>\n",
       "    </tr>\n",
       "    <tr>\n",
       "      <th>24</th>\n",
       "      <td>AP</td>\n",
       "      <td>92704</td>\n",
       "    </tr>\n",
       "    <tr>\n",
       "      <th>25</th>\n",
       "      <td>RR</td>\n",
       "      <td>84947</td>\n",
       "    </tr>\n",
       "    <tr>\n",
       "      <th>26</th>\n",
       "      <td>AC</td>\n",
       "      <td>60502</td>\n",
       "    </tr>\n",
       "  </tbody>\n",
       "</table>\n",
       "</div>"
      ],
      "text/plain": [
       "   UF Infração    total\n",
       "0           RJ  6307476\n",
       "1           MG  4242883\n",
       "2           SP  4154427\n",
       "3           BA  2734949\n",
       "4           SC  2570493\n",
       "5           PR  2369910\n",
       "6           ES  2167100\n",
       "7           RS  2013849\n",
       "8           MS  1930532\n",
       "9           GO  1813596\n",
       "10          MT  1776497\n",
       "11          PE   843294\n",
       "12          CE   822110\n",
       "13          DF   736113\n",
       "14          RN   565962\n",
       "15          RO   550872\n",
       "16          PB   542232\n",
       "17          PI   540321\n",
       "18          PA   500183\n",
       "19          MA   428178\n",
       "20          TO   259215\n",
       "21          AL   249773\n",
       "22          SE   227463\n",
       "23          AM   115602\n",
       "24          AP    92704\n",
       "25          RR    84947\n",
       "26          AC    60502"
      ]
     },
     "execution_count": 11,
     "metadata": {},
     "output_type": "execute_result"
    }
   ],
   "source": [
    "# contanto valores de UF Placa:\n",
    "query = \"\"\"\n",
    "SELECT \"UF Infração\", COUNT(*) AS total\n",
    "FROM infracoes\n",
    "GROUP BY \"UF Infração\"\n",
    "ORDER BY total DESC\n",
    "\"\"\"\n",
    "con.execute(query).fetchdf()"
   ]
  },
  {
   "cell_type": "code",
   "execution_count": 12,
   "id": "58a1bcb7",
   "metadata": {},
   "outputs": [
    {
     "data": {
      "application/vnd.microsoft.datawrangler.viewer.v0+json": {
       "columns": [
        {
         "name": "index",
         "rawType": "int64",
         "type": "integer"
        },
        {
         "name": "BR Infração",
         "rawType": "int64",
         "type": "integer"
        },
        {
         "name": "total",
         "rawType": "int64",
         "type": "integer"
        }
       ],
       "ref": "b2d08e4b-5fd5-497f-bf14-2f6c48e4d5fb",
       "rows": [
        [
         "0",
         "101",
         "8912055"
        ],
        [
         "1",
         "116",
         "7543079"
        ],
        [
         "2",
         "40",
         "2382227"
        ],
        [
         "3",
         "163",
         "2370547"
        ],
        [
         "4",
         "381",
         "1602921"
        ],
        [
         "5",
         "153",
         "1465683"
        ],
        [
         "6",
         "364",
         "1266888"
        ],
        [
         "7",
         "324",
         "1080848"
        ],
        [
         "8",
         "316",
         "672762"
        ],
        [
         "9",
         "277",
         "668622"
        ],
        [
         "10",
         "376",
         "641426"
        ],
        [
         "11",
         "230",
         "570929"
        ],
        [
         "12",
         "60",
         "545141"
        ],
        [
         "13",
         "386",
         "496371"
        ],
        [
         "14",
         "290",
         "437992"
        ],
        [
         "15",
         "262",
         "405770"
        ],
        [
         "16",
         "70",
         "388691"
        ],
        [
         "17",
         "50",
         "371553"
        ],
        [
         "18",
         "365",
         "297500"
        ],
        [
         "19",
         "222",
         "267787"
        ],
        [
         "20",
         "470",
         "265692"
        ],
        [
         "21",
         "20",
         "261458"
        ],
        [
         "22",
         "232",
         "255862"
        ],
        [
         "23",
         "393",
         "253333"
        ],
        [
         "24",
         "343",
         "244320"
        ],
        [
         "25",
         "282",
         "232634"
        ],
        [
         "26",
         "369",
         "228246"
        ],
        [
         "27",
         "158",
         "223434"
        ],
        [
         "28",
         "174",
         "216079"
        ],
        [
         "29",
         "465",
         "212541"
        ],
        [
         "30",
         "10",
         "197511"
        ],
        [
         "31",
         "104",
         "186396"
        ],
        [
         "32",
         "304",
         "186389"
        ],
        [
         "33",
         "135",
         "169355"
        ],
        [
         "34",
         "267",
         "167936"
        ],
        [
         "35",
         "285",
         "162629"
        ],
        [
         "36",
         "265",
         "148262"
        ],
        [
         "37",
         "242",
         "142431"
        ],
        [
         "38",
         "493",
         "138380"
        ],
        [
         "39",
         "226",
         "122656"
        ],
        [
         "40",
         "110",
         "121472"
        ],
        [
         "41",
         "280",
         "121076"
        ],
        [
         "42",
         "356",
         "109160"
        ],
        [
         "43",
         "476",
         "106761"
        ],
        [
         "44",
         "235",
         "101438"
        ],
        [
         "45",
         "407",
         "97241"
        ],
        [
         "46",
         "251",
         "79825"
        ],
        [
         "47",
         "319",
         "75764"
        ],
        [
         "48",
         "354",
         "74206"
        ],
        [
         "49",
         "210",
         "73059"
        ]
       ],
       "shape": {
        "columns": 2,
        "rows": 140
       }
      },
      "text/html": [
       "<div>\n",
       "<style scoped>\n",
       "    .dataframe tbody tr th:only-of-type {\n",
       "        vertical-align: middle;\n",
       "    }\n",
       "\n",
       "    .dataframe tbody tr th {\n",
       "        vertical-align: top;\n",
       "    }\n",
       "\n",
       "    .dataframe thead th {\n",
       "        text-align: right;\n",
       "    }\n",
       "</style>\n",
       "<table border=\"1\" class=\"dataframe\">\n",
       "  <thead>\n",
       "    <tr style=\"text-align: right;\">\n",
       "      <th></th>\n",
       "      <th>BR Infração</th>\n",
       "      <th>total</th>\n",
       "    </tr>\n",
       "  </thead>\n",
       "  <tbody>\n",
       "    <tr>\n",
       "      <th>0</th>\n",
       "      <td>101</td>\n",
       "      <td>8912055</td>\n",
       "    </tr>\n",
       "    <tr>\n",
       "      <th>1</th>\n",
       "      <td>116</td>\n",
       "      <td>7543079</td>\n",
       "    </tr>\n",
       "    <tr>\n",
       "      <th>2</th>\n",
       "      <td>40</td>\n",
       "      <td>2382227</td>\n",
       "    </tr>\n",
       "    <tr>\n",
       "      <th>3</th>\n",
       "      <td>163</td>\n",
       "      <td>2370547</td>\n",
       "    </tr>\n",
       "    <tr>\n",
       "      <th>4</th>\n",
       "      <td>381</td>\n",
       "      <td>1602921</td>\n",
       "    </tr>\n",
       "    <tr>\n",
       "      <th>...</th>\n",
       "      <td>...</td>\n",
       "      <td>...</td>\n",
       "    </tr>\n",
       "    <tr>\n",
       "      <th>135</th>\n",
       "      <td>498</td>\n",
       "      <td>2</td>\n",
       "    </tr>\n",
       "    <tr>\n",
       "      <th>136</th>\n",
       "      <td>377</td>\n",
       "      <td>1</td>\n",
       "    </tr>\n",
       "    <tr>\n",
       "      <th>137</th>\n",
       "      <td>404</td>\n",
       "      <td>1</td>\n",
       "    </tr>\n",
       "    <tr>\n",
       "      <th>138</th>\n",
       "      <td>610</td>\n",
       "      <td>1</td>\n",
       "    </tr>\n",
       "    <tr>\n",
       "      <th>139</th>\n",
       "      <td>640</td>\n",
       "      <td>1</td>\n",
       "    </tr>\n",
       "  </tbody>\n",
       "</table>\n",
       "<p>140 rows × 2 columns</p>\n",
       "</div>"
      ],
      "text/plain": [
       "     BR Infração    total\n",
       "0            101  8912055\n",
       "1            116  7543079\n",
       "2             40  2382227\n",
       "3            163  2370547\n",
       "4            381  1602921\n",
       "..           ...      ...\n",
       "135          498        2\n",
       "136          377        1\n",
       "137          404        1\n",
       "138          610        1\n",
       "139          640        1\n",
       "\n",
       "[140 rows x 2 columns]"
      ]
     },
     "execution_count": 12,
     "metadata": {},
     "output_type": "execute_result"
    }
   ],
   "source": [
    "# contanto valores de BR Infração:\n",
    "query = \"\"\"\n",
    "SELECT \"BR Infração\", COUNT(*) AS total\n",
    "FROM infracoes\n",
    "GROUP BY \"BR Infração\"\n",
    "ORDER BY total DESC\n",
    "\"\"\"\n",
    "con.execute(query).fetchdf()"
   ]
  },
  {
   "cell_type": "code",
   "execution_count": 13,
   "id": "48b22ed8",
   "metadata": {},
   "outputs": [
    {
     "data": {
      "application/vnd.microsoft.datawrangler.viewer.v0+json": {
       "columns": [
        {
         "name": "index",
         "rawType": "int64",
         "type": "integer"
        },
        {
         "name": "Km Infração",
         "rawType": "int64",
         "type": "integer"
        },
        {
         "name": "total",
         "rawType": "int64",
         "type": "integer"
        }
       ],
       "ref": "f624e2b2-37e6-4004-91cc-29ad9355cdf1",
       "rows": [
        [
         "0",
         "1",
         "480663"
        ],
        [
         "1",
         "329",
         "449180"
        ],
        [
         "2",
         "2",
         "431796"
        ],
        [
         "3",
         "323",
         "393569"
        ],
        [
         "4",
         "332",
         "342580"
        ],
        [
         "5",
         "70",
         "328743"
        ],
        [
         "6",
         "4",
         "317915"
        ],
        [
         "7",
         "305",
         "315829"
        ],
        [
         "8",
         "298",
         "309464"
        ],
        [
         "9",
         "327",
         "286415"
        ],
        [
         "10",
         "415",
         "264116"
        ],
        [
         "11",
         "325",
         "243981"
        ],
        [
         "12",
         "909",
         "241870"
        ],
        [
         "13",
         "5",
         "221958"
        ],
        [
         "14",
         "40",
         "219606"
        ],
        [
         "15",
         "11",
         "215408"
        ],
        [
         "16",
         "28",
         "202303"
        ],
        [
         "17",
         "204",
         "196382"
        ],
        [
         "18",
         "270",
         "176542"
        ],
        [
         "19",
         "412",
         "172545"
        ],
        [
         "20",
         "363",
         "171898"
        ],
        [
         "21",
         "33",
         "168148"
        ],
        [
         "22",
         "527",
         "166260"
        ],
        [
         "23",
         "130",
         "164356"
        ],
        [
         "24",
         "78",
         "157687"
        ],
        [
         "25",
         "19",
         "152708"
        ],
        [
         "26",
         "65",
         "152672"
        ],
        [
         "27",
         "98",
         "152596"
        ],
        [
         "28",
         "299",
         "151001"
        ],
        [
         "29",
         "48",
         "148473"
        ],
        [
         "30",
         "80",
         "147788"
        ],
        [
         "31",
         "356",
         "142804"
        ],
        [
         "32",
         "227",
         "142451"
        ],
        [
         "33",
         "10",
         "141265"
        ],
        [
         "34",
         "559",
         "138457"
        ],
        [
         "35",
         "491",
         "138046"
        ],
        [
         "36",
         "269",
         "137936"
        ],
        [
         "37",
         "244",
         "136071"
        ],
        [
         "38",
         "27",
         "134824"
        ],
        [
         "39",
         "322",
         "134474"
        ],
        [
         "40",
         "619",
         "133583"
        ],
        [
         "41",
         "536",
         "133350"
        ],
        [
         "42",
         "233",
         "129888"
        ],
        [
         "43",
         "534",
         "129262"
        ],
        [
         "44",
         "92",
         "127449"
        ],
        [
         "45",
         "15",
         "127319"
        ],
        [
         "46",
         "182",
         "126118"
        ],
        [
         "47",
         "54",
         "126091"
        ],
        [
         "48",
         "203",
         "125346"
        ],
        [
         "49",
         "523",
         "125106"
        ]
       ],
       "shape": {
        "columns": 2,
        "rows": 1283
       }
      },
      "text/html": [
       "<div>\n",
       "<style scoped>\n",
       "    .dataframe tbody tr th:only-of-type {\n",
       "        vertical-align: middle;\n",
       "    }\n",
       "\n",
       "    .dataframe tbody tr th {\n",
       "        vertical-align: top;\n",
       "    }\n",
       "\n",
       "    .dataframe thead th {\n",
       "        text-align: right;\n",
       "    }\n",
       "</style>\n",
       "<table border=\"1\" class=\"dataframe\">\n",
       "  <thead>\n",
       "    <tr style=\"text-align: right;\">\n",
       "      <th></th>\n",
       "      <th>Km Infração</th>\n",
       "      <th>total</th>\n",
       "    </tr>\n",
       "  </thead>\n",
       "  <tbody>\n",
       "    <tr>\n",
       "      <th>0</th>\n",
       "      <td>1</td>\n",
       "      <td>480663</td>\n",
       "    </tr>\n",
       "    <tr>\n",
       "      <th>1</th>\n",
       "      <td>329</td>\n",
       "      <td>449180</td>\n",
       "    </tr>\n",
       "    <tr>\n",
       "      <th>2</th>\n",
       "      <td>2</td>\n",
       "      <td>431796</td>\n",
       "    </tr>\n",
       "    <tr>\n",
       "      <th>3</th>\n",
       "      <td>323</td>\n",
       "      <td>393569</td>\n",
       "    </tr>\n",
       "    <tr>\n",
       "      <th>4</th>\n",
       "      <td>332</td>\n",
       "      <td>342580</td>\n",
       "    </tr>\n",
       "    <tr>\n",
       "      <th>...</th>\n",
       "      <td>...</td>\n",
       "      <td>...</td>\n",
       "    </tr>\n",
       "    <tr>\n",
       "      <th>1278</th>\n",
       "      <td>1264</td>\n",
       "      <td>1</td>\n",
       "    </tr>\n",
       "    <tr>\n",
       "      <th>1279</th>\n",
       "      <td>1492</td>\n",
       "      <td>1</td>\n",
       "    </tr>\n",
       "    <tr>\n",
       "      <th>1280</th>\n",
       "      <td>6074</td>\n",
       "      <td>1</td>\n",
       "    </tr>\n",
       "    <tr>\n",
       "      <th>1281</th>\n",
       "      <td>5986</td>\n",
       "      <td>1</td>\n",
       "    </tr>\n",
       "    <tr>\n",
       "      <th>1282</th>\n",
       "      <td>7869</td>\n",
       "      <td>1</td>\n",
       "    </tr>\n",
       "  </tbody>\n",
       "</table>\n",
       "<p>1283 rows × 2 columns</p>\n",
       "</div>"
      ],
      "text/plain": [
       "      Km Infração   total\n",
       "0               1  480663\n",
       "1             329  449180\n",
       "2               2  431796\n",
       "3             323  393569\n",
       "4             332  342580\n",
       "...           ...     ...\n",
       "1278         1264       1\n",
       "1279         1492       1\n",
       "1280         6074       1\n",
       "1281         5986       1\n",
       "1282         7869       1\n",
       "\n",
       "[1283 rows x 2 columns]"
      ]
     },
     "execution_count": 13,
     "metadata": {},
     "output_type": "execute_result"
    }
   ],
   "source": [
    "# contanto valores de Km Infração:\n",
    "query = \"\"\"\n",
    "SELECT \"Km Infração\", COUNT(*) AS total\n",
    "FROM infracoes\n",
    "GROUP BY \"Km Infração\"\n",
    "ORDER BY total DESC\n",
    "\"\"\"\n",
    "con.execute(query).fetchdf()"
   ]
  },
  {
   "cell_type": "code",
   "execution_count": 14,
   "id": "cc4f4ede",
   "metadata": {},
   "outputs": [
    {
     "data": {
      "application/vnd.microsoft.datawrangler.viewer.v0+json": {
       "columns": [
        {
         "name": "index",
         "rawType": "int64",
         "type": "integer"
        },
        {
         "name": "Código da Infração",
         "rawType": "int64",
         "type": "integer"
        },
        {
         "name": "total",
         "rawType": "int64",
         "type": "integer"
        }
       ],
       "ref": "8b5d98a7-c111-4573-9f9f-68ddfd07880b",
       "rows": [
        [
         "0",
         "74550",
         "17811488"
        ],
        [
         "1",
         "74630",
         "2979610"
        ],
        [
         "2",
         "59670",
         "1411404"
        ],
        [
         "3",
         "65992",
         "1172062"
        ],
        [
         "4",
         "51851",
         "922553"
        ],
        [
         "5",
         "72422",
         "902909"
        ],
        [
         "6",
         "67261",
         "822154"
        ],
        [
         "7",
         "50100",
         "791607"
        ],
        [
         "8",
         "66700",
         "699162"
        ],
        [
         "9",
         "66450",
         "685287"
        ],
        [
         "10",
         "58350",
         "675213"
        ],
        [
         "11",
         "51852",
         "519180"
        ],
        [
         "12",
         "67690",
         "369914"
        ],
        [
         "13",
         "58197",
         "348677"
        ],
        [
         "14",
         "66372",
         "324543"
        ],
        [
         "15",
         "66371",
         "317557"
        ],
        [
         "16",
         "75600",
         "310842"
        ],
        [
         "17",
         "74710",
         "299595"
        ],
        [
         "18",
         "73400",
         "293031"
        ],
        [
         "19",
         "50450",
         "288680"
        ],
        [
         "20",
         "66020",
         "283973"
        ],
        [
         "21",
         "67000",
         "275767"
        ],
        [
         "22",
         "75790",
         "241302"
        ],
        [
         "23",
         "77220",
         "231576"
        ],
        [
         "24",
         "51180",
         "217172"
        ],
        [
         "25",
         "57110",
         "196568"
        ],
        [
         "26",
         "70301",
         "187550"
        ],
        [
         "27",
         "58196",
         "187467"
        ],
        [
         "28",
         "59080",
         "180293"
        ],
        [
         "29",
         "51930",
         "166807"
        ],
        [
         "30",
         "57030",
         "163314"
        ],
        [
         "31",
         "58000",
         "162342"
        ],
        [
         "32",
         "76332",
         "156206"
        ],
        [
         "33",
         "52070",
         "142956"
        ],
        [
         "34",
         "70481",
         "140646"
        ],
        [
         "35",
         "76842",
         "123463"
        ],
        [
         "36",
         "64080",
         "113749"
        ],
        [
         "37",
         "66102",
         "113166"
        ],
        [
         "38",
         "54440",
         "104895"
        ],
        [
         "39",
         "68580",
         "103318"
        ],
        [
         "40",
         "68311",
         "102575"
        ],
        [
         "41",
         "60683",
         "87392"
        ],
        [
         "42",
         "54282",
         "84993"
        ],
        [
         "43",
         "51691",
         "82180"
        ],
        [
         "44",
         "68401",
         "79178"
        ],
        [
         "45",
         "60412",
         "78302"
        ],
        [
         "46",
         "57200",
         "77681"
        ],
        [
         "47",
         "65800",
         "77034"
        ],
        [
         "48",
         "69473",
         "76061"
        ],
        [
         "49",
         "59750",
         "75878"
        ]
       ],
       "shape": {
        "columns": 2,
        "rows": 395
       }
      },
      "text/html": [
       "<div>\n",
       "<style scoped>\n",
       "    .dataframe tbody tr th:only-of-type {\n",
       "        vertical-align: middle;\n",
       "    }\n",
       "\n",
       "    .dataframe tbody tr th {\n",
       "        vertical-align: top;\n",
       "    }\n",
       "\n",
       "    .dataframe thead th {\n",
       "        text-align: right;\n",
       "    }\n",
       "</style>\n",
       "<table border=\"1\" class=\"dataframe\">\n",
       "  <thead>\n",
       "    <tr style=\"text-align: right;\">\n",
       "      <th></th>\n",
       "      <th>Código da Infração</th>\n",
       "      <th>total</th>\n",
       "    </tr>\n",
       "  </thead>\n",
       "  <tbody>\n",
       "    <tr>\n",
       "      <th>0</th>\n",
       "      <td>74550</td>\n",
       "      <td>17811488</td>\n",
       "    </tr>\n",
       "    <tr>\n",
       "      <th>1</th>\n",
       "      <td>74630</td>\n",
       "      <td>2979610</td>\n",
       "    </tr>\n",
       "    <tr>\n",
       "      <th>2</th>\n",
       "      <td>59670</td>\n",
       "      <td>1411404</td>\n",
       "    </tr>\n",
       "    <tr>\n",
       "      <th>3</th>\n",
       "      <td>65992</td>\n",
       "      <td>1172062</td>\n",
       "    </tr>\n",
       "    <tr>\n",
       "      <th>4</th>\n",
       "      <td>51851</td>\n",
       "      <td>922553</td>\n",
       "    </tr>\n",
       "    <tr>\n",
       "      <th>...</th>\n",
       "      <td>...</td>\n",
       "      <td>...</td>\n",
       "    </tr>\n",
       "    <tr>\n",
       "      <th>390</th>\n",
       "      <td>51002</td>\n",
       "      <td>4</td>\n",
       "    </tr>\n",
       "    <tr>\n",
       "      <th>391</th>\n",
       "      <td>72002</td>\n",
       "      <td>3</td>\n",
       "    </tr>\n",
       "    <tr>\n",
       "      <th>392</th>\n",
       "      <td>54360</td>\n",
       "      <td>2</td>\n",
       "    </tr>\n",
       "    <tr>\n",
       "      <th>393</th>\n",
       "      <td>51003</td>\n",
       "      <td>2</td>\n",
       "    </tr>\n",
       "    <tr>\n",
       "      <th>394</th>\n",
       "      <td>72001</td>\n",
       "      <td>2</td>\n",
       "    </tr>\n",
       "  </tbody>\n",
       "</table>\n",
       "<p>395 rows × 2 columns</p>\n",
       "</div>"
      ],
      "text/plain": [
       "     Código da Infração     total\n",
       "0                 74550  17811488\n",
       "1                 74630   2979610\n",
       "2                 59670   1411404\n",
       "3                 65992   1172062\n",
       "4                 51851    922553\n",
       "..                  ...       ...\n",
       "390               51002         4\n",
       "391               72002         3\n",
       "392               54360         2\n",
       "393               51003         2\n",
       "394               72001         2\n",
       "\n",
       "[395 rows x 2 columns]"
      ]
     },
     "execution_count": 14,
     "metadata": {},
     "output_type": "execute_result"
    }
   ],
   "source": [
    "# contanto valores de Código da Infração:\n",
    "query = \"\"\"\n",
    "SELECT \"Código da Infração\", COUNT(*) AS total\n",
    "FROM infracoes\n",
    "GROUP BY \"Código da Infração\"\n",
    "ORDER BY total DESC\n",
    "\"\"\"\n",
    "con.execute(query).fetchdf()"
   ]
  },
  {
   "cell_type": "code",
   "execution_count": 15,
   "id": "23e37588",
   "metadata": {},
   "outputs": [
    {
     "data": {
      "application/vnd.microsoft.datawrangler.viewer.v0+json": {
       "columns": [
        {
         "name": "index",
         "rawType": "int64",
         "type": "integer"
        },
        {
         "name": "Medição Infração",
         "rawType": "object",
         "type": "string"
        },
        {
         "name": "total",
         "rawType": "int64",
         "type": "integer"
        }
       ],
       "ref": "6d303b6a-f362-45cb-84aa-8addca23abdc",
       "rows": [
        [
         "0",
         "Veiculo",
         "19533558"
        ],
        [
         "1",
         "Nenhuma",
         "15468178"
        ],
        [
         "2",
         "N/I",
         "3470379"
        ],
        [
         "3",
         "Peso",
         "102138"
        ],
        [
         "4",
         "Alcoolemia",
         "86392"
        ],
        [
         "5",
         "Dimensão",
         "26468"
        ],
        [
         "6",
         "PBT/PBTC",
         "8254"
        ],
        [
         "7",
         "PESO PBT/PBTC",
         "4244"
        ],
        [
         "8",
         "CMT GRAVISIMA",
         "836"
        ],
        [
         "9",
         "PESO CMT GRAVISIMA",
         "434"
        ],
        [
         "10",
         "CMT",
         "119"
        ],
        [
         "11",
         "PESO CMT",
         "64"
        ],
        [
         "12",
         "Eixo/Conj<1>",
         "35"
        ],
        [
         "13",
         "Eixo 01",
         "34"
        ],
        [
         "14",
         "CMT Gravíssima",
         "20"
        ],
        [
         "15",
         "PESO PBT/PBTC EIXO",
         "10"
        ],
        [
         "16",
         "VELOCIDADE MÁXIMA",
         "8"
        ],
        [
         "17",
         "PESO EIXO",
         "5"
        ],
        [
         "18",
         "PBT/PBTC EIXO",
         "4"
        ],
        [
         "19",
         "EIXO",
         "3"
        ]
       ],
       "shape": {
        "columns": 2,
        "rows": 20
       }
      },
      "text/html": [
       "<div>\n",
       "<style scoped>\n",
       "    .dataframe tbody tr th:only-of-type {\n",
       "        vertical-align: middle;\n",
       "    }\n",
       "\n",
       "    .dataframe tbody tr th {\n",
       "        vertical-align: top;\n",
       "    }\n",
       "\n",
       "    .dataframe thead th {\n",
       "        text-align: right;\n",
       "    }\n",
       "</style>\n",
       "<table border=\"1\" class=\"dataframe\">\n",
       "  <thead>\n",
       "    <tr style=\"text-align: right;\">\n",
       "      <th></th>\n",
       "      <th>Medição Infração</th>\n",
       "      <th>total</th>\n",
       "    </tr>\n",
       "  </thead>\n",
       "  <tbody>\n",
       "    <tr>\n",
       "      <th>0</th>\n",
       "      <td>Veiculo</td>\n",
       "      <td>19533558</td>\n",
       "    </tr>\n",
       "    <tr>\n",
       "      <th>1</th>\n",
       "      <td>Nenhuma</td>\n",
       "      <td>15468178</td>\n",
       "    </tr>\n",
       "    <tr>\n",
       "      <th>2</th>\n",
       "      <td>N/I</td>\n",
       "      <td>3470379</td>\n",
       "    </tr>\n",
       "    <tr>\n",
       "      <th>3</th>\n",
       "      <td>Peso</td>\n",
       "      <td>102138</td>\n",
       "    </tr>\n",
       "    <tr>\n",
       "      <th>4</th>\n",
       "      <td>Alcoolemia</td>\n",
       "      <td>86392</td>\n",
       "    </tr>\n",
       "    <tr>\n",
       "      <th>5</th>\n",
       "      <td>Dimensão</td>\n",
       "      <td>26468</td>\n",
       "    </tr>\n",
       "    <tr>\n",
       "      <th>6</th>\n",
       "      <td>PBT/PBTC</td>\n",
       "      <td>8254</td>\n",
       "    </tr>\n",
       "    <tr>\n",
       "      <th>7</th>\n",
       "      <td>PESO PBT/PBTC</td>\n",
       "      <td>4244</td>\n",
       "    </tr>\n",
       "    <tr>\n",
       "      <th>8</th>\n",
       "      <td>CMT GRAVISIMA</td>\n",
       "      <td>836</td>\n",
       "    </tr>\n",
       "    <tr>\n",
       "      <th>9</th>\n",
       "      <td>PESO CMT GRAVISIMA</td>\n",
       "      <td>434</td>\n",
       "    </tr>\n",
       "    <tr>\n",
       "      <th>10</th>\n",
       "      <td>CMT</td>\n",
       "      <td>119</td>\n",
       "    </tr>\n",
       "    <tr>\n",
       "      <th>11</th>\n",
       "      <td>PESO CMT</td>\n",
       "      <td>64</td>\n",
       "    </tr>\n",
       "    <tr>\n",
       "      <th>12</th>\n",
       "      <td>Eixo/Conj&lt;1&gt;</td>\n",
       "      <td>35</td>\n",
       "    </tr>\n",
       "    <tr>\n",
       "      <th>13</th>\n",
       "      <td>Eixo 01</td>\n",
       "      <td>34</td>\n",
       "    </tr>\n",
       "    <tr>\n",
       "      <th>14</th>\n",
       "      <td>CMT Gravíssima</td>\n",
       "      <td>20</td>\n",
       "    </tr>\n",
       "    <tr>\n",
       "      <th>15</th>\n",
       "      <td>PESO PBT/PBTC EIXO</td>\n",
       "      <td>10</td>\n",
       "    </tr>\n",
       "    <tr>\n",
       "      <th>16</th>\n",
       "      <td>VELOCIDADE MÁXIMA</td>\n",
       "      <td>8</td>\n",
       "    </tr>\n",
       "    <tr>\n",
       "      <th>17</th>\n",
       "      <td>PESO EIXO</td>\n",
       "      <td>5</td>\n",
       "    </tr>\n",
       "    <tr>\n",
       "      <th>18</th>\n",
       "      <td>PBT/PBTC EIXO</td>\n",
       "      <td>4</td>\n",
       "    </tr>\n",
       "    <tr>\n",
       "      <th>19</th>\n",
       "      <td>EIXO</td>\n",
       "      <td>3</td>\n",
       "    </tr>\n",
       "  </tbody>\n",
       "</table>\n",
       "</div>"
      ],
      "text/plain": [
       "      Medição Infração     total\n",
       "0              Veiculo  19533558\n",
       "1              Nenhuma  15468178\n",
       "2                  N/I   3470379\n",
       "3                 Peso    102138\n",
       "4           Alcoolemia     86392\n",
       "5             Dimensão     26468\n",
       "6             PBT/PBTC      8254\n",
       "7        PESO PBT/PBTC      4244\n",
       "8        CMT GRAVISIMA       836\n",
       "9   PESO CMT GRAVISIMA       434\n",
       "10                 CMT       119\n",
       "11            PESO CMT        64\n",
       "12        Eixo/Conj<1>        35\n",
       "13             Eixo 01        34\n",
       "14      CMT Gravíssima        20\n",
       "15  PESO PBT/PBTC EIXO        10\n",
       "16   VELOCIDADE MÁXIMA         8\n",
       "17           PESO EIXO         5\n",
       "18       PBT/PBTC EIXO         4\n",
       "19                EIXO         3"
      ]
     },
     "execution_count": 15,
     "metadata": {},
     "output_type": "execute_result"
    }
   ],
   "source": [
    "# contanto valores de Medição Infração:\n",
    "query = \"\"\"\n",
    "SELECT \"Medição Infração\", COUNT(*) AS total\n",
    "FROM infracoes\n",
    "GROUP BY \"Medição Infração\"\n",
    "ORDER BY total DESC\n",
    "\"\"\"\n",
    "con.execute(query).fetchdf()"
   ]
  },
  {
   "cell_type": "code",
   "execution_count": 16,
   "id": "24368141",
   "metadata": {},
   "outputs": [
    {
     "data": {
      "application/vnd.microsoft.datawrangler.viewer.v0+json": {
       "columns": [
        {
         "name": "index",
         "rawType": "int64",
         "type": "integer"
        },
        {
         "name": "Descrição Especie Veículo",
         "rawType": "object",
         "type": "unknown"
        },
        {
         "name": "total",
         "rawType": "int64",
         "type": "integer"
        }
       ],
       "ref": "90ccee6d-a133-4b45-bbab-51444c414798",
       "rows": [
        [
         "0",
         "PASSAGEIRO",
         "17479023"
        ],
        [
         "1",
         "CARGA",
         "6006076"
        ],
        [
         "2",
         "'-1",
         "4804523"
        ],
        [
         "3",
         "-1",
         "3027027"
        ],
        [
         "4",
         "ESPECIAL",
         "2531543"
        ],
        [
         "5",
         "MISTO",
         "2503538"
        ],
        [
         "6",
         "TRACAO",
         "1171124"
        ],
        [
         "7",
         "TRAÇÃO",
         "989107"
        ],
        [
         "8",
         "Não informado",
         "181150"
        ],
        [
         "9",
         "Não encontrado",
         "4812"
        ],
        [
         "10",
         "COLECAO",
         "1034"
        ],
        [
         "11",
         null,
         "805"
        ],
        [
         "12",
         "COLEÇÃO",
         "797"
        ],
        [
         "13",
         "COMPETIÇÃO",
         "436"
        ],
        [
         "14",
         "Nao informado",
         "118"
        ],
        [
         "15",
         "CORRIDA",
         "70"
        ]
       ],
       "shape": {
        "columns": 2,
        "rows": 16
       }
      },
      "text/html": [
       "<div>\n",
       "<style scoped>\n",
       "    .dataframe tbody tr th:only-of-type {\n",
       "        vertical-align: middle;\n",
       "    }\n",
       "\n",
       "    .dataframe tbody tr th {\n",
       "        vertical-align: top;\n",
       "    }\n",
       "\n",
       "    .dataframe thead th {\n",
       "        text-align: right;\n",
       "    }\n",
       "</style>\n",
       "<table border=\"1\" class=\"dataframe\">\n",
       "  <thead>\n",
       "    <tr style=\"text-align: right;\">\n",
       "      <th></th>\n",
       "      <th>Descrição Especie Veículo</th>\n",
       "      <th>total</th>\n",
       "    </tr>\n",
       "  </thead>\n",
       "  <tbody>\n",
       "    <tr>\n",
       "      <th>0</th>\n",
       "      <td>PASSAGEIRO</td>\n",
       "      <td>17479023</td>\n",
       "    </tr>\n",
       "    <tr>\n",
       "      <th>1</th>\n",
       "      <td>CARGA</td>\n",
       "      <td>6006076</td>\n",
       "    </tr>\n",
       "    <tr>\n",
       "      <th>2</th>\n",
       "      <td>'-1</td>\n",
       "      <td>4804523</td>\n",
       "    </tr>\n",
       "    <tr>\n",
       "      <th>3</th>\n",
       "      <td>-1</td>\n",
       "      <td>3027027</td>\n",
       "    </tr>\n",
       "    <tr>\n",
       "      <th>4</th>\n",
       "      <td>ESPECIAL</td>\n",
       "      <td>2531543</td>\n",
       "    </tr>\n",
       "    <tr>\n",
       "      <th>5</th>\n",
       "      <td>MISTO</td>\n",
       "      <td>2503538</td>\n",
       "    </tr>\n",
       "    <tr>\n",
       "      <th>6</th>\n",
       "      <td>TRACAO</td>\n",
       "      <td>1171124</td>\n",
       "    </tr>\n",
       "    <tr>\n",
       "      <th>7</th>\n",
       "      <td>TRAÇÃO</td>\n",
       "      <td>989107</td>\n",
       "    </tr>\n",
       "    <tr>\n",
       "      <th>8</th>\n",
       "      <td>Não informado</td>\n",
       "      <td>181150</td>\n",
       "    </tr>\n",
       "    <tr>\n",
       "      <th>9</th>\n",
       "      <td>Não encontrado</td>\n",
       "      <td>4812</td>\n",
       "    </tr>\n",
       "    <tr>\n",
       "      <th>10</th>\n",
       "      <td>COLECAO</td>\n",
       "      <td>1034</td>\n",
       "    </tr>\n",
       "    <tr>\n",
       "      <th>11</th>\n",
       "      <td>None</td>\n",
       "      <td>805</td>\n",
       "    </tr>\n",
       "    <tr>\n",
       "      <th>12</th>\n",
       "      <td>COLEÇÃO</td>\n",
       "      <td>797</td>\n",
       "    </tr>\n",
       "    <tr>\n",
       "      <th>13</th>\n",
       "      <td>COMPETIÇÃO</td>\n",
       "      <td>436</td>\n",
       "    </tr>\n",
       "    <tr>\n",
       "      <th>14</th>\n",
       "      <td>Nao informado</td>\n",
       "      <td>118</td>\n",
       "    </tr>\n",
       "    <tr>\n",
       "      <th>15</th>\n",
       "      <td>CORRIDA</td>\n",
       "      <td>70</td>\n",
       "    </tr>\n",
       "  </tbody>\n",
       "</table>\n",
       "</div>"
      ],
      "text/plain": [
       "   Descrição Especie Veículo     total\n",
       "0                 PASSAGEIRO  17479023\n",
       "1                      CARGA   6006076\n",
       "2                        '-1   4804523\n",
       "3                         -1   3027027\n",
       "4                   ESPECIAL   2531543\n",
       "5                      MISTO   2503538\n",
       "6                     TRACAO   1171124\n",
       "7                     TRAÇÃO    989107\n",
       "8              Não informado    181150\n",
       "9             Não encontrado      4812\n",
       "10                   COLECAO      1034\n",
       "11                      None       805\n",
       "12                   COLEÇÃO       797\n",
       "13                COMPETIÇÃO       436\n",
       "14             Nao informado       118\n",
       "15                   CORRIDA        70"
      ]
     },
     "execution_count": 16,
     "metadata": {},
     "output_type": "execute_result"
    }
   ],
   "source": [
    "# contanto valores de Descrição Especie Veículo:\n",
    "query = \"\"\"\n",
    "SELECT \"Descrição Especie Veículo\", COUNT(*) AS total\n",
    "FROM infracoes\n",
    "GROUP BY \"Descrição Especie Veículo\"\n",
    "ORDER BY total DESC\n",
    "\"\"\"\n",
    "con.execute(query).fetchdf()"
   ]
  },
  {
   "cell_type": "code",
   "execution_count": 17,
   "id": "ebda0c6e",
   "metadata": {},
   "outputs": [
    {
     "data": {
      "application/vnd.microsoft.datawrangler.viewer.v0+json": {
       "columns": [
        {
         "name": "index",
         "rawType": "int64",
         "type": "integer"
        },
        {
         "name": "Descrição Marca Veículo",
         "rawType": "object",
         "type": "unknown"
        },
        {
         "name": "total",
         "rawType": "int64",
         "type": "integer"
        }
       ],
       "ref": "991e2980-5fb6-4e70-96ab-d935bc5fc706",
       "rows": [
        [
         "0",
         "'-1",
         "4666242"
        ],
        [
         "1",
         "-1",
         "2645998"
        ],
        [
         "2",
         "VW",
         "1860136"
        ],
        [
         "3",
         "HONDA",
         "1753007"
        ],
        [
         "4",
         "FIAT",
         "1309011"
        ],
        [
         "5",
         "OUTRA",
         "1041421"
        ],
        [
         "6",
         "GM",
         "959545"
        ],
        [
         "7",
         "FORD",
         "784129"
        ],
        [
         "8",
         "MERCEDES BENZ",
         "751580"
        ],
        [
         "9",
         "TOYOTA",
         "436041"
        ],
        [
         "10",
         "SCANIA",
         "372310"
        ],
        [
         "11",
         "VOLVO",
         "371563"
        ],
        [
         "12",
         "I",
         "365234"
        ],
        [
         "13",
         "RENAULT",
         "306986"
        ],
        [
         "14",
         "YAMAHA",
         "240676"
        ],
        [
         "15",
         "CHEVROLET",
         "230674"
        ],
        [
         "16",
         "VW/GOL 1.0",
         "161996"
        ],
        [
         "17",
         "Não informado",
         "142162"
        ],
        [
         "18",
         "TOYOTA/COROLLA XEI20FLEX",
         "127316"
        ],
        [
         "19",
         "VOLVO/FH 540 6X4T",
         "109683"
        ],
        [
         "20",
         "HONDA/CG 160 FAN",
         "105668"
        ],
        [
         "21",
         "SR",
         "101781"
        ],
        [
         "22",
         "HYUNDAI",
         "101749"
        ],
        [
         "23",
         "M.BENZ/L 1620",
         "96469"
        ],
        [
         "24",
         "I/TOYOTA HILUX CDSRXA4FD",
         "95436"
        ],
        [
         "25",
         "VW/24.280 CRM 6X2",
         "94472"
        ],
        [
         "26",
         "I/TOYOTA HILUX CD4X4 SRV",
         "88938"
        ],
        [
         "27",
         "PEUGEOT",
         "88729"
        ],
        [
         "28",
         "FIAT/MOBI LIKE",
         "83318"
        ],
        [
         "29",
         "I/TOYOTA HILUX SWSRXA4FD",
         "80873"
        ],
        [
         "30",
         "HONDA/CG 125 FAN KS",
         "79161"
        ],
        [
         "31",
         "HONDA/CG 160 START",
         "78018"
        ],
        [
         "32",
         "TOYOTA/COROLLA GLI UPPER",
         "77163"
        ],
        [
         "33",
         "SR/RANDON SR CA",
         "76755"
        ],
        [
         "34",
         "CHEV",
         "75130"
        ],
        [
         "35",
         "VOLVO/FH 460 6X2T",
         "74153"
        ],
        [
         "36",
         "JEEP",
         "72535"
        ],
        [
         "37",
         "FIAT/ARGO DRIVE 1.0",
         "71120"
        ],
        [
         "38",
         "I/TOYOTA HILUX CDSRVA4FD",
         "67858"
        ],
        [
         "39",
         "CHEVROLET/ONIX 1.0MT LT",
         "67036"
        ],
        [
         "40",
         "VW/24.250 CNC 6X2",
         "65096"
        ],
        [
         "41",
         null,
         "61250"
        ],
        [
         "42",
         "HONDA/NXR160 BROS ESDD",
         "59426"
        ],
        [
         "43",
         "VW/GOL 1.0L MC4",
         "59226"
        ],
        [
         "44",
         "HYUNDAI/HB20 1.0M COMFOR",
         "59109"
        ],
        [
         "45",
         "FIAT/STRADA WORKING",
         "58402"
        ],
        [
         "46",
         "CHEVROLET/S10 LTZ DD4A",
         "57105"
        ],
        [
         "47",
         "HONDA/POP 110I",
         "56760"
        ],
        [
         "48",
         "TOYOTA/COROLLA XEI 20",
         "55958"
        ],
        [
         "49",
         "HONDA/CG 160 TITAN",
         "54468"
        ]
       ],
       "shape": {
        "columns": 2,
        "rows": 26948
       }
      },
      "text/html": [
       "<div>\n",
       "<style scoped>\n",
       "    .dataframe tbody tr th:only-of-type {\n",
       "        vertical-align: middle;\n",
       "    }\n",
       "\n",
       "    .dataframe tbody tr th {\n",
       "        vertical-align: top;\n",
       "    }\n",
       "\n",
       "    .dataframe thead th {\n",
       "        text-align: right;\n",
       "    }\n",
       "</style>\n",
       "<table border=\"1\" class=\"dataframe\">\n",
       "  <thead>\n",
       "    <tr style=\"text-align: right;\">\n",
       "      <th></th>\n",
       "      <th>Descrição Marca Veículo</th>\n",
       "      <th>total</th>\n",
       "    </tr>\n",
       "  </thead>\n",
       "  <tbody>\n",
       "    <tr>\n",
       "      <th>0</th>\n",
       "      <td>'-1</td>\n",
       "      <td>4666242</td>\n",
       "    </tr>\n",
       "    <tr>\n",
       "      <th>1</th>\n",
       "      <td>-1</td>\n",
       "      <td>2645998</td>\n",
       "    </tr>\n",
       "    <tr>\n",
       "      <th>2</th>\n",
       "      <td>VW</td>\n",
       "      <td>1860136</td>\n",
       "    </tr>\n",
       "    <tr>\n",
       "      <th>3</th>\n",
       "      <td>HONDA</td>\n",
       "      <td>1753007</td>\n",
       "    </tr>\n",
       "    <tr>\n",
       "      <th>4</th>\n",
       "      <td>FIAT</td>\n",
       "      <td>1309011</td>\n",
       "    </tr>\n",
       "    <tr>\n",
       "      <th>...</th>\n",
       "      <td>...</td>\n",
       "      <td>...</td>\n",
       "    </tr>\n",
       "    <tr>\n",
       "      <th>26943</th>\n",
       "      <td>DONGFENG</td>\n",
       "      <td>1</td>\n",
       "    </tr>\n",
       "    <tr>\n",
       "      <th>26944</th>\n",
       "      <td>SR BONANO</td>\n",
       "      <td>1</td>\n",
       "    </tr>\n",
       "    <tr>\n",
       "      <th>26945</th>\n",
       "      <td>HONDA/NX</td>\n",
       "      <td>1</td>\n",
       "    </tr>\n",
       "    <tr>\n",
       "      <th>26946</th>\n",
       "      <td>R/MORINI M JT</td>\n",
       "      <td>1</td>\n",
       "    </tr>\n",
       "    <tr>\n",
       "      <th>26947</th>\n",
       "      <td>R/GOHT AD300 L</td>\n",
       "      <td>1</td>\n",
       "    </tr>\n",
       "  </tbody>\n",
       "</table>\n",
       "<p>26948 rows × 2 columns</p>\n",
       "</div>"
      ],
      "text/plain": [
       "      Descrição Marca Veículo    total\n",
       "0                         '-1  4666242\n",
       "1                          -1  2645998\n",
       "2                          VW  1860136\n",
       "3                       HONDA  1753007\n",
       "4                        FIAT  1309011\n",
       "...                       ...      ...\n",
       "26943                DONGFENG        1\n",
       "26944               SR BONANO        1\n",
       "26945                HONDA/NX        1\n",
       "26946           R/MORINI M JT        1\n",
       "26947          R/GOHT AD300 L        1\n",
       "\n",
       "[26948 rows x 2 columns]"
      ]
     },
     "execution_count": 17,
     "metadata": {},
     "output_type": "execute_result"
    }
   ],
   "source": [
    "# contanto valores de Descrição Marca Veículo:\n",
    "query = \"\"\"\n",
    "SELECT \"Descrição Marca Veículo\", COUNT(*) AS total\n",
    "FROM infracoes\n",
    "GROUP BY \"Descrição Marca Veículo\"\n",
    "ORDER BY total DESC\n",
    "\"\"\"\n",
    "con.execute(query).fetchdf()"
   ]
  },
  {
   "cell_type": "code",
   "execution_count": 18,
   "id": "6030b153",
   "metadata": {},
   "outputs": [
    {
     "data": {
      "application/vnd.microsoft.datawrangler.viewer.v0+json": {
       "columns": [
        {
         "name": "index",
         "rawType": "int64",
         "type": "integer"
        },
        {
         "name": "Hora Infração",
         "rawType": "int64",
         "type": "integer"
        },
        {
         "name": "total",
         "rawType": "int64",
         "type": "integer"
        }
       ],
       "ref": "ead7573b-7633-40d5-a759-0d4af0ae0f5a",
       "rows": [
        [
         "0",
         "10",
         "3821568"
        ],
        [
         "1",
         "16",
         "3401478"
        ],
        [
         "2",
         "11",
         "3191990"
        ],
        [
         "3",
         "9",
         "3059946"
        ],
        [
         "4",
         "15",
         "3043319"
        ],
        [
         "5",
         "17",
         "2794431"
        ],
        [
         "6",
         "14",
         "2274450"
        ],
        [
         "7",
         "8",
         "2102764"
        ],
        [
         "8",
         "12",
         "1816205"
        ],
        [
         "9",
         "13",
         "1750200"
        ],
        [
         "10",
         "18",
         "1671711"
        ],
        [
         "11",
         "7",
         "1402375"
        ],
        [
         "12",
         "19",
         "1167536"
        ],
        [
         "13",
         "21",
         "1046995"
        ],
        [
         "14",
         "20",
         "1045502"
        ],
        [
         "15",
         "22",
         "923020"
        ],
        [
         "16",
         "6",
         "891119"
        ],
        [
         "17",
         "23",
         "703362"
        ],
        [
         "18",
         "5",
         "611356"
        ],
        [
         "19",
         "0",
         "524091"
        ],
        [
         "20",
         "4",
         "436139"
        ],
        [
         "21",
         "1",
         "386231"
        ],
        [
         "22",
         "3",
         "322811"
        ],
        [
         "23",
         "2",
         "312584"
        ]
       ],
       "shape": {
        "columns": 2,
        "rows": 24
       }
      },
      "text/html": [
       "<div>\n",
       "<style scoped>\n",
       "    .dataframe tbody tr th:only-of-type {\n",
       "        vertical-align: middle;\n",
       "    }\n",
       "\n",
       "    .dataframe tbody tr th {\n",
       "        vertical-align: top;\n",
       "    }\n",
       "\n",
       "    .dataframe thead th {\n",
       "        text-align: right;\n",
       "    }\n",
       "</style>\n",
       "<table border=\"1\" class=\"dataframe\">\n",
       "  <thead>\n",
       "    <tr style=\"text-align: right;\">\n",
       "      <th></th>\n",
       "      <th>Hora Infração</th>\n",
       "      <th>total</th>\n",
       "    </tr>\n",
       "  </thead>\n",
       "  <tbody>\n",
       "    <tr>\n",
       "      <th>0</th>\n",
       "      <td>10</td>\n",
       "      <td>3821568</td>\n",
       "    </tr>\n",
       "    <tr>\n",
       "      <th>1</th>\n",
       "      <td>16</td>\n",
       "      <td>3401478</td>\n",
       "    </tr>\n",
       "    <tr>\n",
       "      <th>2</th>\n",
       "      <td>11</td>\n",
       "      <td>3191990</td>\n",
       "    </tr>\n",
       "    <tr>\n",
       "      <th>3</th>\n",
       "      <td>9</td>\n",
       "      <td>3059946</td>\n",
       "    </tr>\n",
       "    <tr>\n",
       "      <th>4</th>\n",
       "      <td>15</td>\n",
       "      <td>3043319</td>\n",
       "    </tr>\n",
       "    <tr>\n",
       "      <th>5</th>\n",
       "      <td>17</td>\n",
       "      <td>2794431</td>\n",
       "    </tr>\n",
       "    <tr>\n",
       "      <th>6</th>\n",
       "      <td>14</td>\n",
       "      <td>2274450</td>\n",
       "    </tr>\n",
       "    <tr>\n",
       "      <th>7</th>\n",
       "      <td>8</td>\n",
       "      <td>2102764</td>\n",
       "    </tr>\n",
       "    <tr>\n",
       "      <th>8</th>\n",
       "      <td>12</td>\n",
       "      <td>1816205</td>\n",
       "    </tr>\n",
       "    <tr>\n",
       "      <th>9</th>\n",
       "      <td>13</td>\n",
       "      <td>1750200</td>\n",
       "    </tr>\n",
       "    <tr>\n",
       "      <th>10</th>\n",
       "      <td>18</td>\n",
       "      <td>1671711</td>\n",
       "    </tr>\n",
       "    <tr>\n",
       "      <th>11</th>\n",
       "      <td>7</td>\n",
       "      <td>1402375</td>\n",
       "    </tr>\n",
       "    <tr>\n",
       "      <th>12</th>\n",
       "      <td>19</td>\n",
       "      <td>1167536</td>\n",
       "    </tr>\n",
       "    <tr>\n",
       "      <th>13</th>\n",
       "      <td>21</td>\n",
       "      <td>1046995</td>\n",
       "    </tr>\n",
       "    <tr>\n",
       "      <th>14</th>\n",
       "      <td>20</td>\n",
       "      <td>1045502</td>\n",
       "    </tr>\n",
       "    <tr>\n",
       "      <th>15</th>\n",
       "      <td>22</td>\n",
       "      <td>923020</td>\n",
       "    </tr>\n",
       "    <tr>\n",
       "      <th>16</th>\n",
       "      <td>6</td>\n",
       "      <td>891119</td>\n",
       "    </tr>\n",
       "    <tr>\n",
       "      <th>17</th>\n",
       "      <td>23</td>\n",
       "      <td>703362</td>\n",
       "    </tr>\n",
       "    <tr>\n",
       "      <th>18</th>\n",
       "      <td>5</td>\n",
       "      <td>611356</td>\n",
       "    </tr>\n",
       "    <tr>\n",
       "      <th>19</th>\n",
       "      <td>0</td>\n",
       "      <td>524091</td>\n",
       "    </tr>\n",
       "    <tr>\n",
       "      <th>20</th>\n",
       "      <td>4</td>\n",
       "      <td>436139</td>\n",
       "    </tr>\n",
       "    <tr>\n",
       "      <th>21</th>\n",
       "      <td>1</td>\n",
       "      <td>386231</td>\n",
       "    </tr>\n",
       "    <tr>\n",
       "      <th>22</th>\n",
       "      <td>3</td>\n",
       "      <td>322811</td>\n",
       "    </tr>\n",
       "    <tr>\n",
       "      <th>23</th>\n",
       "      <td>2</td>\n",
       "      <td>312584</td>\n",
       "    </tr>\n",
       "  </tbody>\n",
       "</table>\n",
       "</div>"
      ],
      "text/plain": [
       "    Hora Infração    total\n",
       "0              10  3821568\n",
       "1              16  3401478\n",
       "2              11  3191990\n",
       "3               9  3059946\n",
       "4              15  3043319\n",
       "5              17  2794431\n",
       "6              14  2274450\n",
       "7               8  2102764\n",
       "8              12  1816205\n",
       "9              13  1750200\n",
       "10             18  1671711\n",
       "11              7  1402375\n",
       "12             19  1167536\n",
       "13             21  1046995\n",
       "14             20  1045502\n",
       "15             22   923020\n",
       "16              6   891119\n",
       "17             23   703362\n",
       "18              5   611356\n",
       "19              0   524091\n",
       "20              4   436139\n",
       "21              1   386231\n",
       "22              3   322811\n",
       "23              2   312584"
      ]
     },
     "execution_count": 18,
     "metadata": {},
     "output_type": "execute_result"
    }
   ],
   "source": [
    "# contanto valores de Hora Infração:\n",
    "query = \"\"\"\n",
    "SELECT \"Hora Infração\", COUNT(*) AS total\n",
    "FROM infracoes\n",
    "GROUP BY \"Hora Infração\"\n",
    "ORDER BY total DESC\n",
    "\"\"\"\n",
    "con.execute(query).fetchdf()"
   ]
  },
  {
   "cell_type": "code",
   "execution_count": 19,
   "id": "7a772ffd",
   "metadata": {},
   "outputs": [
    {
     "data": {
      "application/vnd.microsoft.datawrangler.viewer.v0+json": {
       "columns": [
        {
         "name": "index",
         "rawType": "int64",
         "type": "integer"
        },
        {
         "name": "Medição Considerada",
         "rawType": "object",
         "type": "unknown"
        },
        {
         "name": "total",
         "rawType": "int64",
         "type": "integer"
        }
       ],
       "ref": "77ad4c98-3999-4d9a-ba58-cf1fe357c55b",
       "rows": [
        [
         "0",
         "0",
         "13251286"
        ],
        [
         "1",
         "0.00",
         "2664815"
        ],
        [
         "2",
         "0.0",
         "1474421"
        ],
        [
         "3",
         "61",
         "713080"
        ],
        [
         "4",
         "81",
         "638151"
        ],
        [
         "5",
         "62",
         "604093"
        ],
        [
         "6",
         "82",
         "527003"
        ],
        [
         "7",
         "63",
         "521196"
        ],
        [
         "8",
         "64",
         "447184"
        ],
        [
         "9",
         "65",
         "390751"
        ],
        [
         "10",
         "84",
         "379254"
        ],
        [
         "11",
         "83",
         "374920"
        ],
        [
         "12",
         "66",
         "338143"
        ],
        [
         "13",
         "85",
         "310302"
        ],
        [
         "14",
         "68",
         "266122"
        ],
        [
         "15",
         "67",
         "263595"
        ],
        [
         "16",
         "81.0",
         "260626"
        ],
        [
         "17",
         "61.0",
         "245190"
        ],
        [
         "18",
         "71",
         "242063"
        ],
        [
         "19",
         "113",
         "232976"
        ],
        [
         "20",
         "101",
         "227943"
        ],
        [
         "21",
         "87",
         "224328"
        ],
        [
         "22",
         "86",
         "212235"
        ],
        [
         "23",
         "62.0",
         "211072"
        ],
        [
         "24",
         "69",
         "209270"
        ],
        [
         "25",
         "82.0",
         "208350"
        ],
        [
         "26",
         "102",
         "204015"
        ],
        [
         "27",
         "72",
         "203952"
        ],
        [
         "28",
         "88",
         "203802"
        ],
        [
         "29",
         "73",
         "201368"
        ],
        [
         "30",
         "70",
         "201075"
        ],
        [
         "31",
         "41",
         "195667"
        ],
        [
         "32",
         "105",
         "185488"
        ],
        [
         "33",
         "63.0",
         "178490"
        ],
        [
         "34",
         "103",
         "167864"
        ],
        [
         "35",
         "91",
         "165826"
        ],
        [
         "36",
         "111",
         "163188"
        ],
        [
         "37",
         "42",
         "162958"
        ],
        [
         "38",
         "92",
         "162925"
        ],
        [
         "39",
         "94",
         "158436"
        ],
        [
         "40",
         "84.0",
         "155751"
        ],
        [
         "41",
         "74",
         "155662"
        ],
        [
         "42",
         "83.0",
         "155631"
        ],
        [
         "43",
         "64.0",
         "154564"
        ],
        [
         "44",
         "112",
         "151975"
        ],
        [
         "45",
         "90",
         "150869"
        ],
        [
         "46",
         "89",
         "148598"
        ],
        [
         "47",
         "104",
         "148061"
        ],
        [
         "48",
         "93",
         "146800"
        ],
        [
         "49",
         "65.0",
         "137920"
        ]
       ],
       "shape": {
        "columns": 2,
        "rows": 47198
       }
      },
      "text/html": [
       "<div>\n",
       "<style scoped>\n",
       "    .dataframe tbody tr th:only-of-type {\n",
       "        vertical-align: middle;\n",
       "    }\n",
       "\n",
       "    .dataframe tbody tr th {\n",
       "        vertical-align: top;\n",
       "    }\n",
       "\n",
       "    .dataframe thead th {\n",
       "        text-align: right;\n",
       "    }\n",
       "</style>\n",
       "<table border=\"1\" class=\"dataframe\">\n",
       "  <thead>\n",
       "    <tr style=\"text-align: right;\">\n",
       "      <th></th>\n",
       "      <th>Medição Considerada</th>\n",
       "      <th>total</th>\n",
       "    </tr>\n",
       "  </thead>\n",
       "  <tbody>\n",
       "    <tr>\n",
       "      <th>0</th>\n",
       "      <td>0</td>\n",
       "      <td>13251286</td>\n",
       "    </tr>\n",
       "    <tr>\n",
       "      <th>1</th>\n",
       "      <td>0.00</td>\n",
       "      <td>2664815</td>\n",
       "    </tr>\n",
       "    <tr>\n",
       "      <th>2</th>\n",
       "      <td>0.0</td>\n",
       "      <td>1474421</td>\n",
       "    </tr>\n",
       "    <tr>\n",
       "      <th>3</th>\n",
       "      <td>61</td>\n",
       "      <td>713080</td>\n",
       "    </tr>\n",
       "    <tr>\n",
       "      <th>4</th>\n",
       "      <td>81</td>\n",
       "      <td>638151</td>\n",
       "    </tr>\n",
       "    <tr>\n",
       "      <th>...</th>\n",
       "      <td>...</td>\n",
       "      <td>...</td>\n",
       "    </tr>\n",
       "    <tr>\n",
       "      <th>47193</th>\n",
       "      <td>97190.0</td>\n",
       "      <td>1</td>\n",
       "    </tr>\n",
       "    <tr>\n",
       "      <th>47194</th>\n",
       "      <td>73309.0</td>\n",
       "      <td>1</td>\n",
       "    </tr>\n",
       "    <tr>\n",
       "      <th>47195</th>\n",
       "      <td>46620.0</td>\n",
       "      <td>1</td>\n",
       "    </tr>\n",
       "    <tr>\n",
       "      <th>47196</th>\n",
       "      <td>23115.0</td>\n",
       "      <td>1</td>\n",
       "    </tr>\n",
       "    <tr>\n",
       "      <th>47197</th>\n",
       "      <td>84691.0</td>\n",
       "      <td>1</td>\n",
       "    </tr>\n",
       "  </tbody>\n",
       "</table>\n",
       "<p>47198 rows × 2 columns</p>\n",
       "</div>"
      ],
      "text/plain": [
       "      Medição Considerada     total\n",
       "0                       0  13251286\n",
       "1                    0.00   2664815\n",
       "2                     0.0   1474421\n",
       "3                      61    713080\n",
       "4                      81    638151\n",
       "...                   ...       ...\n",
       "47193             97190.0         1\n",
       "47194             73309.0         1\n",
       "47195             46620.0         1\n",
       "47196             23115.0         1\n",
       "47197             84691.0         1\n",
       "\n",
       "[47198 rows x 2 columns]"
      ]
     },
     "execution_count": 19,
     "metadata": {},
     "output_type": "execute_result"
    }
   ],
   "source": [
    "# contanto valores de Medição Considerada:\n",
    "query = \"\"\"\n",
    "SELECT \"Medição Considerada\", COUNT(*) AS total\n",
    "FROM infracoes\n",
    "GROUP BY \"Medição Considerada\"\n",
    "ORDER BY total DESC\n",
    "\"\"\"\n",
    "con.execute(query).fetchdf()"
   ]
  },
  {
   "cell_type": "code",
   "execution_count": 20,
   "id": "b9bee2ee",
   "metadata": {},
   "outputs": [
    {
     "data": {
      "application/vnd.microsoft.datawrangler.viewer.v0+json": {
       "columns": [
        {
         "name": "index",
         "rawType": "int64",
         "type": "integer"
        },
        {
         "name": "Excesso Verificado",
         "rawType": "object",
         "type": "unknown"
        },
        {
         "name": "total",
         "rawType": "int64",
         "type": "integer"
        }
       ],
       "ref": "2b233557-2299-4fa2-8222-c40621a4ff33",
       "rows": [
        [
         "0",
         "0",
         "12979102"
        ],
        [
         "1",
         "0.00",
         "2664886"
        ],
        [
         "2",
         "1",
         "1841001"
        ],
        [
         "3",
         "0.0",
         "1746679"
        ],
        [
         "4",
         "2",
         "1572884"
        ],
        [
         "5",
         "3",
         "1336647"
        ],
        [
         "6",
         "4",
         "1155023"
        ],
        [
         "7",
         "5",
         "997098"
        ],
        [
         "8",
         "1.0",
         "909433"
        ],
        [
         "9",
         "2.0",
         "757222"
        ],
        [
         "10",
         "6",
         "737913"
        ],
        [
         "11",
         "3.0",
         "648811"
        ],
        [
         "12",
         "7",
         "641522"
        ],
        [
         "13",
         "8",
         "612187"
        ],
        [
         "14",
         "4.0",
         "557902"
        ],
        [
         "15",
         "9",
         "506006"
        ],
        [
         "16",
         "10",
         "486896"
        ],
        [
         "17",
         "5.0",
         "470763"
        ],
        [
         "18",
         "8.0",
         "392961"
        ],
        [
         "19",
         "11",
         "389058"
        ],
        [
         "20",
         "9.0",
         "384759"
        ],
        [
         "21",
         "6.0",
         "361007"
        ],
        [
         "22",
         "10.0",
         "345131"
        ],
        [
         "23",
         "13",
         "342696"
        ],
        [
         "24",
         "12",
         "338194"
        ],
        [
         "25",
         "7.0",
         "322863"
        ],
        [
         "26",
         "11.0",
         "290784"
        ],
        [
         "27",
         "14",
         "267206"
        ],
        [
         "28",
         "12.0",
         "245282"
        ],
        [
         "29",
         "13.0",
         "234540"
        ],
        [
         "30",
         "15",
         "219506"
        ],
        [
         "31",
         "16",
         "195862"
        ],
        [
         "32",
         "14.0",
         "179145"
        ],
        [
         "33",
         "17",
         "175771"
        ],
        [
         "34",
         "15.0",
         "154306"
        ],
        [
         "35",
         "18",
         "147722"
        ],
        [
         "36",
         "20",
         "142765"
        ],
        [
         "37",
         "16.0",
         "131986"
        ],
        [
         "38",
         "19",
         "127380"
        ],
        [
         "39",
         "17.0",
         "121312"
        ],
        [
         "40",
         "21",
         "105103"
        ],
        [
         "41",
         "18.0",
         "99978"
        ],
        [
         "42",
         "22",
         "95500"
        ],
        [
         "43",
         "20.0",
         "91656"
        ],
        [
         "44",
         "19.0",
         "86302"
        ],
        [
         "45",
         "23",
         "80281"
        ],
        [
         "46",
         "24",
         "78102"
        ],
        [
         "47",
         "21.0",
         "69058"
        ],
        [
         "48",
         "25",
         "67662"
        ],
        [
         "49",
         "1.00",
         "64745"
        ]
       ],
       "shape": {
        "columns": 2,
        "rows": 31495
       }
      },
      "text/html": [
       "<div>\n",
       "<style scoped>\n",
       "    .dataframe tbody tr th:only-of-type {\n",
       "        vertical-align: middle;\n",
       "    }\n",
       "\n",
       "    .dataframe tbody tr th {\n",
       "        vertical-align: top;\n",
       "    }\n",
       "\n",
       "    .dataframe thead th {\n",
       "        text-align: right;\n",
       "    }\n",
       "</style>\n",
       "<table border=\"1\" class=\"dataframe\">\n",
       "  <thead>\n",
       "    <tr style=\"text-align: right;\">\n",
       "      <th></th>\n",
       "      <th>Excesso Verificado</th>\n",
       "      <th>total</th>\n",
       "    </tr>\n",
       "  </thead>\n",
       "  <tbody>\n",
       "    <tr>\n",
       "      <th>0</th>\n",
       "      <td>0</td>\n",
       "      <td>12979102</td>\n",
       "    </tr>\n",
       "    <tr>\n",
       "      <th>1</th>\n",
       "      <td>0.00</td>\n",
       "      <td>2664886</td>\n",
       "    </tr>\n",
       "    <tr>\n",
       "      <th>2</th>\n",
       "      <td>1</td>\n",
       "      <td>1841001</td>\n",
       "    </tr>\n",
       "    <tr>\n",
       "      <th>3</th>\n",
       "      <td>0.0</td>\n",
       "      <td>1746679</td>\n",
       "    </tr>\n",
       "    <tr>\n",
       "      <th>4</th>\n",
       "      <td>2</td>\n",
       "      <td>1572884</td>\n",
       "    </tr>\n",
       "    <tr>\n",
       "      <th>...</th>\n",
       "      <td>...</td>\n",
       "      <td>...</td>\n",
       "    </tr>\n",
       "    <tr>\n",
       "      <th>31490</th>\n",
       "      <td>3689,82</td>\n",
       "      <td>1</td>\n",
       "    </tr>\n",
       "    <tr>\n",
       "      <th>31491</th>\n",
       "      <td>2414,75</td>\n",
       "      <td>1</td>\n",
       "    </tr>\n",
       "    <tr>\n",
       "      <th>31492</th>\n",
       "      <td>8182</td>\n",
       "      <td>1</td>\n",
       "    </tr>\n",
       "    <tr>\n",
       "      <th>31493</th>\n",
       "      <td>12388,9</td>\n",
       "      <td>1</td>\n",
       "    </tr>\n",
       "    <tr>\n",
       "      <th>31494</th>\n",
       "      <td>3,34</td>\n",
       "      <td>1</td>\n",
       "    </tr>\n",
       "  </tbody>\n",
       "</table>\n",
       "<p>31495 rows × 2 columns</p>\n",
       "</div>"
      ],
      "text/plain": [
       "      Excesso Verificado     total\n",
       "0                      0  12979102\n",
       "1                   0.00   2664886\n",
       "2                      1   1841001\n",
       "3                    0.0   1746679\n",
       "4                      2   1572884\n",
       "...                  ...       ...\n",
       "31490            3689,82         1\n",
       "31491            2414,75         1\n",
       "31492               8182         1\n",
       "31493            12388,9         1\n",
       "31494               3,34         1\n",
       "\n",
       "[31495 rows x 2 columns]"
      ]
     },
     "execution_count": 20,
     "metadata": {},
     "output_type": "execute_result"
    }
   ],
   "source": [
    "# contanto valores de Excesso Verificado:\n",
    "query = \"\"\"\n",
    "SELECT \"Excesso Verificado\", COUNT(*) AS total\n",
    "FROM infracoes\n",
    "GROUP BY \"Excesso Verificado\"\n",
    "ORDER BY total DESC\n",
    "\"\"\"\n",
    "con.execute(query).fetchdf()"
   ]
  }
 ],
 "metadata": {
  "kernelspec": {
   "display_name": "Python 3",
   "language": "python",
   "name": "python3"
  },
  "language_info": {
   "codemirror_mode": {
    "name": "ipython",
    "version": 3
   },
   "file_extension": ".py",
   "mimetype": "text/x-python",
   "name": "python",
   "nbconvert_exporter": "python",
   "pygments_lexer": "ipython3",
   "version": "3.11.9"
  }
 },
 "nbformat": 4,
 "nbformat_minor": 5
}
